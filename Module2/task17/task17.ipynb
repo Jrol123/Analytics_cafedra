{
  "cells": [
    {
      "cell_type": "markdown",
      "metadata": {
        "id": "z22HWwyNWY8T"
      },
      "source": [
        "# Модуль 17. Практическая работа\n",
        "\n",
        "## Цели работы\n",
        "\n",
        "1. Познакомиться с фреймворком PyTorch, закрепить навыки из видео.\n",
        "1. Обучить простую полносвязную нейронную сеть, которая решает задачу регрессии.\n",
        "\n",
        "## Что нужно сделать\n",
        "\n",
        "1. Загрузите датасет `california_housing` из пакета `sklearn.datasets`.\n",
        "1. Разделите датасет на тренировочную и тестовую выборки. \n",
        "1. Реализуйте абстракцию доступа к тренировочным данным на основе `torch.utils.data.Dataset` и `torch.utils.data.DataLoader`. \n",
        "1. Соберите нейронную сеть из слоёв пакета torch.nn.\n",
        "1. Создайте экзепляры классов для функции потерь (`torch.nn.MSELoss`) и оптимизатора (`torch.optim.Adam`).\n",
        "1. Реализуйте тренировочный цикл.\n",
        "1. Вычислите значение функции потерь на тестовой выборке после каждой каждой эпохи и сохраните его в Python-список.\n",
        "1. После завершения тренировочного цикла нарисуйте график зависимости функции потерь на тестовой выборке от количества эпох обучения.\n",
        "\n",
        "## Что оценивается\n",
        "\n",
        "Это задание с самопроверкой, сдавать его не нужно. Просто сверьтесь с решением в конце ноутбука.\n",
        "\n",
        "## Информация о задаче\n",
        "\n",
        "### Описание датасета \n",
        "\n",
        "Набор данных, описывающий среднюю стоимость дома в округах Калифорнии. Целевая переменная — медианная стоимость дома в 100 000 долларов США в 1990 году, независимые переменные – характеристики дома:\n",
        "\n",
        "1. MedInc: медианный доход жильцов домов в квартале.\n",
        "1. HouseAge: средний возраст дома в квартале.\n",
        "1. AveRooms: среднее количество комнат.\n",
        "1. AveBedrms: среднее количество спален. \n",
        "1. Population: число жильцов в квартале.\n",
        "1. AveOccup: среднее число жильцов в квартире.\n",
        "1. Latitude: широта центра квартала.\n",
        "1. Longitude: долгота центра квартала.\n",
        "\n",
        "Данные в датасете имеют разный масштаб. Например, обычно количество комнат в доме невелико, а население в расчёте на группу домов (квартал) — велико. Более того, большинство признаков должны быть положительными, а долгота — отрицательной (потому что речь идёт о Калифорнии). \n",
        "\n",
        "### Порядок выполнения задания\n",
        "\n",
        "1. Ниже приведены семь ячеек с кодом, в котором есть недостающие фрагменты. \n",
        "1. Такие фрагменты выделены комментарием `# ВАШ КОД ЗДЕСЬ`. Ориентируйтесь на комментарии в коде. Они поясняют задания, где это необходимо. \n",
        "1. Заполните недостаюшие фрагменты так, чтобы семь ячеек, запущенные по порядку, приводили к обучению нейронной сети, которая решает задачу регрессии и предсказывает стоимость дома в Калифорнии по восьми характеристикам. Качество обучения контролируйте с помощью графика функции потерь на тестовой выборке, которая рассчитывается в конце каждой тренировочной эпохи. Если всё сделаете правильно, получится убывающий тренд: ошибка должна падать с ростом числа эпох. \n",
        "\n",
        "Опционально:\n",
        "\n",
        "1. Экспериментируйте. Меняйте гиперпараметры модели: архитектуру сети, размер батча, число эпох и learning rate. Если интересно, можете поменять оптимизатор. По-умолчанию используем [Adam](https://pytorch.org/docs/stable/generated/torch.optim.Adam.html) (вариация градиентного спуска, которая адаптивно подстраивает learning rate) – в этой задаче этот численный алгоритм хорошо работает и быстро сходится. Замените его на классический стохастический градиентный спуск [SGD](https://pytorch.org/docs/stable/generated/torch.optim.SGD.html), сходимость почти наверняка упадёт. Меняйте всё что хотите, наблюдайте, как это сказывается на качестве обучения. Так нарабатывается профессиональная интуиция и опыт.  \n",
        "1. Подумайте, как улучшить модель. Например, в описании датасета неспроста указано, что данные в нём разного масштаба. Попробуйте привести их к одному масштабу, проверьте сходимость обучения. Это должно сработать.   \n",
        "\n",
        "\n"
      ]
    },
    {
      "cell_type": "code",
      "execution_count": 1,
      "metadata": {
        "id": "1fyURDqAzt-6"
      },
      "outputs": [],
      "source": [
        "import numpy as np\n",
        "\n",
        "import torch\n",
        "from torch import nn\n",
        "from torch.utils.data import Dataset\n",
        "from torch.utils.data import DataLoader\n",
        "\n",
        "from sklearn.model_selection import train_test_split\n",
        "from sklearn.datasets import fetch_california_housing\n",
        "import matplotlib.pyplot as plt"
      ]
    },
    {
      "cell_type": "code",
      "execution_count": 2,
      "metadata": {
        "id": "DUp4FFOGz62s"
      },
      "outputs": [],
      "source": [
        "d = fetch_california_housing()\n",
        "X, y = d.data, d.target\n",
        "\n",
        "X_train, X_test, y_train, y_test = train_test_split(\n",
        "    X,\n",
        "    y,\n",
        "    train_size=0.8,\n",
        "    shuffle=True,\n",
        ")"
      ]
    },
    {
      "cell_type": "code",
      "execution_count": 3,
      "metadata": {
        "id": "ALqmjPtQ0e66"
      },
      "outputs": [],
      "source": [
        "class MyDataset(Dataset):\n",
        "    def __init__(self, X, y):\n",
        "        self.X = torch.from_numpy(X.astype(np.float32))\n",
        "        self.y = torch.from_numpy(y.astype(np.float32))\n",
        "\n",
        "    def __getitem__(self, index):\n",
        "        return self.X[index], self.y[index]\n",
        "\n",
        "    def __len__(self):\n",
        "        return self.X.shape[0]"
      ]
    },
    {
      "cell_type": "code",
      "execution_count": 4,
      "metadata": {},
      "outputs": [],
      "source": [
        "train_dataset = MyDataset(X_train, y_train)\n",
        "\n",
        "X_test_tensor = torch.from_numpy(X_test.astype(np.float32))\n",
        "y_test_tensor = torch.from_numpy(y_test.astype(np.float32))"
      ]
    },
    {
      "cell_type": "code",
      "execution_count": 5,
      "metadata": {
        "id": "004MOyn209Il"
      },
      "outputs": [],
      "source": [
        "batch_size = 128\n",
        "\n",
        "train_dataloader = DataLoader(\n",
        "    train_dataset,\n",
        "    batch_size=batch_size,\n",
        "    shuffle=True,\n",
        ")"
      ]
    },
    {
      "cell_type": "code",
      "execution_count": 6,
      "metadata": {
        "id": "azz4oXqs1y83"
      },
      "outputs": [],
      "source": [
        "class RegressionNet(nn.Module):\n",
        "    def __init__(self):\n",
        "        super().__init__()\n",
        "        self.hidden1 = nn.Linear(8, 24)\n",
        "        self.f1 = nn.ReLU()\n",
        "        self.hidden2 = nn.Linear(24, 12)\n",
        "        self.f2 = nn.ReLU()\n",
        "        self.hidden3 = nn.Linear(12, 6)\n",
        "        self.f3 = nn.ReLU()\n",
        "        self.output = nn.Linear(6, 1)\n",
        "\n",
        "    def forward(self, x):\n",
        "        x = self.f1(self.hidden1(x))\n",
        "        x = self.f2(self.hidden2(x))\n",
        "        x = self.f3(self.hidden3(x))\n",
        "        return self.output(x)"
      ]
    },
    {
      "cell_type": "code",
      "execution_count": 7,
      "metadata": {},
      "outputs": [
        {
          "data": {
            "text/plain": [
              "RegressionNet(\n",
              "  (hidden1): Linear(in_features=8, out_features=24, bias=True)\n",
              "  (f1): ReLU()\n",
              "  (hidden2): Linear(in_features=24, out_features=12, bias=True)\n",
              "  (f2): ReLU()\n",
              "  (hidden3): Linear(in_features=12, out_features=6, bias=True)\n",
              "  (f3): ReLU()\n",
              "  (output): Linear(in_features=6, out_features=1, bias=True)\n",
              ")"
            ]
          },
          "execution_count": 7,
          "metadata": {},
          "output_type": "execute_result"
        }
      ],
      "source": [
        "model = RegressionNet()\n",
        "\n",
        "model"
      ]
    },
    {
      "cell_type": "code",
      "execution_count": 8,
      "metadata": {
        "id": "k0piamN8K0wC"
      },
      "outputs": [
        {
          "name": "stdout",
          "output_type": "stream",
          "text": [
            "epoch 0 loss 1.3091394901275635\n",
            "epoch 1 loss 1.173697829246521\n",
            "epoch 2 loss 1.063349962234497\n",
            "epoch 3 loss 0.987321138381958\n",
            "epoch 4 loss 0.8622133135795593\n",
            "epoch 5 loss 0.7752825021743774\n",
            "epoch 6 loss 0.6752595901489258\n",
            "epoch 7 loss 0.7740073800086975\n",
            "epoch 8 loss 0.6260653734207153\n",
            "epoch 9 loss 0.7230019569396973\n",
            "epoch 10 loss 0.649320662021637\n",
            "epoch 11 loss 0.5998504161834717\n",
            "epoch 12 loss 0.6506361365318298\n",
            "epoch 13 loss 0.593064546585083\n",
            "epoch 14 loss 0.6147640943527222\n",
            "epoch 15 loss 0.6593611836433411\n",
            "epoch 16 loss 0.7015353441238403\n",
            "epoch 17 loss 0.7339640259742737\n",
            "epoch 18 loss 0.5695334672927856\n",
            "epoch 19 loss 0.579176127910614\n",
            "epoch 20 loss 0.5749473571777344\n",
            "epoch 21 loss 0.5574877262115479\n",
            "epoch 22 loss 0.5645219683647156\n",
            "epoch 23 loss 0.5538041591644287\n",
            "epoch 24 loss 0.6564038991928101\n",
            "epoch 25 loss 0.5370713472366333\n",
            "epoch 26 loss 0.5432561039924622\n",
            "epoch 27 loss 0.541417121887207\n",
            "epoch 28 loss 0.593482494354248\n",
            "epoch 29 loss 0.6096413135528564\n",
            "epoch 30 loss 0.5709723234176636\n",
            "epoch 31 loss 0.6042130589485168\n",
            "epoch 32 loss 0.5192292928695679\n",
            "epoch 33 loss 0.6727290749549866\n",
            "epoch 34 loss 0.5842280983924866\n",
            "epoch 35 loss 0.5314300656318665\n",
            "epoch 36 loss 0.520568311214447\n",
            "epoch 37 loss 0.7244110703468323\n",
            "epoch 38 loss 0.6015080213546753\n",
            "epoch 39 loss 0.5143741369247437\n",
            "epoch 40 loss 0.5320131778717041\n",
            "epoch 41 loss 0.49794521927833557\n",
            "epoch 42 loss 0.5013236403465271\n",
            "epoch 43 loss 0.4994291663169861\n",
            "epoch 44 loss 0.4942455589771271\n",
            "epoch 45 loss 0.4988570213317871\n",
            "epoch 46 loss 0.5107484459877014\n",
            "epoch 47 loss 0.5381211042404175\n",
            "epoch 48 loss 0.49515774846076965\n",
            "epoch 49 loss 0.5071471333503723\n",
            "epoch 50 loss 0.5120882987976074\n",
            "epoch 51 loss 0.4903433620929718\n",
            "epoch 52 loss 0.5158053040504456\n",
            "epoch 53 loss 0.5227407813072205\n",
            "epoch 54 loss 0.5878391861915588\n",
            "epoch 55 loss 0.7103807330131531\n",
            "epoch 56 loss 0.502427339553833\n",
            "epoch 57 loss 0.49932363629341125\n",
            "epoch 58 loss 0.49610474705696106\n",
            "epoch 59 loss 0.510910153388977\n",
            "epoch 60 loss 0.5049171447753906\n",
            "epoch 61 loss 0.49510058760643005\n",
            "epoch 62 loss 0.5227938890457153\n",
            "epoch 63 loss 0.5197953581809998\n",
            "epoch 64 loss 0.4895220398902893\n",
            "epoch 65 loss 0.49049922823905945\n",
            "epoch 66 loss 0.6402193307876587\n",
            "epoch 67 loss 0.5857403874397278\n",
            "epoch 68 loss 0.4785909950733185\n",
            "epoch 69 loss 0.4818821847438812\n",
            "epoch 70 loss 0.48623034358024597\n",
            "epoch 71 loss 0.5061064958572388\n",
            "epoch 72 loss 0.5354577302932739\n",
            "epoch 73 loss 0.48503899574279785\n",
            "epoch 74 loss 0.4838959872722626\n",
            "epoch 75 loss 0.4938300848007202\n",
            "epoch 76 loss 0.526830792427063\n",
            "epoch 77 loss 0.47518157958984375\n",
            "epoch 78 loss 0.4984550178050995\n",
            "epoch 79 loss 0.4855674207210541\n",
            "epoch 80 loss 0.49728628993034363\n",
            "epoch 81 loss 0.5307865142822266\n",
            "epoch 82 loss 0.4806492030620575\n",
            "epoch 83 loss 0.5607883930206299\n",
            "epoch 84 loss 0.4729938209056854\n",
            "epoch 85 loss 0.5866423845291138\n",
            "epoch 86 loss 0.4794558882713318\n",
            "epoch 87 loss 0.6173591613769531\n",
            "epoch 88 loss 0.4818061590194702\n",
            "epoch 89 loss 0.5019198656082153\n",
            "epoch 90 loss 0.4948730170726776\n",
            "epoch 91 loss 0.4914182424545288\n",
            "epoch 92 loss 0.48959872126579285\n",
            "epoch 93 loss 0.5144395232200623\n",
            "epoch 94 loss 0.4757366180419922\n",
            "epoch 95 loss 0.47725123167037964\n",
            "epoch 96 loss 0.504768431186676\n",
            "epoch 97 loss 0.4827362895011902\n",
            "epoch 98 loss 0.48704665899276733\n",
            "epoch 99 loss 0.4858095347881317\n"
          ]
        }
      ],
      "source": [
        "loss_fn = nn.MSELoss()\n",
        "\n",
        "optimizer = torch.optim.Adam(model.parameters(), lr=0.001)\n",
        "\n",
        "num_epochs = 100\n",
        "\n",
        "loss_train = []\n",
        "loss_test = []\n",
        "\n",
        "for i in range(num_epochs):\n",
        "    for X, y in train_dataloader:\n",
        "\n",
        "        pred = model(X)\n",
        "\n",
        "        loss = loss_fn(pred, y.unsqueeze(-1))\n",
        "\n",
        "        optimizer.zero_grad()\n",
        "\n",
        "        loss.backward()\n",
        "\n",
        "        optimizer.step()\n",
        "\n",
        "    with torch.no_grad():\n",
        "        loss = loss_fn(model(X_test_tensor), y_test_tensor.unsqueeze(-1)).item()\n",
        "        loss_test.append(loss)\n",
        "        print(f\"epoch {i} loss {loss}\")"
      ]
    },
    {
      "cell_type": "code",
      "execution_count": 9,
      "metadata": {
        "id": "BrRQHzHPPNpQ"
      },
      "outputs": [
        {
          "data": {
            "image/png": "[encoded data removed]",
            "text/plain": [
              "<Figure size 800x500 with 1 Axes>"
            ]
          },
          "metadata": {},
          "output_type": "display_data"
        }
      ],
      "source": [
        "step = np.arange(0, num_epochs)\n",
        "\n",
        "fig, ax = plt.subplots(figsize=(8, 5))\n",
        "\n",
        "# Рисуем зависимость ошибки от эпохи обучения\n",
        "plt.plot(step, np.array(loss_test))\n",
        "\n",
        "plt.title(\"Loss\")\n",
        "plt.xlabel(\"Epochs\")\n",
        "plt.ylabel(\"Loss\")\n",
        "plt.show()"
      ]
    },
    {
      "cell_type": "code",
      "execution_count": null,
      "metadata": {},
      "outputs": [],
      "source": []
    }
  ],
  "metadata": {
    "colab": {
      "provenance": []
    },
    "kernelspec": {
      "display_name": "Ananlyze",
      "language": "python",
      "name": "python3"
    },
    "language_info": {
      "codemirror_mode": {
        "name": "ipython",
        "version": 3
      },
      "file_extension": ".py",
      "mimetype": "text/x-python",
      "name": "python",
      "nbconvert_exporter": "python",
      "pygments_lexer": "ipython3",
      "version": "3.10.2"
    }
  },
  "nbformat": 4,
  "nbformat_minor": 0
}
