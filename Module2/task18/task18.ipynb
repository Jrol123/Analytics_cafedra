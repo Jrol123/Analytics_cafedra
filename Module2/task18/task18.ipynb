{
  "cells": [
    {
      "cell_type": "markdown",
      "id": "3fc2cf5e",
      "metadata": {
        "id": "3fc2cf5e"
      },
      "source": [
        "# Модуль 18. Практическая работа\n",
        "\n",
        "## Цели работы\n",
        "\n",
        "- Попрактиковаться в предобработке текстовых данных (токенизация, лемматизация, векторизация).\n",
        "\n",
        "- Построить две модели классификации с разными способами векторизации текстов (`CountVectorizer` и `TfIdfVectorizer`).\n",
        "- Сравнить качество моделей.\n",
        "\n",
        "## Что нужно сделать\n",
        "\n",
        "1. Загрузите датасет из файла, приложенного к заданию (`m18_jokes_dataset.csv`).\n",
        "\n",
        "1. Закодируйте целевую переменную с помощью `LabelEncoder`.\n",
        "1. Разделите выборку на тренировочную и тестовую.\n",
        "1. Используя знания из модуля, подготовьте функцию `preprocess`, которая:\n",
        "- удаляет стоп-слова в соответствии со списком `nltk.corpus.stopwords`;\n",
        "- приводит слова к нормальной форме с помощью `pymorphy2`.\n",
        "5. Создайте экзепляры векторизаторов `CountVectorizer` и `TfIdfVectorizer`. В качестве функции предобработки данных оба должны использовать функцию `preprocess`.\n",
        "\n",
        "1. Векторизуйте признаки тренировочной и тестовой выборок. Сохраните результаты `CountVectorizer` в `X_train_count` и `X_test_count`, а результаты `TfIdfVectorizer` – в `X_train_tfidf` и `X_test_tfidf`.\n",
        "1. Обучите две модели классификации, например `LinearSVC`.\n",
        "1. Оцените работу обеих моделей на тестовой выборке, используя `f1_score` с методом усреднения `macro` (параметр `average='macro'`) – это арифметическое среднее f1-метрик, рассчитанных для каждого класса. \n",
        "\n",
        "## Что оценивается\n",
        "\n",
        "- Все шаги выполнены правильно.\n",
        "\n",
        "- Код решения соответствует референсному коду, который есть у куратора. \n",
        "- Обучены две модели, которые используют текстовые данные, обработанные разными векторизаторами (`CountVectorizer` и `TfIdfVectorizer`). Для обеих моделей вычислен усреднённый `f1_score` (метод усреднения — `macro`). \n",
        "\n",
        "## Информация о задаче\n",
        "\n",
        "### Описание датасета\n",
        "\n",
        "`m18_jokes_dataset.csv` – датасет, подготовленный на основе датасета, размещённого [на kaggle](https://www.kaggle.com/datasets/konstantinalbul/russian-jokes). Наш датасет содержит две колонки:\n",
        "\n",
        "- **text** — текст анекдота (скорее всего, несмешного, но ваша задача не смеяться, а решить задачу классификации);\n",
        "\n",
        "- **theme** — категория, к которой относится шутка. \n",
        "\n",
        "Датасет содержит данные для задачи многоклассовой классификации. В отличие от оригинального датасета, в нашем классов меньше, зато они идеально сбалансированы: в каждом ровно тысяча примеров. Так вам будет проще сконцентрироваться на текстовых данных.\n",
        "\n",
        "### Порядок выполнения \n",
        "\n",
        "Напишите весь необходимый код в ячейках ниже.\n",
        "\n",
        "### Рекомендации\n",
        "\n",
        "- Обратите внимание, что модели sklearn (например, `LinearSVC`) умеют работать с разреженными матрицами (`scipy.sparse._csr.csr_matrix`), которые возвращают методы и `fit_transform` и `transform` векторизаторов `CountVectorizer` и `TfIdfVectorizer`.\n",
        "\n",
        "- Когда подготавливаете векторизатор, вызывайте `fit_transform` на тренировочной выборке, а потом `fit` на тестовой, примерно так:\n",
        "    > X_train_count = count_vectorizer.fit_transform(X_train)\n",
        "    >\n",
        "    > X_test_count = count_vectorizer.transform(X_test)\n",
        "\n",
        "Затем используйте полученные результаты для обучения и контроля моделей `sklearn`."
      ]
    },
    {
      "cell_type": "code",
      "execution_count": 1,
      "id": "398d32d2",
      "metadata": {
        "id": "398d32d2"
      },
      "outputs": [],
      "source": [
        "import pandas as pd\n",
        "import numpy as np\n",
        "from nltk.corpus import stopwords\n",
        "from nltk.tokenize import RegexpTokenizer\n",
        "import pymorphy2\n",
        "\n",
        "from sklearn.preprocessing import LabelEncoder\n",
        "from sklearn.svm import LinearSVC\n",
        "from sklearn.model_selection import train_test_split\n",
        "from sklearn.feature_extraction.text import TfidfVectorizer, CountVectorizer\n",
        "from sklearn.metrics import classification_report\n",
        "from sklearn.metrics import f1_score"
      ]
    },
    {
      "cell_type": "code",
      "execution_count": 2,
      "id": "6eeaa9ca",
      "metadata": {},
      "outputs": [
        {
          "data": {
            "application/vnd.microsoft.datawrangler.viewer.v0+json": {
              "columns": [
                {
                  "name": "index",
                  "rawType": "int64",
                  "type": "integer"
                },
                {
                  "name": "theme",
                  "rawType": "object",
                  "type": "string"
                },
                {
                  "name": "text",
                  "rawType": "object",
                  "type": "string"
                }
              ],
              "conversionMethod": "pd.DataFrame",
              "ref": "788cb7f4-e57b-49ea-8d3c-c4cb2eb7bab3",
              "rows": [
                [
                  "0",
                  "aforizmi",
                  "Почему удар в спину наносят те, кого,как правило, защищаешь грудью?\r\n\r\n\r\n"
                ],
                [
                  "1",
                  "aforizmi",
                  "Музы - пожалуй самые мудрые представительницы женского пола.\r\nОни приходят к нам сами, никогда не ревнуют и мгновенно исчезают\r\nпосле акта творчества, заставляя томиться ожиданием новой встречи.\r\n\r\n\r\n"
                ],
                [
                  "2",
                  "aforizmi",
                  "Тяжело бухать всю ночь, особенно если ночь полярная.\r\n\r\n\r\n"
                ],
                [
                  "3",
                  "aforizmi",
                  "ПОКУШЕНИЕ. НАЛИЧНОСТЬ.\r\n\r\n\r\n"
                ],
                [
                  "4",
                  "aforizmi",
                  "Когда медленно танцуешь, ничего не мешает...\r\n\r\n\r\n"
                ]
              ],
              "shape": {
                "columns": 2,
                "rows": 5
              }
            },
            "text/html": [
              "<div>\n",
              "<style scoped>\n",
              "    .dataframe tbody tr th:only-of-type {\n",
              "        vertical-align: middle;\n",
              "    }\n",
              "\n",
              "    .dataframe tbody tr th {\n",
              "        vertical-align: top;\n",
              "    }\n",
              "\n",
              "    .dataframe thead th {\n",
              "        text-align: right;\n",
              "    }\n",
              "</style>\n",
              "<table border=\"1\" class=\"dataframe\">\n",
              "  <thead>\n",
              "    <tr style=\"text-align: right;\">\n",
              "      <th></th>\n",
              "      <th>theme</th>\n",
              "      <th>text</th>\n",
              "    </tr>\n",
              "  </thead>\n",
              "  <tbody>\n",
              "    <tr>\n",
              "      <th>0</th>\n",
              "      <td>aforizmi</td>\n",
              "      <td>Почему удар в спину наносят те, кого,как прави...</td>\n",
              "    </tr>\n",
              "    <tr>\n",
              "      <th>1</th>\n",
              "      <td>aforizmi</td>\n",
              "      <td>Музы - пожалуй самые мудрые представительницы...</td>\n",
              "    </tr>\n",
              "    <tr>\n",
              "      <th>2</th>\n",
              "      <td>aforizmi</td>\n",
              "      <td>Тяжело бухать всю ночь, особенно если ночь пол...</td>\n",
              "    </tr>\n",
              "    <tr>\n",
              "      <th>3</th>\n",
              "      <td>aforizmi</td>\n",
              "      <td>ПОКУШЕНИЕ. НАЛИЧНОСТЬ.\\r\\n\\r\\n\\r\\n</td>\n",
              "    </tr>\n",
              "    <tr>\n",
              "      <th>4</th>\n",
              "      <td>aforizmi</td>\n",
              "      <td>Когда медленно танцуешь, ничего не мешает...\\r...</td>\n",
              "    </tr>\n",
              "  </tbody>\n",
              "</table>\n",
              "</div>"
            ],
            "text/plain": [
              "      theme                                               text\n",
              "0  aforizmi  Почему удар в спину наносят те, кого,как прави...\n",
              "1  aforizmi  Музы - пожалуй самые мудрые представительницы...\n",
              "2  aforizmi  Тяжело бухать всю ночь, особенно если ночь пол...\n",
              "3  aforizmi                 ПОКУШЕНИЕ. НАЛИЧНОСТЬ.\\r\\n\\r\\n\\r\\n\n",
              "4  aforizmi  Когда медленно танцуешь, ничего не мешает...\\r..."
            ]
          },
          "execution_count": 2,
          "metadata": {},
          "output_type": "execute_result"
        }
      ],
      "source": [
        "df = pd.read_csv(\"m18_jokes_dataset.csv\")\n",
        "\n",
        "df.head()"
      ]
    },
    {
      "cell_type": "code",
      "execution_count": 3,
      "id": "dc93867f",
      "metadata": {},
      "outputs": [
        {
          "data": {
            "text/plain": [
              "theme\n",
              "aforizmi                 1000\n",
              "meditsinskie             1000\n",
              "narodnie                 1000\n",
              "poshlie-i-intimnie       1000\n",
              "pro-alkogolikov          1000\n",
              "pro-armiu                1000\n",
              "pro-detey                1000\n",
              "pro-evreev               1000\n",
              "pro-militsiyu            1000\n",
              "pro-mugchin              1000\n",
              "pro-novih-russkih        1000\n",
              "pro-semyu                1000\n",
              "pro-studentov            1000\n",
              "pro-vovochku             1000\n",
              "raznie                   1000\n",
              "shkolnie-i-pro-shkolu    1000\n",
              "tsitati                  1000\n",
              "dtype: int64"
            ]
          },
          "execution_count": 3,
          "metadata": {},
          "output_type": "execute_result"
        }
      ],
      "source": [
        "# Датасет идеально сбалансирован\n",
        "df.groupby(\"theme\").size()"
      ]
    },
    {
      "cell_type": "code",
      "execution_count": 4,
      "id": "e8846ffb",
      "metadata": {},
      "outputs": [
        {
          "data": {
            "application/vnd.microsoft.datawrangler.viewer.v0+json": {
              "columns": [
                {
                  "name": "index",
                  "rawType": "int64",
                  "type": "integer"
                },
                {
                  "name": "theme",
                  "rawType": "int32",
                  "type": "integer"
                },
                {
                  "name": "text",
                  "rawType": "object",
                  "type": "string"
                }
              ],
              "conversionMethod": "pd.DataFrame",
              "ref": "f94077a0-c408-4087-82da-85a1666b96c5",
              "rows": [
                [
                  "16",
                  "0",
                  "Если хочешь больше, чем можешь - не имеешь и того, что можешь.\r\n\r\n\r\n"
                ],
                [
                  "15650",
                  "15",
                  "Одна тетка как-то решила завести попугая. Пошла в зоомагазин, и\r\nувидела там большую и очень красивую птицу. Спрашивает у продавца:\r\n- Почем этот попугай?\r\n- 50 долларов.\r\n- Как, за такого прекрасного попугая всего 50 долларов?\r\n- Да видите ли, он раньше в публичном доме жил, и такое сказануть\r\nможет... Мы уж его несколько раз продавали; все обратно приносят.\r\nПрямо не знаем, что делать с ним.\r\nТетка подумала, и решила, что уж она-то как-нибудь справится. Купила\r\nпопугая, принесла домой. Он говорит:\r\n- Новый дом, новая мадам.\r\nНу, тетка думает, это ничего. Тут возвращаются из школы две\r\nее дочери. Попугай говорит:\r\n- Новый дом, новая мадам, новые шлюхи.\r\nНу они сначала немного обиделись, но мать им все объяснила, и они\r\nвместе посмеялись. А тут и муж с работы возвращается. Попугай\r\nговорит:\r\n- Новый дом, новая мадам, новые шлюхи. Вася, привет!\r\n\r\n"
                ],
                [
                  "4262",
                  "4",
                  "На фразу \"Да ты же будешь в зюзю пьяный!\" надо возражать так:\r\n1) да, туда я еще могу. Даже пьяный.\r\n2) А Взюзю никто трезвый и не будет!\r\n\r\n\r\n"
                ],
                [
                  "13550",
                  "13",
                  "Вовочка спрашивает у мамы:\r\n- Мам, что за рыба \"маникюрша\"?\r\n- Откуда ты взял, что это рыба?\r\n- Да папа звонил по телефону дяде Коле и рассказывал, что вчера\r\nна рыбалке всю ночь жарил маникюршу!\r\n"
                ],
                [
                  "8991",
                  "8",
                  "(Litz): недавно понял, что помимо материнской платы есть ещё и отцовская плата.(Litz): алименты называется.\r\n\r\n"
                ]
              ],
              "shape": {
                "columns": 2,
                "rows": 5
              }
            },
            "text/html": [
              "<div>\n",
              "<style scoped>\n",
              "    .dataframe tbody tr th:only-of-type {\n",
              "        vertical-align: middle;\n",
              "    }\n",
              "\n",
              "    .dataframe tbody tr th {\n",
              "        vertical-align: top;\n",
              "    }\n",
              "\n",
              "    .dataframe thead th {\n",
              "        text-align: right;\n",
              "    }\n",
              "</style>\n",
              "<table border=\"1\" class=\"dataframe\">\n",
              "  <thead>\n",
              "    <tr style=\"text-align: right;\">\n",
              "      <th></th>\n",
              "      <th>theme</th>\n",
              "      <th>text</th>\n",
              "    </tr>\n",
              "  </thead>\n",
              "  <tbody>\n",
              "    <tr>\n",
              "      <th>16</th>\n",
              "      <td>0</td>\n",
              "      <td>Если хочешь больше, чем можешь - не имеешь и т...</td>\n",
              "    </tr>\n",
              "    <tr>\n",
              "      <th>15650</th>\n",
              "      <td>15</td>\n",
              "      <td>Одна тетка как-то решила завести попугая. Пошл...</td>\n",
              "    </tr>\n",
              "    <tr>\n",
              "      <th>4262</th>\n",
              "      <td>4</td>\n",
              "      <td>На фразу \"Да ты же будешь в зюзю пьяный!\" над...</td>\n",
              "    </tr>\n",
              "    <tr>\n",
              "      <th>13550</th>\n",
              "      <td>13</td>\n",
              "      <td>Вовочка спрашивает у мамы:\\r\\n- Мам, что за ры...</td>\n",
              "    </tr>\n",
              "    <tr>\n",
              "      <th>8991</th>\n",
              "      <td>8</td>\n",
              "      <td>(Litz): недавно понял, что помимо материнской...</td>\n",
              "    </tr>\n",
              "  </tbody>\n",
              "</table>\n",
              "</div>"
            ],
            "text/plain": [
              "       theme                                               text\n",
              "16         0  Если хочешь больше, чем можешь - не имеешь и т...\n",
              "15650     15  Одна тетка как-то решила завести попугая. Пошл...\n",
              "4262       4  На фразу \"Да ты же будешь в зюзю пьяный!\" над...\n",
              "13550     13  Вовочка спрашивает у мамы:\\r\\n- Мам, что за ры...\n",
              "8991       8  (Litz): недавно понял, что помимо материнской..."
            ]
          },
          "execution_count": 4,
          "metadata": {},
          "output_type": "execute_result"
        }
      ],
      "source": [
        "label_encoder = LabelEncoder()\n",
        "df[\"theme\"] = label_encoder.fit_transform(df[\"theme\"])\n",
        "df.sample(5)"
      ]
    },
    {
      "cell_type": "code",
      "execution_count": 5,
      "id": "c16a14e1",
      "metadata": {},
      "outputs": [],
      "source": [
        "X, y = df[\"text\"], df[\"theme\"]\n",
        "\n",
        "X_train, X_test, y_train, y_test = train_test_split(X, y, test_size=0.2)"
      ]
    },
    {
      "cell_type": "code",
      "execution_count": 6,
      "id": "a86b7e71",
      "metadata": {},
      "outputs": [],
      "source": [
        "tokenizer = RegexpTokenizer(\"\\w+\")\n",
        "russian_stopwords = stopwords.words(\"russian\")\n",
        "morph = pymorphy2.MorphAnalyzer()\n",
        "\n",
        "\n",
        "def preprocess(text):\n",
        "    stemmed_words = []\n",
        "    for word in tokenizer.tokenize(text):\n",
        "        word = word.lower()\n",
        "        if word not in russian_stopwords:\n",
        "            stemmed_words.append(morph.parse(word)[0].normal_form)\n",
        "    return \" \".join(stemmed_words)"
      ]
    },
    {
      "cell_type": "code",
      "execution_count": 7,
      "id": "be091944",
      "metadata": {},
      "outputs": [],
      "source": [
        "count_vectorizer = CountVectorizer(preprocessor=preprocess)\n",
        "\n",
        "tfidf_vectorizer = TfidfVectorizer(preprocessor=preprocess)"
      ]
    },
    {
      "cell_type": "code",
      "execution_count": 8,
      "id": "4da25272",
      "metadata": {},
      "outputs": [
        {
          "name": "stdout",
          "output_type": "stream",
          "text": [
            "CPU times: total: 54 s\n",
            "Wall time: 50.7 s\n"
          ]
        }
      ],
      "source": [
        "%%time\n",
        "\n",
        "X_train_count = count_vectorizer.fit_transform(X_train)\n",
        "X_test_count = count_vectorizer.transform(X_test)"
      ]
    },
    {
      "cell_type": "code",
      "execution_count": 9,
      "id": "5da6e29b",
      "metadata": {},
      "outputs": [
        {
          "name": "stdout",
          "output_type": "stream",
          "text": [
            "CPU times: total: 54.7 s\n",
            "Wall time: 51.8 s\n"
          ]
        }
      ],
      "source": [
        "%%time\n",
        "\n",
        "X_train_tfidf = tfidf_vectorizer.fit_transform(X_train)\n",
        "X_test_tfidf = tfidf_vectorizer.transform(X_test)"
      ]
    },
    {
      "cell_type": "code",
      "execution_count": 10,
      "id": "4b905d87",
      "metadata": {},
      "outputs": [
        {
          "name": "stdout",
          "output_type": "stream",
          "text": [
            "              precision    recall  f1-score   support\n",
            "\n",
            "           0       0.37      0.61      0.46       199\n",
            "           1       0.56      0.54      0.55       210\n",
            "           2       0.51      0.43      0.47       200\n",
            "           3       0.40      0.42      0.41       200\n",
            "           4       0.90      0.89      0.90       212\n",
            "           5       0.62      0.65      0.64       197\n",
            "           6       0.95      0.94      0.94       204\n",
            "           7       0.83      0.79      0.81       185\n",
            "           8       0.89      0.72      0.80       206\n",
            "           9       0.27      0.28      0.27       195\n",
            "          10       0.82      0.85      0.83       213\n",
            "          11       0.44      0.50      0.47       202\n",
            "          12       0.72      0.75      0.73       201\n",
            "          13       0.91      0.86      0.88       209\n",
            "          14       0.14      0.12      0.13       207\n",
            "          15       0.95      0.89      0.92       179\n",
            "          16       0.56      0.36      0.44       181\n",
            "\n",
            "    accuracy                           0.63      3400\n",
            "   macro avg       0.64      0.62      0.63      3400\n",
            "weighted avg       0.64      0.63      0.63      3400\n",
            "\n"
          ]
        }
      ],
      "source": [
        "svc_count = LinearSVC(max_iter=10000)\n",
        "\n",
        "svc_count.fit(X_train_count, y_train)\n",
        "\n",
        "y_pred_count = svc_count.predict(X_test_count)\n",
        "\n",
        "print(classification_report(y_test, y_pred_count))"
      ]
    },
    {
      "cell_type": "code",
      "execution_count": 11,
      "id": "35db1ffd",
      "metadata": {},
      "outputs": [
        {
          "data": {
            "text/plain": [
              "0.6266140496771212"
            ]
          },
          "execution_count": 11,
          "metadata": {},
          "output_type": "execute_result"
        }
      ],
      "source": [
        "f1_score(y_test, y_pred_count, average='macro')"
      ]
    },
    {
      "cell_type": "code",
      "execution_count": 12,
      "id": "2f1466f6",
      "metadata": {},
      "outputs": [
        {
          "name": "stdout",
          "output_type": "stream",
          "text": [
            "              precision    recall  f1-score   support\n",
            "\n",
            "           0       0.38      0.44      0.41       199\n",
            "           1       0.64      0.66      0.65       210\n",
            "           2       0.54      0.51      0.52       200\n",
            "           3       0.42      0.53      0.47       200\n",
            "           4       0.89      0.91      0.90       212\n",
            "           5       0.71      0.75      0.73       197\n",
            "           6       0.92      0.95      0.93       204\n",
            "           7       0.82      0.84      0.83       185\n",
            "           8       0.87      0.76      0.81       206\n",
            "           9       0.36      0.30      0.33       195\n",
            "          10       0.78      0.90      0.84       213\n",
            "          11       0.46      0.49      0.47       202\n",
            "          12       0.76      0.79      0.77       201\n",
            "          13       0.88      0.87      0.88       209\n",
            "          14       0.17      0.12      0.14       207\n",
            "          15       0.96      0.87      0.91       179\n",
            "          16       0.54      0.51      0.53       181\n",
            "\n",
            "    accuracy                           0.66      3400\n",
            "   macro avg       0.65      0.66      0.65      3400\n",
            "weighted avg       0.65      0.66      0.65      3400\n",
            "\n",
            "CPU times: total: 359 ms\n",
            "Wall time: 460 ms\n"
          ]
        }
      ],
      "source": [
        "%%time\n",
        "\n",
        "svc_tfidf = LinearSVC(max_iter=10000)\n",
        "\n",
        "svc_tfidf.fit(X_train_tfidf, y_train)\n",
        "\n",
        "y_pred_tfidf = svc_tfidf.predict(X_test_tfidf)\n",
        "\n",
        "print(classification_report(y_test, y_pred_tfidf))"
      ]
    },
    {
      "cell_type": "code",
      "execution_count": 13,
      "id": "c6e05c25",
      "metadata": {},
      "outputs": [
        {
          "data": {
            "text/plain": [
              "0.6533412680920231"
            ]
          },
          "execution_count": 13,
          "metadata": {},
          "output_type": "execute_result"
        }
      ],
      "source": [
        "f1_score(y_test, y_pred_tfidf, average='macro')"
      ]
    }
  ],
  "metadata": {
    "colab": {
      "provenance": []
    },
    "kernelspec": {
      "display_name": "Ananlyze",
      "language": "python",
      "name": "python3"
    },
    "language_info": {
      "codemirror_mode": {
        "name": "ipython",
        "version": 3
      },
      "file_extension": ".py",
      "mimetype": "text/x-python",
      "name": "python",
      "nbconvert_exporter": "python",
      "pygments_lexer": "ipython3",
      "version": "3.10.2"
    }
  },
  "nbformat": 4,
  "nbformat_minor": 5
}
