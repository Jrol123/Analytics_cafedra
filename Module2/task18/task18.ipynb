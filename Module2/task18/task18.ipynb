{
  "cells": [
    {
      "cell_type": "markdown",
      "id": "3fc2cf5e",
      "metadata": {
        "id": "3fc2cf5e"
      },
      "source": [
        "# Модуль 18. Практическая работа\n",
        "\n",
        "## Цели работы\n",
        "\n",
        "- Попрактиковаться в предобработке текстовых данных (токенизация, лемматизация, векторизация).\n",
        "\n",
        "- Построить две модели классификации с разными способами векторизации текстов (`CountVectorizer` и `TfIdfVectorizer`).\n",
        "- Сравнить качество моделей.\n",
        "\n",
        "## Что нужно сделать\n",
        "\n",
        "1. Загрузите датасет из файла, приложенного к заданию (`m18_jokes_dataset.csv`).\n",
        "\n",
        "1. Закодируйте целевую переменную с помощью `LabelEncoder`.\n",
        "1. Разделите выборку на тренировочную и тестовую.\n",
        "1. Используя знания из модуля, подготовьте функцию `preprocess`, которая:\n",
        "- удаляет стоп-слова в соответствии со списком `nltk.corpus.stopwords`;\n",
        "- приводит слова к нормальной форме с помощью `pymorphy2`.\n",
        "5. Создайте экзепляры векторизаторов `CountVectorizer` и `TfIdfVectorizer`. В качестве функции предобработки данных оба должны использовать функцию `preprocess`.\n",
        "\n",
        "1. Векторизуйте признаки тренировочной и тестовой выборок. Сохраните результаты `CountVectorizer` в `X_train_count` и `X_test_count`, а результаты `TfIdfVectorizer` – в `X_train_tfidf` и `X_test_tfidf`.\n",
        "1. Обучите две модели классификации, например `LinearSVC`.\n",
        "1. Оцените работу обеих моделей на тестовой выборке, используя `f1_score` с методом усреднения `macro` (параметр `average='macro'`) – это арифметическое среднее f1-метрик, рассчитанных для каждого класса. \n",
        "\n",
        "## Что оценивается\n",
        "\n",
        "- Все шаги выполнены правильно.\n",
        "\n",
        "- Код решения соответствует референсному коду, который есть у куратора. \n",
        "- Обучены две модели, которые используют текстовые данные, обработанные разными векторизаторами (`CountVectorizer` и `TfIdfVectorizer`). Для обеих моделей вычислен усреднённый `f1_score` (метод усреднения — `macro`). \n",
        "\n",
        "## Информация о задаче\n",
        "\n",
        "### Описание датасета\n",
        "\n",
        "`m18_jokes_dataset.csv` – датасет, подготовленный на основе датасета, размещённого [на kaggle](https://www.kaggle.com/datasets/konstantinalbul/russian-jokes). Наш датасет содержит две колонки:\n",
        "\n",
        "- **text** — текст анекдота (скорее всего, несмешного, но ваша задача не смеяться, а решить задачу классификации);\n",
        "\n",
        "- **theme** — категория, к которой относится шутка. \n",
        "\n",
        "Датасет содержит данные для задачи многоклассовой классификации. В отличие от оригинального датасета, в нашем классов меньше, зато они идеально сбалансированы: в каждом ровно тысяча примеров. Так вам будет проще сконцентрироваться на текстовых данных.\n",
        "\n",
        "### Порядок выполнения \n",
        "\n",
        "Напишите весь необходимый код в ячейках ниже.\n",
        "\n",
        "### Рекомендации\n",
        "\n",
        "- Обратите внимание, что модели sklearn (например, `LinearSVC`) умеют работать с разреженными матрицами (`scipy.sparse._csr.csr_matrix`), которые возвращают методы и `fit_transform` и `transform` векторизаторов `CountVectorizer` и `TfIdfVectorizer`.\n",
        "\n",
        "- Когда подготавливаете векторизатор, вызывайте `fit_transform` на тренировочной выборке, а потом `fit` на тестовой, примерно так:\n",
        "    > X_train_count = count_vectorizer.fit_transform(X_train)\n",
        "    >\n",
        "    > X_test_count = count_vectorizer.transform(X_test)\n",
        "\n",
        "Затем используйте полученные результаты для обучения и контроля моделей `sklearn`."
      ]
    },
    {
      "cell_type": "code",
      "execution_count": 1,
      "id": "398d32d2",
      "metadata": {
        "id": "398d32d2"
      },
      "outputs": [],
      "source": [
        "import pandas as pd\n",
        "import numpy as np\n",
        "from nltk.corpus import stopwords\n",
        "from nltk.tokenize import RegexpTokenizer\n",
        "import pymorphy2\n",
        "\n",
        "from sklearn.preprocessing import LabelEncoder\n",
        "from sklearn.svm import LinearSVC\n",
        "from sklearn.model_selection import train_test_split\n",
        "from sklearn.feature_extraction.text import TfidfVectorizer, CountVectorizer\n",
        "from sklearn.metrics import classification_report\n",
        "from sklearn.metrics import f1_score"
      ]
    },
    {
      "cell_type": "code",
      "execution_count": 2,
      "id": "6eeaa9ca",
      "metadata": {},
      "outputs": [
        {
          "data": {
            "application/vnd.microsoft.datawrangler.viewer.v0+json": {
              "columns": [
                {
                  "name": "index",
                  "rawType": "int64",
                  "type": "integer"
                },
                {
                  "name": "theme",
                  "rawType": "object",
                  "type": "string"
                },
                {
                  "name": "text",
                  "rawType": "object",
                  "type": "string"
                }
              ],
              "conversionMethod": "pd.DataFrame",
              "ref": "04087abc-c990-42b1-b811-2b51a97806c1",
              "rows": [
                [
                  "0",
                  "aforizmi",
                  "Почему удар в спину наносят те, кого,как правило, защищаешь грудью?\r\n\r\n\r\n"
                ],
                [
                  "1",
                  "aforizmi",
                  "Музы - пожалуй самые мудрые представительницы женского пола.\r\nОни приходят к нам сами, никогда не ревнуют и мгновенно исчезают\r\nпосле акта творчества, заставляя томиться ожиданием новой встречи.\r\n\r\n\r\n"
                ],
                [
                  "2",
                  "aforizmi",
                  "Тяжело бухать всю ночь, особенно если ночь полярная.\r\n\r\n\r\n"
                ],
                [
                  "3",
                  "aforizmi",
                  "ПОКУШЕНИЕ. НАЛИЧНОСТЬ.\r\n\r\n\r\n"
                ],
                [
                  "4",
                  "aforizmi",
                  "Когда медленно танцуешь, ничего не мешает...\r\n\r\n\r\n"
                ]
              ],
              "shape": {
                "columns": 2,
                "rows": 5
              }
            },
            "text/html": [
              "<div>\n",
              "<style scoped>\n",
              "    .dataframe tbody tr th:only-of-type {\n",
              "        vertical-align: middle;\n",
              "    }\n",
              "\n",
              "    .dataframe tbody tr th {\n",
              "        vertical-align: top;\n",
              "    }\n",
              "\n",
              "    .dataframe thead th {\n",
              "        text-align: right;\n",
              "    }\n",
              "</style>\n",
              "<table border=\"1\" class=\"dataframe\">\n",
              "  <thead>\n",
              "    <tr style=\"text-align: right;\">\n",
              "      <th></th>\n",
              "      <th>theme</th>\n",
              "      <th>text</th>\n",
              "    </tr>\n",
              "  </thead>\n",
              "  <tbody>\n",
              "    <tr>\n",
              "      <th>0</th>\n",
              "      <td>aforizmi</td>\n",
              "      <td>Почему удар в спину наносят те, кого,как прави...</td>\n",
              "    </tr>\n",
              "    <tr>\n",
              "      <th>1</th>\n",
              "      <td>aforizmi</td>\n",
              "      <td>Музы - пожалуй самые мудрые представительницы...</td>\n",
              "    </tr>\n",
              "    <tr>\n",
              "      <th>2</th>\n",
              "      <td>aforizmi</td>\n",
              "      <td>Тяжело бухать всю ночь, особенно если ночь пол...</td>\n",
              "    </tr>\n",
              "    <tr>\n",
              "      <th>3</th>\n",
              "      <td>aforizmi</td>\n",
              "      <td>ПОКУШЕНИЕ. НАЛИЧНОСТЬ.\\r\\n\\r\\n\\r\\n</td>\n",
              "    </tr>\n",
              "    <tr>\n",
              "      <th>4</th>\n",
              "      <td>aforizmi</td>\n",
              "      <td>Когда медленно танцуешь, ничего не мешает...\\r...</td>\n",
              "    </tr>\n",
              "  </tbody>\n",
              "</table>\n",
              "</div>"
            ],
            "text/plain": [
              "      theme                                               text\n",
              "0  aforizmi  Почему удар в спину наносят те, кого,как прави...\n",
              "1  aforizmi  Музы - пожалуй самые мудрые представительницы...\n",
              "2  aforizmi  Тяжело бухать всю ночь, особенно если ночь пол...\n",
              "3  aforizmi                 ПОКУШЕНИЕ. НАЛИЧНОСТЬ.\\r\\n\\r\\n\\r\\n\n",
              "4  aforizmi  Когда медленно танцуешь, ничего не мешает...\\r..."
            ]
          },
          "execution_count": 2,
          "metadata": {},
          "output_type": "execute_result"
        }
      ],
      "source": [
        "df = pd.read_csv(\"m18_jokes_dataset.csv\")\n",
        "\n",
        "df.head()"
      ]
    },
    {
      "cell_type": "code",
      "execution_count": 3,
      "id": "dc93867f",
      "metadata": {},
      "outputs": [
        {
          "data": {
            "text/plain": [
              "theme\n",
              "aforizmi                 1000\n",
              "meditsinskie             1000\n",
              "narodnie                 1000\n",
              "poshlie-i-intimnie       1000\n",
              "pro-alkogolikov          1000\n",
              "pro-armiu                1000\n",
              "pro-detey                1000\n",
              "pro-evreev               1000\n",
              "pro-militsiyu            1000\n",
              "pro-mugchin              1000\n",
              "pro-novih-russkih        1000\n",
              "pro-semyu                1000\n",
              "pro-studentov            1000\n",
              "pro-vovochku             1000\n",
              "raznie                   1000\n",
              "shkolnie-i-pro-shkolu    1000\n",
              "tsitati                  1000\n",
              "dtype: int64"
            ]
          },
          "execution_count": 3,
          "metadata": {},
          "output_type": "execute_result"
        }
      ],
      "source": [
        "# Датасет идеально сбалансирован\n",
        "df.groupby(\"theme\").size()"
      ]
    },
    {
      "cell_type": "code",
      "execution_count": 4,
      "id": "e8846ffb",
      "metadata": {},
      "outputs": [
        {
          "data": {
            "application/vnd.microsoft.datawrangler.viewer.v0+json": {
              "columns": [
                {
                  "name": "index",
                  "rawType": "int64",
                  "type": "integer"
                },
                {
                  "name": "theme",
                  "rawType": "int32",
                  "type": "integer"
                },
                {
                  "name": "text",
                  "rawType": "object",
                  "type": "string"
                }
              ],
              "conversionMethod": "pd.DataFrame",
              "ref": "5d0c44ca-1ed7-4ffd-ad4f-077cb64ad8e0",
              "rows": [
                [
                  "5374",
                  "5",
                  "Ежемесячный журнал \"СОЛДАТ\"\r\nСтатья по обучению метания гранаты:\r\n1. Заходим в окоп\r\n2.берем гранату\r\n3. Зажимаем в ладони\r\n4.Отрываем кольцо\r\nПродолжение в следующем номере\r\n\r\n"
                ],
                [
                  "8695",
                  "8",
                  "181.медкомиссия обследует идиота:\r\n- ваше имя?\r\n- бэээ...\r\n- фамилия?\r\n- мэээ...\r\n- а какой сейчас год?\r\n- юбилейный.\r\n182.вступительный экзамен по истории в университете.\r\n- какой в этом году юбилей?\r\n- не знаю.\r\n- вы что, не читаете газет, не слушаете радио?\r\n- в нашем городе нет ни газет, ни радио.\r\n- да из какого же это города вы приехали?\r\n- из мухосранска.\r\nпрофессор - доценту (тихо):\r\n- а помните, мы как раз недавно обсуждали, куда бы нам\r\nпоехать на лето?\r\n183.на колхозном собрании в юбилейный год:\r\n- за отличную работу в поле товарищ иванова награждается\r\nмешком зерна! (аплодисменты).\r\n- за отличную работу на ферме товарищ петрова награждается\r\nмешком картошки! (аплодисменты).\r\n- за отличную общественную работу товарищ сидорова\r\nнаграждается полным собранием сочинений ленина! (аплодисменты,\r\nсмех, возгласы: \"так ей, б..., и надо!\")\r\n184.команда с затонувшего советского корабл& попала в плен людоедам, и те собираются ее с\"есть.\r\n- товарищи людоеды! - говорит капитан. - у вас была\r\nколлективизация?\r\n- нет.\r\n- а культ личности?\r\n- нет.\r\n- а празднование ленинского юбилея?\r\n- нет.\r\n- так чего ж вы так озверели?\r\n185.конкурс на лучший политический анекдот в честь ленинского\r\nюбилея.\r\n3-я премия - 3 года общего режима.\r\n2-я премия - 7 лет строгого режима плюс пять лет по ленинским\r\nместам.\r\n1-я премия - встреча с юбиляром.\r\n"
                ],
                [
                  "12465",
                  "12",
                  "Два препода в столовке. Один что-то режет ножом и вдруг его роняет.\r\n1-й: О, кто-то придет!\r\n2-й: А нож тупой?\r\n1-й: Тупой.\r\n2-й: Значит, опять студент на пересдачу...\r\n\r\n"
                ],
                [
                  "6493",
                  "6",
                  "Воспитательница повела детей на экскуpсию на стpойку. Когда они туда пpишли.\r\nвоспитательница сказала:\r\n- Дети, наденьте все каски, а то был такой случай: мальчик с девочкой пpишли\r\nна стpойку, девочка одела каску, а мальчик нет, им на голову упало киpпичу. Мальчик умеp, а девочка только засмеялась и убежала.\r\nВовочка:\r\n- А я знаю эту девочку, она до сих поp бегает в каске и смеется.\r\n"
                ],
                [
                  "9403",
                  "9",
                  "- Инспектор! Не мог я превысить скорость!- Как вы это докажите?- Я еду к своей тёще!\r\n"
                ]
              ],
              "shape": {
                "columns": 2,
                "rows": 5
              }
            },
            "text/html": [
              "<div>\n",
              "<style scoped>\n",
              "    .dataframe tbody tr th:only-of-type {\n",
              "        vertical-align: middle;\n",
              "    }\n",
              "\n",
              "    .dataframe tbody tr th {\n",
              "        vertical-align: top;\n",
              "    }\n",
              "\n",
              "    .dataframe thead th {\n",
              "        text-align: right;\n",
              "    }\n",
              "</style>\n",
              "<table border=\"1\" class=\"dataframe\">\n",
              "  <thead>\n",
              "    <tr style=\"text-align: right;\">\n",
              "      <th></th>\n",
              "      <th>theme</th>\n",
              "      <th>text</th>\n",
              "    </tr>\n",
              "  </thead>\n",
              "  <tbody>\n",
              "    <tr>\n",
              "      <th>5374</th>\n",
              "      <td>5</td>\n",
              "      <td>Ежемесячный журнал \"СОЛДАТ\"\\r\\nСтатья по обуч...</td>\n",
              "    </tr>\n",
              "    <tr>\n",
              "      <th>8695</th>\n",
              "      <td>8</td>\n",
              "      <td>181.медкомиссия обследует идиота:\\r\\n- ваше им...</td>\n",
              "    </tr>\n",
              "    <tr>\n",
              "      <th>12465</th>\n",
              "      <td>12</td>\n",
              "      <td>Два препода в столовке. Один что-то режет ножо...</td>\n",
              "    </tr>\n",
              "    <tr>\n",
              "      <th>6493</th>\n",
              "      <td>6</td>\n",
              "      <td>Воспитательница повела детей на экскуpсию на ...</td>\n",
              "    </tr>\n",
              "    <tr>\n",
              "      <th>9403</th>\n",
              "      <td>9</td>\n",
              "      <td>- Инспектор! Не мог я превысить скорость!- Как...</td>\n",
              "    </tr>\n",
              "  </tbody>\n",
              "</table>\n",
              "</div>"
            ],
            "text/plain": [
              "       theme                                               text\n",
              "5374       5  Ежемесячный журнал \"СОЛДАТ\"\\r\\nСтатья по обуч...\n",
              "8695       8  181.медкомиссия обследует идиота:\\r\\n- ваше им...\n",
              "12465     12  Два препода в столовке. Один что-то режет ножо...\n",
              "6493       6  Воспитательница повела детей на экскуpсию на ...\n",
              "9403       9  - Инспектор! Не мог я превысить скорость!- Как..."
            ]
          },
          "execution_count": 4,
          "metadata": {},
          "output_type": "execute_result"
        }
      ],
      "source": [
        "label_encoder = LabelEncoder()\n",
        "df[\"theme\"] = label_encoder.fit_transform(df[\"theme\"])\n",
        "df.sample(5)"
      ]
    },
    {
      "cell_type": "code",
      "execution_count": 5,
      "id": "c16a14e1",
      "metadata": {},
      "outputs": [],
      "source": [
        "X, y = df[\"text\"], df[\"theme\"]\n",
        "\n",
        "X_train, X_test, y_train, y_test = train_test_split(X, y, test_size=0.2)"
      ]
    },
    {
      "cell_type": "code",
      "execution_count": null,
      "id": "a86b7e71",
      "metadata": {},
      "outputs": [],
      "source": [
        "tokenizer = RegexpTokenizer(\"\\w+\")\n",
        "russian_stopwords = stopwords.words(\"russian\")\n",
        "morph = pymorphy2.MorphAnalyzer()\n",
        "\n",
        "\n",
        "def preprocess(text):\n",
        "    stemmed_words = []\n",
        "    for word in tokenizer.tokenize(text):\n",
        "        word = word.lower()\n",
        "        if word not in russian_stopwords:\n",
        "            stemmed_words.append(morph.parse(word)[0].normal_form)\n",
        "    return \" \".join(stemmed_words)"
      ]
    },
    {
      "cell_type": "code",
      "execution_count": null,
      "id": "be091944",
      "metadata": {},
      "outputs": [],
      "source": [
        "count_vectorizer = CountVectorizer(preprocessor=preprocess)\n",
        "\n",
        "tfidf_vectorizer = TfidfVectorizer(preprocessor=preprocess)"
      ]
    },
    {
      "cell_type": "code",
      "execution_count": 8,
      "id": "4da25272",
      "metadata": {},
      "outputs": [
        {
          "name": "stdout",
          "output_type": "stream",
          "text": [
            "CPU times: total: 52.9 s\n",
            "Wall time: 50.5 s\n"
          ]
        }
      ],
      "source": [
        "%%time\n",
        "\n",
        "X_train_count = count_vectorizer.fit_transform(X_train)\n",
        "X_test_count = count_vectorizer.transform(X_test)"
      ]
    },
    {
      "cell_type": "code",
      "execution_count": 9,
      "id": "5da6e29b",
      "metadata": {},
      "outputs": [
        {
          "name": "stdout",
          "output_type": "stream",
          "text": [
            "CPU times: total: 54 s\n",
            "Wall time: 51.1 s\n"
          ]
        }
      ],
      "source": [
        "%%time\n",
        "\n",
        "X_train_tfidf = tfidf_vectorizer.fit_transform(X_train)\n",
        "X_test_tfidf = tfidf_vectorizer.transform(X_test)"
      ]
    },
    {
      "cell_type": "code",
      "execution_count": 10,
      "id": "4b905d87",
      "metadata": {},
      "outputs": [
        {
          "name": "stdout",
          "output_type": "stream",
          "text": [
            "              precision    recall  f1-score   support\n",
            "\n",
            "           0       0.38      0.71      0.50       198\n",
            "           1       0.55      0.58      0.57       182\n",
            "           2       0.45      0.32      0.37       204\n",
            "           3       0.38      0.36      0.37       195\n",
            "           4       0.90      0.88      0.89       184\n",
            "           5       0.64      0.66      0.65       209\n",
            "           6       0.93      0.94      0.94       202\n",
            "           7       0.77      0.81      0.79       208\n",
            "           8       0.92      0.67      0.78       193\n",
            "           9       0.29      0.34      0.32       209\n",
            "          10       0.82      0.83      0.82       203\n",
            "          11       0.42      0.49      0.45       183\n",
            "          12       0.70      0.66      0.68       211\n",
            "          13       0.87      0.88      0.87       200\n",
            "          14       0.15      0.15      0.15       213\n",
            "          15       0.97      0.83      0.90       207\n",
            "          16       0.63      0.33      0.43       199\n",
            "\n",
            "    accuracy                           0.61      3400\n",
            "   macro avg       0.63      0.61      0.62      3400\n",
            "weighted avg       0.63      0.61      0.62      3400\n",
            "\n"
          ]
        }
      ],
      "source": [
        "svc_count = LinearSVC(max_iter=10000)\n",
        "\n",
        "svc_count.fit(X_train_count, y_train)\n",
        "\n",
        "y_pred_count = svc_count.predict(X_test_count)\n",
        "\n",
        "print(classification_report(y_test, y_pred_count))"
      ]
    },
    {
      "cell_type": "code",
      "execution_count": 11,
      "id": "35db1ffd",
      "metadata": {},
      "outputs": [
        {
          "data": {
            "text/plain": [
              "0.6163008338524399"
            ]
          },
          "execution_count": 11,
          "metadata": {},
          "output_type": "execute_result"
        }
      ],
      "source": [
        "f1_score(y_test, y_pred_count, average='macro')"
      ]
    },
    {
      "cell_type": "code",
      "execution_count": 12,
      "id": "2f1466f6",
      "metadata": {},
      "outputs": [
        {
          "name": "stdout",
          "output_type": "stream",
          "text": [
            "CPU times: total: 422 ms\n",
            "Wall time: 382 ms\n"
          ]
        },
        {
          "data": {
            "text/plain": [
              "'              precision    recall  f1-score   support\\n\\n           0       0.44      0.49      0.47       198\\n           1       0.59      0.72      0.65       182\\n           2       0.51      0.46      0.49       204\\n           3       0.42      0.48      0.45       195\\n           4       0.86      0.90      0.88       184\\n           5       0.72      0.74      0.73       209\\n           6       0.92      0.93      0.92       202\\n           7       0.77      0.86      0.81       208\\n           8       0.86      0.69      0.76       193\\n           9       0.32      0.31      0.32       209\\n          10       0.80      0.88      0.84       203\\n          11       0.43      0.49      0.46       183\\n          12       0.72      0.72      0.72       211\\n          13       0.83      0.88      0.86       200\\n          14       0.15      0.11      0.13       213\\n          15       0.98      0.83      0.90       207\\n          16       0.56      0.46      0.51       199\\n\\n    accuracy                           0.64      3400\\n   macro avg       0.64      0.64      0.64      3400\\nweighted avg       0.64      0.64      0.64      3400\\n'"
            ]
          },
          "execution_count": 12,
          "metadata": {},
          "output_type": "execute_result"
        }
      ],
      "source": [
        "%%time\n",
        "\n",
        "svc_tfidf = LinearSVC(max_iter=10000)\n",
        "\n",
        "svc_tfidf.fit(X_train_tfidf, y_train)\n",
        "\n",
        "y_pred_tfidf = svc_tfidf.predict(X_test_tfidf)\n",
        "\n",
        "classification_report(y_test, y_pred_tfidf)"
      ]
    },
    {
      "cell_type": "code",
      "execution_count": 13,
      "id": "c6e05c25",
      "metadata": {},
      "outputs": [
        {
          "data": {
            "text/plain": [
              "0.6397111346120032"
            ]
          },
          "execution_count": 13,
          "metadata": {},
          "output_type": "execute_result"
        }
      ],
      "source": [
        "f1_score(y_test, y_pred_tfidf, average='macro')"
      ]
    }
  ],
  "metadata": {
    "colab": {
      "provenance": []
    },
    "kernelspec": {
      "display_name": "Ananlyze",
      "language": "python",
      "name": "python3"
    },
    "language_info": {
      "codemirror_mode": {
        "name": "ipython",
        "version": 3
      },
      "file_extension": ".py",
      "mimetype": "text/x-python",
      "name": "python",
      "nbconvert_exporter": "python",
      "pygments_lexer": "ipython3",
      "version": "3.10.2"
    }
  },
  "nbformat": 4,
  "nbformat_minor": 5
}
