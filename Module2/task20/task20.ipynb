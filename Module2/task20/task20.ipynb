{
  "cells": [
    {
      "cell_type": "markdown",
      "metadata": {
        "id": "p92rzC-2D71g"
      },
      "source": [
        "# Инфраструктура для моделей машинного обучения. Практическая работа\n",
        "\n",
        "# Цель практической работы\n",
        "\n",
        "Потренироваться в использовании библиотек PySpark SQL и PySpark ML для предобработки данных и обучения моделей.\n",
        "\n",
        "# Что входит в практическую работу\n",
        "\n",
        "1. Инициализация спарк-сессии.\n",
        "2. Загрузка данных.\n",
        "3. Ознакомление с данными.\n",
        "4. Преобразование типов столбцов.\n",
        "5. Очистка данных.\n",
        "6. Feature-инжиниринг.\n",
        "7. Векторизация фичей.\n",
        "8. Создание и обучение модели.\n",
        "9. Выбор лучшей модели.\n",
        "10. Обратная связь.\n",
        "\n",
        "\n",
        "# Что оценивается\n",
        "\n",
        "- Пройдены все этапы работы.\n",
        "- Спарк-сессия успешно запущена.\n",
        "- Данные прочитаны.\n",
        "- Все колонки с числовыми значениями преобразованы в числовые типы данных (Int или Double).\n",
        "- Отфильтрованы все строки с Null-значениями.\n",
        "- Созданы новые фичи.\n",
        "- Все категориальные колонки преобразованы в числовой вид, выполнены все этапы векторизации признаков.\n",
        "- Выборка разделена на обучающую и тестовую.\n",
        "- Создано три объекта: модель, сетка гиперпараметров и evaluator.\n",
        "- Создан объект класса CrossValidator и обучен на обучающей выборке.\n",
        "- Выбрана лучшая модель, посчитана метрика качества лучшей модели.\n",
        "\n",
        "\n",
        "# Задача\n",
        "\n",
        "Используя данные о клиентах телекоммуникационной компании, обучите модель, предсказывающую их отток.\n",
        "\n",
        "Описание данных, с которыми вы будете работать:\n",
        "\n",
        "* **CustomerID**: ID клиента.\n",
        "* **Gender**: пол клиента.\n",
        "* **SeniorCitizen**: пенсионер ли клиент (1 — да, 0 — нет).\n",
        "* **Partner**: есть у клиента партнёр (жена, муж) или нет (Yes/No).\n",
        "* **Dependents**: есть ли у клиента инждивенцы, например дети (Yes/No).\n",
        "* **Tenure**: как много месяцев клиент оставался в компании.\n",
        "* **PhoneService**: подключена ли у клиента телефонная служба (Yes/No).\n",
        "* **MultipleLines**: подключено ли несколько телефонных линий (Yes, No, No phone service).\n",
        "* **InternetService**: интернет-провайдер клиента (DSL, Fiber optic, No).\n",
        "* **OnlineSecurity**: подключена ли у клиента услуга онлайн-безопасности (Yes, No, No internet service)\n",
        "* **OnlineBackup**: подключена ли услуга резервного копирования онлайн (Yes, No, No internet service).\n",
        "* **DeviceProtection**: подключена ли услуга защиты устройства (Yes, No, No internet service)\n",
        "* **TechSupport**: есть ли у клиента техническая поддержка (Yes, No, No internet service).\n",
        "* **StreamingTV**: подключена ли услуга потокового телевидения (Yes, No, No internet service).\n",
        "* **StreamingMovies**: подключена ли услуга стримингового воспроизведения фильмов (Yes, No, No internet service).\n",
        "* **Contract**: тип контракта клиента (Month-to-month, One year, Two year).\n",
        "* **PaperlessBilling**: есть ли безбумажный счёт.\n",
        "* **PaymentMethod**: способ оплаты услуг (Electronic check, Mailed check, Bank transfer (automatic), Credit card (automatic)).\n",
        "* **MonthlyCharges**: сумма, которая списывается ежемесячно.\n",
        "* **TotalCharges**: сумма, списанная за всё время.\n",
        "* **Churn**: ушёл ли клиент (Yes/No). Это целевая переменная, которую нужно предсказать.\n"
      ]
    },
    {
      "cell_type": "markdown",
      "metadata": {
        "id": "CZmr6VeYvLKB"
      },
      "source": [
        "# 1. Инициализация спарк-сессии"
      ]
    },
    {
      "cell_type": "markdown",
      "metadata": {
        "id": "EO2v2cOjyZBN"
      },
      "source": [
        "Инициализируйте спарк-сессию.\n",
        "\n",
        "Эта ячейка нужна для того, чтобы заргузить необходимые библиотеки и настроить окружение Google Colab для работы со Spark.\n",
        "\n",
        "Просто запустите её перед выполением задания :)"
      ]
    },
    {
      "cell_type": "code",
      "execution_count": 4,
      "metadata": {
        "id": "vSDE4XQxwWiw"
      },
      "outputs": [],
      "source": [
        "!pip install pyspark --quiet\n",
        "!pip install -U -q PyDrive --quiet\n",
        "!apt install openjdk-8-jdk-headless &> /dev/null\n",
        "\n",
        "import os\n",
        "os.environ[\"JAVA_HOME\"] = \"/usr/lib/jvm/java-8-openjdk-amd64\"\n",
        "\n",
        "!wget https://bin.equinox.io/c/4VmDzA7iaHb/ngrok-stable-linux-amd64.zip &> /dev/null\n",
        "!unzip ngrok-stable-linux-amd64.zip &> /dev/null\n",
        "get_ipython().system_raw('./ngrok http 4050 &')\n"
      ]
    },
    {
      "cell_type": "code",
      "execution_count": 5,
      "metadata": {
        "id": "8Q743I78vA5_"
      },
      "outputs": [],
      "source": [
        "from pyspark.sql import SparkSession\n",
        "\n",
        "\n",
        "spark = SparkSession.builder.appName(\"Churn Prediction\").getOrCreate()"
      ]
    },
    {
      "cell_type": "markdown",
      "metadata": {
        "id": "e55O3aB5vo3k"
      },
      "source": [
        "# 2. Загрузка данных\n",
        "Загрузите данные, сохраните их в переменную типа sparkDataframe, используя метод read.csv (не забывайте про header и delimiter)."
      ]
    },
    {
      "cell_type": "code",
      "execution_count": 6,
      "metadata": {
        "id": "1GVOybUCvlXy"
      },
      "outputs": [],
      "source": [
        "df = spark.read.csv(\n",
        "    \"WA_Fn-UseC_-Telco-Customer-Churn.csv\", header=True, inferSchema=True\n",
        ")"
      ]
    },
    {
      "cell_type": "markdown",
      "metadata": {
        "id": "k8amaWNGzDsf"
      },
      "source": [
        "# 3. Ознакомление с данными\n",
        "1. Выведите на экран первые несколько строк датафрейма.\n"
      ]
    },
    {
      "cell_type": "code",
      "execution_count": 7,
      "metadata": {
        "colab": {
          "base_uri": "https://localhost:8080/"
        },
        "id": "bPfkFFUoz19Y",
        "outputId": "5047465e-9a38-4f32-e9e4-0a2d004c9136"
      },
      "outputs": [
        {
          "output_type": "stream",
          "name": "stdout",
          "text": [
            "+----------+------+-------------+-------+----------+------+------------+----------------+---------------+--------------+------------+----------------+-----------+-----------+---------------+--------------+----------------+--------------------+--------------+------------+-----+\n",
            "|customerID|gender|SeniorCitizen|Partner|Dependents|tenure|PhoneService|   MultipleLines|InternetService|OnlineSecurity|OnlineBackup|DeviceProtection|TechSupport|StreamingTV|StreamingMovies|      Contract|PaperlessBilling|       PaymentMethod|MonthlyCharges|TotalCharges|Churn|\n",
            "+----------+------+-------------+-------+----------+------+------------+----------------+---------------+--------------+------------+----------------+-----------+-----------+---------------+--------------+----------------+--------------------+--------------+------------+-----+\n",
            "|7590-VHVEG|Female|            0|    Yes|        No|     1|          No|No phone service|            DSL|            No|         Yes|              No|         No|         No|             No|Month-to-month|             Yes|    Electronic check|         29.85|       29.85|   No|\n",
            "|5575-GNVDE|  Male|            0|     No|        No|    34|         Yes|              No|            DSL|           Yes|          No|             Yes|         No|         No|             No|      One year|              No|        Mailed check|         56.95|      1889.5|   No|\n",
            "|3668-QPYBK|  Male|            0|     No|        No|     2|         Yes|              No|            DSL|           Yes|         Yes|              No|         No|         No|             No|Month-to-month|             Yes|        Mailed check|         53.85|      108.15|  Yes|\n",
            "|7795-CFOCW|  Male|            0|     No|        No|    45|          No|No phone service|            DSL|           Yes|          No|             Yes|        Yes|         No|             No|      One year|              No|Bank transfer (au...|          42.3|     1840.75|   No|\n",
            "|9237-HQITU|Female|            0|     No|        No|     2|         Yes|              No|    Fiber optic|            No|          No|              No|         No|         No|             No|Month-to-month|             Yes|    Electronic check|          70.7|      151.65|  Yes|\n",
            "+----------+------+-------------+-------+----------+------+------------+----------------+---------------+--------------+------------+----------------+-----------+-----------+---------------+--------------+----------------+--------------------+--------------+------------+-----+\n",
            "only showing top 5 rows\n",
            "\n"
          ]
        }
      ],
      "source": [
        "df.show(5)"
      ]
    },
    {
      "cell_type": "markdown",
      "metadata": {
        "id": "vMgX25wr0JfV"
      },
      "source": [
        "\n",
        "2. Выведите общее количество строк датафрейма.\n",
        "\n"
      ]
    },
    {
      "cell_type": "code",
      "execution_count": 8,
      "metadata": {
        "id": "ivgw172qz9o_",
        "colab": {
          "base_uri": "https://localhost:8080/"
        },
        "outputId": "8dcd8f67-c76e-4919-9dca-a885f6115014"
      },
      "outputs": [
        {
          "output_type": "execute_result",
          "data": {
            "text/plain": [
              "7043"
            ]
          },
          "metadata": {},
          "execution_count": 8
        }
      ],
      "source": [
        "df.count()"
      ]
    },
    {
      "cell_type": "markdown",
      "metadata": {
        "id": "xCAeIZFe0KyY"
      },
      "source": [
        "3. Выведите структуру (схему) датафрейма."
      ]
    },
    {
      "cell_type": "code",
      "execution_count": 9,
      "metadata": {
        "id": "KmZY25zX0Fd5",
        "colab": {
          "base_uri": "https://localhost:8080/"
        },
        "outputId": "8724dac7-7889-4674-f710-9a1010eef8b8"
      },
      "outputs": [
        {
          "output_type": "stream",
          "name": "stdout",
          "text": [
            "root\n",
            " |-- customerID: string (nullable = true)\n",
            " |-- gender: string (nullable = true)\n",
            " |-- SeniorCitizen: integer (nullable = true)\n",
            " |-- Partner: string (nullable = true)\n",
            " |-- Dependents: string (nullable = true)\n",
            " |-- tenure: integer (nullable = true)\n",
            " |-- PhoneService: string (nullable = true)\n",
            " |-- MultipleLines: string (nullable = true)\n",
            " |-- InternetService: string (nullable = true)\n",
            " |-- OnlineSecurity: string (nullable = true)\n",
            " |-- OnlineBackup: string (nullable = true)\n",
            " |-- DeviceProtection: string (nullable = true)\n",
            " |-- TechSupport: string (nullable = true)\n",
            " |-- StreamingTV: string (nullable = true)\n",
            " |-- StreamingMovies: string (nullable = true)\n",
            " |-- Contract: string (nullable = true)\n",
            " |-- PaperlessBilling: string (nullable = true)\n",
            " |-- PaymentMethod: string (nullable = true)\n",
            " |-- MonthlyCharges: double (nullable = true)\n",
            " |-- TotalCharges: string (nullable = true)\n",
            " |-- Churn: string (nullable = true)\n",
            "\n"
          ]
        }
      ],
      "source": [
        "df.printSchema()"
      ]
    },
    {
      "cell_type": "markdown",
      "metadata": {
        "id": "DFcKPAI_0cF7"
      },
      "source": [
        "# 4. Преобразование типов столбцов\n",
        "Преобразуйте тип столбцов у числовых признаков (Int — если признак целочисленный, Double — если признак не целочисленный). Сохраните преобразованный датафрейм в новую переменную.\n",
        "\n",
        "## Совет\n",
        "\n",
        "Если вам сложно выполнить это задание, изучите дополнительные материалы: [об операторе Cast](https://sparkbyexamples.com/pyspark/pyspark-cast-column-type/), [об операторе Select](https://sparkbyexamples.com/pyspark/select-columns-from-pyspark-dataframe/).\n",
        "\n"
      ]
    },
    {
      "cell_type": "code",
      "execution_count": 12,
      "metadata": {
        "id": "Kihtrqni0-Js"
      },
      "outputs": [],
      "source": [
        "from pyspark.sql.functions import expr, col\n",
        "\n",
        "for column in [\"SeniorCitizen\", \"Tenure\"]:\n",
        "    df1 = df.withColumn(column, col(column).cast(\"int\"))\n",
        "\n",
        "for column in [\"MonthlyCharges\", \"TotalCharges\"]:\n",
        "    df1 = df1.withColumn(column, col(column).cast(\"double\"))"
      ]
    },
    {
      "cell_type": "code",
      "execution_count": 13,
      "metadata": {
        "colab": {
          "base_uri": "https://localhost:8080/"
        },
        "id": "xztgm1qcwWiy",
        "outputId": "fad0c65f-8083-4c1c-82d0-9ebfecda7c09"
      },
      "outputs": [
        {
          "output_type": "stream",
          "name": "stdout",
          "text": [
            "root\n",
            " |-- customerID: string (nullable = true)\n",
            " |-- gender: string (nullable = true)\n",
            " |-- SeniorCitizen: integer (nullable = true)\n",
            " |-- Partner: string (nullable = true)\n",
            " |-- Dependents: string (nullable = true)\n",
            " |-- Tenure: integer (nullable = true)\n",
            " |-- PhoneService: string (nullable = true)\n",
            " |-- MultipleLines: string (nullable = true)\n",
            " |-- InternetService: string (nullable = true)\n",
            " |-- OnlineSecurity: string (nullable = true)\n",
            " |-- OnlineBackup: string (nullable = true)\n",
            " |-- DeviceProtection: string (nullable = true)\n",
            " |-- TechSupport: string (nullable = true)\n",
            " |-- StreamingTV: string (nullable = true)\n",
            " |-- StreamingMovies: string (nullable = true)\n",
            " |-- Contract: string (nullable = true)\n",
            " |-- PaperlessBilling: string (nullable = true)\n",
            " |-- PaymentMethod: string (nullable = true)\n",
            " |-- MonthlyCharges: double (nullable = true)\n",
            " |-- TotalCharges: double (nullable = true)\n",
            " |-- Churn: string (nullable = true)\n",
            "\n"
          ]
        }
      ],
      "source": [
        "df1.printSchema()"
      ]
    },
    {
      "cell_type": "markdown",
      "metadata": {
        "id": "1hBBiIm350BD"
      },
      "source": [
        "# 5. Очистка данных\n",
        "Проверьте, есть ли в какой-либо колонке Null-значения. Для этого можно использовать your_dataframe.filter(col(\"colname\")).isNull()).\n",
        "\n",
        "Выведите на экран несколько строк с Null-значениями в одной из колонок.\n",
        "\n",
        "Сохраните очищенный от строк с Null-значениями датафрейм в новую переменную. Для фильтрации этих значений можно использовать метод .isNotNull().\n",
        "\n",
        "Колонок в датафрейме много, проверять каждую неудобно и долго. Подумайте, как упроситить эту работу, если использовать, например, перебор с циклом for.\n",
        "\n",
        "[Примеры использования операторов isNull() и isNotNull()](https://sparkbyexamples.com/pyspark/pyspark-isnull/).\n"
      ]
    },
    {
      "cell_type": "code",
      "execution_count": 14,
      "metadata": {
        "id": "A0FTVvpg6_iy",
        "colab": {
          "base_uri": "https://localhost:8080/"
        },
        "outputId": "f55c394e-7380-41dc-b4f1-3cce6920196a"
      },
      "outputs": [
        {
          "output_type": "stream",
          "name": "stdout",
          "text": [
            "Column: customerID, Null Count: 0\n",
            "Column: gender, Null Count: 0\n",
            "Column: SeniorCitizen, Null Count: 0\n",
            "Column: Partner, Null Count: 0\n",
            "Column: Dependents, Null Count: 0\n",
            "Column: Tenure, Null Count: 0\n",
            "Column: PhoneService, Null Count: 0\n",
            "Column: MultipleLines, Null Count: 0\n",
            "Column: InternetService, Null Count: 0\n",
            "Column: OnlineSecurity, Null Count: 0\n",
            "Column: OnlineBackup, Null Count: 0\n",
            "Column: DeviceProtection, Null Count: 0\n",
            "Column: TechSupport, Null Count: 0\n",
            "Column: StreamingTV, Null Count: 0\n",
            "Column: StreamingMovies, Null Count: 0\n",
            "Column: Contract, Null Count: 0\n",
            "Column: PaperlessBilling, Null Count: 0\n",
            "Column: PaymentMethod, Null Count: 0\n",
            "Column: MonthlyCharges, Null Count: 0\n",
            "Column: TotalCharges, Null Count: 11\n",
            "Column: Churn, Null Count: 0\n"
          ]
        }
      ],
      "source": [
        "null_counts = {}\n",
        "\n",
        "for column in df1.columns:\n",
        "    null_count = df1.filter(col(column).isNull()).count()\n",
        "    null_counts[column] = null_count\n",
        "\n",
        "for column, count in null_counts.items():\n",
        "    print(f\"Column: {column}, Null Count: {count}\")"
      ]
    },
    {
      "cell_type": "code",
      "execution_count": 15,
      "metadata": {
        "id": "DTTpNZVKwWiy"
      },
      "outputs": [],
      "source": [
        "df_clean = df1.na.drop()"
      ]
    },
    {
      "cell_type": "markdown",
      "metadata": {
        "id": "fMRcAbphNBEP"
      },
      "source": [
        "# 6. Feature-инжиниринг\n",
        "Добавьте в датафрейм одну или несколько новых фичей. Удалите колонки, которые, как вам кажется, нужно убрать из фичей. Обоснуйте свои решения."
      ]
    },
    {
      "cell_type": "code",
      "execution_count": 16,
      "metadata": {
        "id": "6SZ_rocx79oY"
      },
      "outputs": [],
      "source": [
        "from pyspark.sql.functions import when\n",
        "\n",
        "df_clean = df_clean.withColumn(\n",
        "    \"TotalCharges_Per_Month\", col(\"TotalCharges\") / col(\"Tenure\")\n",
        ")\n",
        "df_clean = df_clean.drop(\"CustomerID\", \"TotalCharges\")"
      ]
    },
    {
      "cell_type": "markdown",
      "metadata": {
        "id": "mX-4GEdHTZWd"
      },
      "source": [
        "# 7. Векторизация фичей\n",
        "Подготовьте данные к обучению:\n",
        "\n",
        "\n",
        "\n"
      ]
    },
    {
      "cell_type": "markdown",
      "metadata": {
        "id": "x5cNxN2qq3SL"
      },
      "source": [
        "1. Преобразуйте текстовые колонки в числа, используя StringIndexer.\n",
        "Удалите столбцы со старыми (непреобразованными) признаками. Выведите на экран структуру получившегося датафрейма. Не забывайте о столбце Churn. Хоть он и выступает в задаче как таргет, он имеет текстовый тип, поэтому тоже должен быть закодирован числовыми значениями.\n",
        "\n",
        "Чтобы использовать StringIndexer для всех категориальных признаков сразу, а не для каждого отдельно, можно применить сущность pipeline.\n",
        "\n",
        "**Пример кода:**\n",
        "\n",
        "##### #Задаём список текстовых колонок:\n",
        "text_columns = [\"text_col_1\", \"text_col_2\", \"text_col_3\"]\n",
        "\n",
        "##### #Задаём список StringIndexer'ов — сущностей, каждая из которых будет кодировать одну текстовую колонку числами. Имена преобразованных колонок будут заканчиваться на _index:\n",
        "indexers = [StringIndexer(inputCol=column, outputCol=column+\"_index\",).fit(<ваш датасет>) for column in text_columns]\n",
        "\n",
        "##### #Создаём Pipeline из StringIndexer'ов:\n",
        "pipeline = Pipeline(stages=indexers)\n",
        "\n",
        "##### #Скармливаем нашему pipeline датафрейм, удаляя старые колонки:\n",
        "new_dataframe = pipeline.fit(<ваш датасет>).transform(<ваш датасет>).drop(*text_columns)\n"
      ]
    },
    {
      "cell_type": "code",
      "execution_count": 17,
      "metadata": {
        "id": "0XQ3pjdAcBIL"
      },
      "outputs": [],
      "source": [
        "from pyspark import mllib\n",
        "from pyspark.ml.feature import StringIndexer\n",
        "from pyspark.ml import Pipeline\n",
        "\n",
        "# список колонок с текстовым типом\n",
        "text_cols = [\n",
        "    \"gender\",\n",
        "    \"Partner\",\n",
        "    \"Dependents\",\n",
        "    \"PhoneService\",\n",
        "    \"MultipleLines\",\n",
        "    \"InternetService\",\n",
        "    \"OnlineSecurity\",\n",
        "    \"OnlineBackup\",\n",
        "    \"DeviceProtection\",\n",
        "    \"TechSupport\",\n",
        "    \"StreamingTV\",\n",
        "    \"StreamingMovies\",\n",
        "    \"Contract\",\n",
        "    \"PaperlessBilling\",\n",
        "    \"PaymentMethod\",\n",
        "    \"Churn\",\n",
        "]\n",
        "\n",
        "\n",
        "indexers = [\n",
        "    StringIndexer(inputCol=column, outputCol=column + \"_index\").fit(df_clean)\n",
        "    for column in text_cols\n",
        "]\n",
        "\n",
        "pipeline = Pipeline(stages=indexers)\n",
        "model = pipeline.fit(df_clean)\n",
        "df_indexed = model.transform(df_clean)\n",
        "df_indexed = df_indexed.drop(*text_cols)"
      ]
    },
    {
      "cell_type": "markdown",
      "metadata": {
        "id": "EEqoj7IcmB5H"
      },
      "source": [
        "2. Векторизуйте категориальные признаки, используя OneHotEncoder.\n",
        "Удалите столбцы со старыми (непреобразованными) признаками.\n",
        "Выведите на экран структуру получившегося после преобразований датафрейма.\n"
      ]
    },
    {
      "cell_type": "code",
      "execution_count": 18,
      "metadata": {
        "id": "Gihv_Q00TkOD",
        "colab": {
          "base_uri": "https://localhost:8080/"
        },
        "outputId": "868fd82b-a91a-4d82-d4f6-fab67a5763c6"
      },
      "outputs": [
        {
          "output_type": "stream",
          "name": "stdout",
          "text": [
            "root\n",
            " |-- SeniorCitizen: integer (nullable = true)\n",
            " |-- Tenure: integer (nullable = true)\n",
            " |-- MonthlyCharges: double (nullable = true)\n",
            " |-- TotalCharges_Per_Month: double (nullable = true)\n",
            " |-- Churn_index: double (nullable = false)\n",
            " |-- gender_index_ohe: vector (nullable = true)\n",
            " |-- Partner_index_ohe: vector (nullable = true)\n",
            " |-- Dependents_index_ohe: vector (nullable = true)\n",
            " |-- PhoneService_index_ohe: vector (nullable = true)\n",
            " |-- MultipleLines_index_ohe: vector (nullable = true)\n",
            " |-- InternetService_index_ohe: vector (nullable = true)\n",
            " |-- OnlineSecurity_index_ohe: vector (nullable = true)\n",
            " |-- OnlineBackup_index_ohe: vector (nullable = true)\n",
            " |-- DeviceProtection_index_ohe: vector (nullable = true)\n",
            " |-- TechSupport_index_ohe: vector (nullable = true)\n",
            " |-- StreamingTV_index_ohe: vector (nullable = true)\n",
            " |-- StreamingMovies_index_ohe: vector (nullable = true)\n",
            " |-- Contract_index_ohe: vector (nullable = true)\n",
            " |-- PaperlessBilling_index_ohe: vector (nullable = true)\n",
            " |-- PaymentMethod_index_ohe: vector (nullable = true)\n",
            "\n"
          ]
        }
      ],
      "source": [
        "from pyspark.ml.feature import OneHotEncoder\n",
        "\n",
        "# список категориальных колонок\n",
        "features_inp = [\n",
        "    \"gender\",\n",
        "    \"Partner\",\n",
        "    \"Dependents\",\n",
        "    \"PhoneService\",\n",
        "    \"MultipleLines\",\n",
        "    \"InternetService\",\n",
        "    \"OnlineSecurity\",\n",
        "    \"OnlineBackup\",\n",
        "    \"DeviceProtection\",\n",
        "    \"TechSupport\",\n",
        "    \"StreamingTV\",\n",
        "    \"StreamingMovies\",\n",
        "    \"Contract\",\n",
        "    \"PaperlessBilling\",\n",
        "    \"PaymentMethod\",\n",
        "]\n",
        "\n",
        "\n",
        "categorical_cols = [(col + \"_index\") for col in features_inp]\n",
        "encoder = OneHotEncoder(\n",
        "    inputCols=categorical_cols, outputCols=[col + \"_ohe\" for col in categorical_cols]\n",
        ")\n",
        "df_encoded = encoder.fit(df_indexed).transform(df_indexed).drop(*categorical_cols)\n",
        "\n",
        "df_encoded.printSchema()"
      ]
    },
    {
      "cell_type": "markdown",
      "metadata": {
        "id": "WscurK1IoJ8w"
      },
      "source": [
        "3. Объедините колонки фичей в один вектор, используя VectorAssembler.\n",
        "Удалите столбцы со старыми (непреобразованными) признаками.\n",
        "Выведите на экран первые несколько строк и структуру получившегося датафрейма."
      ]
    },
    {
      "cell_type": "code",
      "execution_count": 19,
      "metadata": {
        "id": "wOm-Te9bYMia"
      },
      "outputs": [],
      "source": [
        "from pyspark.ml.feature import VectorAssembler\n",
        "\n",
        "\n",
        "feature_cols = [col + \"_ohe\" for col in categorical_cols]\n",
        "assembler = VectorAssembler(inputCols=feature_cols, outputCol=\"features\")\n",
        "df_final = assembler.transform(df_encoded)"
      ]
    },
    {
      "cell_type": "code",
      "execution_count": 20,
      "metadata": {
        "colab": {
          "base_uri": "https://localhost:8080/"
        },
        "id": "vvyYM_KTwWiz",
        "outputId": "b39c067d-4786-4a70-84b0-c74996c01d4b"
      },
      "outputs": [
        {
          "output_type": "stream",
          "name": "stdout",
          "text": [
            "+-------------+------+--------------+----------------------+-----------+----------------+-----------------+--------------------+----------------------+-----------------------+-------------------------+------------------------+----------------------+--------------------------+---------------------+---------------------+-------------------------+------------------+--------------------------+-----------------------+--------------------+\n",
            "|SeniorCitizen|Tenure|MonthlyCharges|TotalCharges_Per_Month|Churn_index|gender_index_ohe|Partner_index_ohe|Dependents_index_ohe|PhoneService_index_ohe|MultipleLines_index_ohe|InternetService_index_ohe|OnlineSecurity_index_ohe|OnlineBackup_index_ohe|DeviceProtection_index_ohe|TechSupport_index_ohe|StreamingTV_index_ohe|StreamingMovies_index_ohe|Contract_index_ohe|PaperlessBilling_index_ohe|PaymentMethod_index_ohe|            features|\n",
            "+-------------+------+--------------+----------------------+-----------+----------------+-----------------+--------------------+----------------------+-----------------------+-------------------------+------------------------+----------------------+--------------------------+---------------------+---------------------+-------------------------+------------------+--------------------------+-----------------------+--------------------+\n",
            "|            0|     1|         29.85|                 29.85|        0.0|       (1,[],[])|        (1,[],[])|       (1,[0],[1.0])|             (1,[],[])|              (2,[],[])|            (2,[1],[1.0])|           (2,[0],[1.0])|         (2,[1],[1.0])|             (2,[0],[1.0])|        (2,[0],[1.0])|        (2,[0],[1.0])|            (2,[0],[1.0])|     (2,[0],[1.0])|             (1,[0],[1.0])|          (3,[0],[1.0])|(26,[2,7,8,11,12,...|\n",
            "|            0|    34|         56.95|      55.5735294117647|        0.0|   (1,[0],[1.0])|    (1,[0],[1.0])|       (1,[0],[1.0])|         (1,[0],[1.0])|          (2,[0],[1.0])|            (2,[1],[1.0])|           (2,[1],[1.0])|         (2,[0],[1.0])|             (2,[1],[1.0])|        (2,[0],[1.0])|        (2,[0],[1.0])|            (2,[0],[1.0])|         (2,[],[])|                 (1,[],[])|          (3,[1],[1.0])|(26,[0,1,2,3,4,7,...|\n",
            "|            0|     2|         53.85|                54.075|        1.0|   (1,[0],[1.0])|    (1,[0],[1.0])|       (1,[0],[1.0])|         (1,[0],[1.0])|          (2,[0],[1.0])|            (2,[1],[1.0])|           (2,[1],[1.0])|         (2,[1],[1.0])|             (2,[0],[1.0])|        (2,[0],[1.0])|        (2,[0],[1.0])|            (2,[0],[1.0])|     (2,[0],[1.0])|             (1,[0],[1.0])|          (3,[1],[1.0])|(26,[0,1,2,3,4,7,...|\n",
            "|            0|    45|          42.3|     40.90555555555556|        0.0|   (1,[0],[1.0])|    (1,[0],[1.0])|       (1,[0],[1.0])|             (1,[],[])|              (2,[],[])|            (2,[1],[1.0])|           (2,[1],[1.0])|         (2,[0],[1.0])|             (2,[1],[1.0])|        (2,[1],[1.0])|        (2,[0],[1.0])|            (2,[0],[1.0])|         (2,[],[])|                 (1,[],[])|          (3,[2],[1.0])|(26,[0,1,2,7,9,10...|\n",
            "|            0|     2|          70.7|                75.825|        1.0|       (1,[],[])|    (1,[0],[1.0])|       (1,[0],[1.0])|         (1,[0],[1.0])|          (2,[0],[1.0])|            (2,[0],[1.0])|           (2,[0],[1.0])|         (2,[0],[1.0])|             (2,[0],[1.0])|        (2,[0],[1.0])|        (2,[0],[1.0])|            (2,[0],[1.0])|     (2,[0],[1.0])|             (1,[0],[1.0])|          (3,[0],[1.0])|(26,[1,2,3,4,6,8,...|\n",
            "+-------------+------+--------------+----------------------+-----------+----------------+-----------------+--------------------+----------------------+-----------------------+-------------------------+------------------------+----------------------+--------------------------+---------------------+---------------------+-------------------------+------------------+--------------------------+-----------------------+--------------------+\n",
            "only showing top 5 rows\n",
            "\n",
            "root\n",
            " |-- SeniorCitizen: integer (nullable = true)\n",
            " |-- Tenure: integer (nullable = true)\n",
            " |-- MonthlyCharges: double (nullable = true)\n",
            " |-- TotalCharges_Per_Month: double (nullable = true)\n",
            " |-- Churn_index: double (nullable = false)\n",
            " |-- gender_index_ohe: vector (nullable = true)\n",
            " |-- Partner_index_ohe: vector (nullable = true)\n",
            " |-- Dependents_index_ohe: vector (nullable = true)\n",
            " |-- PhoneService_index_ohe: vector (nullable = true)\n",
            " |-- MultipleLines_index_ohe: vector (nullable = true)\n",
            " |-- InternetService_index_ohe: vector (nullable = true)\n",
            " |-- OnlineSecurity_index_ohe: vector (nullable = true)\n",
            " |-- OnlineBackup_index_ohe: vector (nullable = true)\n",
            " |-- DeviceProtection_index_ohe: vector (nullable = true)\n",
            " |-- TechSupport_index_ohe: vector (nullable = true)\n",
            " |-- StreamingTV_index_ohe: vector (nullable = true)\n",
            " |-- StreamingMovies_index_ohe: vector (nullable = true)\n",
            " |-- Contract_index_ohe: vector (nullable = true)\n",
            " |-- PaperlessBilling_index_ohe: vector (nullable = true)\n",
            " |-- PaymentMethod_index_ohe: vector (nullable = true)\n",
            " |-- features: vector (nullable = true)\n",
            "\n"
          ]
        }
      ],
      "source": [
        "df_final.show(5)\n",
        "df_final.printSchema()"
      ]
    },
    {
      "cell_type": "markdown",
      "metadata": {
        "id": "uk_1ZJjDqm02"
      },
      "source": [
        "# 8. Создание и обучение модели"
      ]
    },
    {
      "cell_type": "markdown",
      "metadata": {
        "id": "fMsi-JYVqvkX"
      },
      "source": [
        "1. Создайте модель — логистическую регрессию (используя LogisticRegression). В качестве параметров класса LogisticRegression укажите колонку фичей (параметр featuresCol), колонку-таргет (параметр labelCol) из датафрейма и имя колонки, в которую будут записываться предсказания (параметр predictionCol)."
      ]
    },
    {
      "cell_type": "code",
      "execution_count": 21,
      "metadata": {
        "id": "siYFALNhq_9F"
      },
      "outputs": [],
      "source": [
        "from pyspark.ml.classification import LogisticRegression\n",
        "\n",
        "lr = LogisticRegression(featuresCol=\"features\", labelCol=\"Churn_index\")"
      ]
    },
    {
      "cell_type": "markdown",
      "metadata": {
        "id": "OCG0euR8v33u"
      },
      "source": [
        "2. Разделите датафрейм на обучающую и тестовую выборку."
      ]
    },
    {
      "cell_type": "code",
      "execution_count": 22,
      "metadata": {
        "id": "g9PoHvGqvvET"
      },
      "outputs": [],
      "source": [
        "train_df, test_df = df_final.randomSplit([0.8, 0.2], seed=1234)"
      ]
    },
    {
      "cell_type": "markdown",
      "metadata": {
        "id": "MyGEK9T_wGWd"
      },
      "source": [
        "3. Создайте объекты — сетки гиперпараметров для каждой модели, используя ParamGridBuilder. Так же, как и в ноутбуке из последнего видео, в сетку гиперпараметров можно добавить значения параметров regParam и elasticNetParam.\n",
        "\n",
        "Вы можете ознакомиться [с документацией объекта LogisticRegression в PySpark](https://spark.apache.org/docs/latest/api/python/reference/api/pyspark.ml.classification.LogisticRegression.html) и добавить в сетку больше параметров.\n"
      ]
    },
    {
      "cell_type": "code",
      "execution_count": 23,
      "metadata": {
        "id": "LsRwAy1TwDzF"
      },
      "outputs": [],
      "source": [
        "from pyspark.ml.tuning import ParamGridBuilder\n",
        "\n",
        "paramGrid = (\n",
        "    ParamGridBuilder()\n",
        "    .addGrid(lr.regParam, [0.1, 0.01])\n",
        "    .addGrid(lr.elasticNetParam, [0.0, 1.0])\n",
        "    .build()\n",
        ")"
      ]
    },
    {
      "cell_type": "markdown",
      "metadata": {
        "id": "zg0lwkdoJjaQ"
      },
      "source": [
        "4. Создайте объект evaluator, который будет отвечать за метрику качества при обучении. Для этого используйте класс BinaryClassificationEvaluator со следующими параметрами: rawPredictionCol — колонка с предсказаниями, labelCol — колонка с таргетом.\n",
        "\n",
        "У вас, возможно, возник вопрос, какую метрику качества берёт по умолчанию BinaryClassificationEvaluator. По умолчанию BinaryClassificationEvaluator будет рассчитывать areaUnderROC. Это метрика оценки площади под кривой ROC (Receiver Operating Characteristic), которая служит графической интерпретацией производительности модели. Эта метрика качества находится в пределах от 0 до 1. Чем выше метрика, тем более качественные предсказания делает модель."
      ]
    },
    {
      "cell_type": "code",
      "execution_count": 24,
      "metadata": {
        "id": "RrGPelUqMeoz"
      },
      "outputs": [],
      "source": [
        "from pyspark.ml.evaluation import BinaryClassificationEvaluator\n",
        "\n",
        "evaluator = BinaryClassificationEvaluator(\n",
        "    rawPredictionCol=\"prediction\", labelCol=\"Churn_index\"\n",
        ")"
      ]
    },
    {
      "cell_type": "markdown",
      "metadata": {
        "id": "7urf-OeRMTdC"
      },
      "source": [
        "5. Создайте объект CrossValidator, в качестве параметров укажите уже созданные вами модель, сетку гиперпараметров и evaluator."
      ]
    },
    {
      "cell_type": "code",
      "execution_count": 25,
      "metadata": {
        "id": "CtmsG_rxSOOr"
      },
      "outputs": [],
      "source": [
        "from pyspark.ml.tuning import CrossValidator\n",
        "\n",
        "cv = CrossValidator(\n",
        "    estimator=lr, estimatorParamMaps=paramGrid, evaluator=evaluator, numFolds=3\n",
        ")"
      ]
    },
    {
      "cell_type": "markdown",
      "metadata": {
        "id": "Jmpv70TjZByl"
      },
      "source": [
        "6. Запустите обучение модели на тренировочной выборке. Сохраните обученную модель в новую переменную."
      ]
    },
    {
      "cell_type": "code",
      "execution_count": 26,
      "metadata": {
        "id": "uUxWevjEYOvX"
      },
      "outputs": [],
      "source": [
        "cvModel = cv.fit(train_df)"
      ]
    },
    {
      "cell_type": "markdown",
      "metadata": {
        "id": "WaIi8In5Zykn"
      },
      "source": [
        "# 9. Выбор лучшей модели"
      ]
    },
    {
      "cell_type": "markdown",
      "metadata": {
        "id": "29eo5S_KZL4k"
      },
      "source": [
        "1. Выберите лучшую модель, сохраните её в отдельную переменную, отобразите её параметры.\n",
        "\n",
        "Вывод параметров модели в PySpark можно сделать, используя метод extractParamMap()."
      ]
    },
    {
      "cell_type": "code",
      "execution_count": 27,
      "metadata": {
        "id": "kJK-IrWLZbL-",
        "colab": {
          "base_uri": "https://localhost:8080/"
        },
        "outputId": "a6a5e866-ea6b-4f7b-8642-fe5f7327e31a"
      },
      "outputs": [
        {
          "output_type": "execute_result",
          "data": {
            "text/plain": [
              "{Param(parent='LogisticRegression_763b36de2882', name='aggregationDepth', doc='suggested depth for treeAggregate (>= 2).'): 2,\n",
              " Param(parent='LogisticRegression_763b36de2882', name='elasticNetParam', doc='the ElasticNet mixing parameter, in range [0, 1]. For alpha = 0, the penalty is an L2 penalty. For alpha = 1, it is an L1 penalty.'): 0.0,\n",
              " Param(parent='LogisticRegression_763b36de2882', name='family', doc='The name of family which is a description of the label distribution to be used in the model. Supported options: auto, binomial, multinomial'): 'auto',\n",
              " Param(parent='LogisticRegression_763b36de2882', name='featuresCol', doc='features column name.'): 'features',\n",
              " Param(parent='LogisticRegression_763b36de2882', name='fitIntercept', doc='whether to fit an intercept term.'): True,\n",
              " Param(parent='LogisticRegression_763b36de2882', name='labelCol', doc='label column name.'): 'Churn_index',\n",
              " Param(parent='LogisticRegression_763b36de2882', name='maxBlockSizeInMB', doc='maximum memory in MB for stacking input data into blocks. Data is stacked within partitions. If more than remaining data size in a partition then it is adjusted to the data size. Default 0.0 represents choosing optimal value, depends on specific algorithm. Must be >= 0.'): 0.0,\n",
              " Param(parent='LogisticRegression_763b36de2882', name='maxIter', doc='max number of iterations (>= 0).'): 100,\n",
              " Param(parent='LogisticRegression_763b36de2882', name='predictionCol', doc='prediction column name.'): 'prediction',\n",
              " Param(parent='LogisticRegression_763b36de2882', name='probabilityCol', doc='Column name for predicted class conditional probabilities. Note: Not all models output well-calibrated probability estimates! These probabilities should be treated as confidences, not precise probabilities.'): 'probability',\n",
              " Param(parent='LogisticRegression_763b36de2882', name='rawPredictionCol', doc='raw prediction (a.k.a. confidence) column name.'): 'rawPrediction',\n",
              " Param(parent='LogisticRegression_763b36de2882', name='regParam', doc='regularization parameter (>= 0).'): 0.01,\n",
              " Param(parent='LogisticRegression_763b36de2882', name='standardization', doc='whether to standardize the training features before fitting the model.'): True,\n",
              " Param(parent='LogisticRegression_763b36de2882', name='threshold', doc='Threshold in binary classification prediction, in range [0, 1]. If threshold and thresholds are both set, they must match.e.g. if threshold is p, then thresholds must be equal to [1-p, p].'): 0.5,\n",
              " Param(parent='LogisticRegression_763b36de2882', name='tol', doc='the convergence tolerance for iterative algorithms (>= 0).'): 1e-06}"
            ]
          },
          "metadata": {},
          "execution_count": 27
        }
      ],
      "source": [
        "best_model = cvModel.bestModel\n",
        "best_model.extractParamMap()"
      ]
    },
    {
      "cell_type": "markdown",
      "metadata": {
        "id": "1BIe8gqugBds"
      },
      "source": [
        "2. Запустите лучшую модель в режиме предсказания на тестовой выборке. Сохраните предсказания в отдельную переменную. Выведите первые несколько строк датафрейма с предсказаниями на экран.\n",
        "\n",
        "Запуск модели в режиме предсказания выполняется при помощи метода .transform(<тестовая выборка>)."
      ]
    },
    {
      "cell_type": "code",
      "execution_count": 28,
      "metadata": {
        "id": "_K1IrbNzd1FX",
        "colab": {
          "base_uri": "https://localhost:8080/"
        },
        "outputId": "9b71638e-dd1a-4367-ead0-39e30f05160b"
      },
      "outputs": [
        {
          "output_type": "stream",
          "name": "stdout",
          "text": [
            "+-------------+------+--------------+----------------------+-----------+----------------+-----------------+--------------------+----------------------+-----------------------+-------------------------+------------------------+----------------------+--------------------------+---------------------+---------------------+-------------------------+------------------+--------------------------+-----------------------+--------------------+--------------------+--------------------+----------+\n",
            "|SeniorCitizen|Tenure|MonthlyCharges|TotalCharges_Per_Month|Churn_index|gender_index_ohe|Partner_index_ohe|Dependents_index_ohe|PhoneService_index_ohe|MultipleLines_index_ohe|InternetService_index_ohe|OnlineSecurity_index_ohe|OnlineBackup_index_ohe|DeviceProtection_index_ohe|TechSupport_index_ohe|StreamingTV_index_ohe|StreamingMovies_index_ohe|Contract_index_ohe|PaperlessBilling_index_ohe|PaymentMethod_index_ohe|            features|       rawPrediction|         probability|prediction|\n",
            "+-------------+------+--------------+----------------------+-----------+----------------+-----------------+--------------------+----------------------+-----------------------+-------------------------+------------------------+----------------------+--------------------------+---------------------+---------------------+-------------------------+------------------+--------------------------+-----------------------+--------------------+--------------------+--------------------+----------+\n",
            "|            0|     1|         18.85|                 18.85|        0.0|       (1,[],[])|    (1,[0],[1.0])|       (1,[0],[1.0])|         (1,[0],[1.0])|          (2,[0],[1.0])|                (2,[],[])|               (2,[],[])|             (2,[],[])|                 (2,[],[])|            (2,[],[])|            (2,[],[])|                (2,[],[])|     (2,[0],[1.0])|                 (1,[],[])|          (3,[0],[1.0])|(26,[1,2,3,4,20,2...|[1.32813976690374...|[0.79053276394228...|       0.0|\n",
            "|            0|     1|          19.0|                  19.0|        0.0|       (1,[],[])|        (1,[],[])|           (1,[],[])|         (1,[0],[1.0])|          (2,[0],[1.0])|                (2,[],[])|               (2,[],[])|             (2,[],[])|                 (2,[],[])|            (2,[],[])|            (2,[],[])|                (2,[],[])|     (2,[0],[1.0])|             (1,[0],[1.0])|          (3,[1],[1.0])|(26,[3,4,20,22,24...|[1.63658346145699...|[0.83706951217635...|       0.0|\n",
            "|            0|     1|          19.4|                  19.4|        0.0|       (1,[],[])|        (1,[],[])|           (1,[],[])|         (1,[0],[1.0])|          (2,[0],[1.0])|                (2,[],[])|               (2,[],[])|             (2,[],[])|                 (2,[],[])|            (2,[],[])|            (2,[],[])|                (2,[],[])|     (2,[0],[1.0])|             (1,[0],[1.0])|          (3,[1],[1.0])|(26,[3,4,20,22,24...|[1.63658346145699...|[0.83706951217635...|       0.0|\n",
            "|            0|     1|          19.4|                  19.4|        1.0|   (1,[0],[1.0])|    (1,[0],[1.0])|       (1,[0],[1.0])|         (1,[0],[1.0])|          (2,[0],[1.0])|                (2,[],[])|               (2,[],[])|             (2,[],[])|                 (2,[],[])|            (2,[],[])|            (2,[],[])|                (2,[],[])|     (2,[0],[1.0])|                 (1,[],[])|          (3,[1],[1.0])|(26,[0,1,2,3,4,20...|[1.67896830708461...|[0.84276786963272...|       0.0|\n",
            "|            0|     1|         19.45|                 19.45|        0.0|       (1,[],[])|        (1,[],[])|           (1,[],[])|         (1,[0],[1.0])|          (2,[0],[1.0])|                (2,[],[])|               (2,[],[])|             (2,[],[])|                 (2,[],[])|            (2,[],[])|            (2,[],[])|                (2,[],[])|     (2,[0],[1.0])|                 (1,[],[])|          (3,[0],[1.0])|(26,[3,4,20,23],[...|[1.66236938309940...|[0.84055580819617...|       0.0|\n",
            "|            0|     1|         19.45|                 19.45|        0.0|   (1,[0],[1.0])|    (1,[0],[1.0])|       (1,[0],[1.0])|         (1,[0],[1.0])|          (2,[0],[1.0])|                (2,[],[])|               (2,[],[])|             (2,[],[])|                 (2,[],[])|            (2,[],[])|            (2,[],[])|                (2,[],[])|     (2,[0],[1.0])|                 (1,[],[])|          (3,[0],[1.0])|(26,[0,1,2,3,4,20...|[1.41225753248492...|[0.80412177160644...|       0.0|\n",
            "|            0|     1|         19.45|                 19.45|        0.0|   (1,[0],[1.0])|    (1,[0],[1.0])|       (1,[0],[1.0])|         (1,[0],[1.0])|          (2,[0],[1.0])|                (2,[],[])|               (2,[],[])|             (2,[],[])|                 (2,[],[])|            (2,[],[])|            (2,[],[])|                (2,[],[])|     (2,[0],[1.0])|                 (1,[],[])|          (3,[1],[1.0])|(26,[0,1,2,3,4,20...|[1.67896830708461...|[0.84276786963272...|       0.0|\n",
            "|            0|     1|         19.55|                 19.55|        0.0|       (1,[],[])|    (1,[0],[1.0])|       (1,[0],[1.0])|         (1,[0],[1.0])|          (2,[0],[1.0])|                (2,[],[])|               (2,[],[])|             (2,[],[])|                 (2,[],[])|            (2,[],[])|            (2,[],[])|                (2,[],[])|     (2,[0],[1.0])|                 (1,[],[])|          (3,[1],[1.0])|(26,[1,2,3,4,20,2...|[1.59485054150343...|[0.83129744628123...|       0.0|\n",
            "|            0|     1|         19.65|                 19.65|        0.0|   (1,[0],[1.0])|        (1,[],[])|           (1,[],[])|         (1,[0],[1.0])|          (2,[0],[1.0])|                (2,[],[])|               (2,[],[])|             (2,[],[])|                 (2,[],[])|            (2,[],[])|            (2,[],[])|                (2,[],[])|         (2,[],[])|                 (1,[],[])|          (3,[1],[1.0])|(26,[0,3,4,24],[1...|[3.20507897026731...|[0.96102496112112...|       0.0|\n",
            "|            0|     1|         19.65|                 19.65|        0.0|   (1,[0],[1.0])|    (1,[0],[1.0])|       (1,[0],[1.0])|         (1,[0],[1.0])|          (2,[0],[1.0])|                (2,[],[])|               (2,[],[])|             (2,[],[])|                 (2,[],[])|            (2,[],[])|            (2,[],[])|                (2,[],[])|     (2,[0],[1.0])|                 (1,[],[])|          (3,[2],[1.0])|(26,[0,1,2,3,4,20...|[1.90524922061539...|[0.87048448111823...|       0.0|\n",
            "|            0|     1|          19.7|                  19.7|        1.0|   (1,[0],[1.0])|    (1,[0],[1.0])|       (1,[0],[1.0])|         (1,[0],[1.0])|          (2,[0],[1.0])|                (2,[],[])|               (2,[],[])|             (2,[],[])|                 (2,[],[])|            (2,[],[])|            (2,[],[])|                (2,[],[])|     (2,[0],[1.0])|                 (1,[],[])|          (3,[1],[1.0])|(26,[0,1,2,3,4,20...|[1.67896830708461...|[0.84276786963272...|       0.0|\n",
            "|            0|     1|         19.75|                 19.75|        0.0|   (1,[0],[1.0])|    (1,[0],[1.0])|       (1,[0],[1.0])|         (1,[0],[1.0])|          (2,[0],[1.0])|                (2,[],[])|               (2,[],[])|             (2,[],[])|                 (2,[],[])|            (2,[],[])|            (2,[],[])|                (2,[],[])|     (2,[0],[1.0])|                 (1,[],[])|          (3,[1],[1.0])|(26,[0,1,2,3,4,20...|[1.67896830708461...|[0.84276786963272...|       0.0|\n",
            "|            0|     1|         19.75|                 19.75|        0.0|   (1,[0],[1.0])|    (1,[0],[1.0])|       (1,[0],[1.0])|         (1,[0],[1.0])|          (2,[0],[1.0])|                (2,[],[])|               (2,[],[])|             (2,[],[])|                 (2,[],[])|            (2,[],[])|            (2,[],[])|                (2,[],[])|     (2,[0],[1.0])|                 (1,[],[])|          (3,[2],[1.0])|(26,[0,1,2,3,4,20...|[1.90524922061539...|[0.87048448111823...|       0.0|\n",
            "|            0|     1|         19.75|                 19.75|        0.0|   (1,[0],[1.0])|    (1,[0],[1.0])|       (1,[0],[1.0])|         (1,[0],[1.0])|          (2,[0],[1.0])|                (2,[],[])|               (2,[],[])|             (2,[],[])|                 (2,[],[])|            (2,[],[])|            (2,[],[])|                (2,[],[])|     (2,[0],[1.0])|             (1,[0],[1.0])|              (3,[],[])|(26,[0,1,2,3,4,20...|[1.57405234891602...|[0.82836053552433...|       0.0|\n",
            "|            0|     1|          19.8|                  19.8|        1.0|   (1,[0],[1.0])|    (1,[0],[1.0])|       (1,[0],[1.0])|         (1,[0],[1.0])|          (2,[0],[1.0])|                (2,[],[])|               (2,[],[])|             (2,[],[])|                 (2,[],[])|            (2,[],[])|            (2,[],[])|                (2,[],[])|     (2,[0],[1.0])|                 (1,[],[])|          (3,[1],[1.0])|(26,[0,1,2,3,4,20...|[1.67896830708461...|[0.84276786963272...|       0.0|\n",
            "|            0|     1|         19.85|                 19.85|        0.0|   (1,[0],[1.0])|    (1,[0],[1.0])|           (1,[],[])|         (1,[0],[1.0])|          (2,[0],[1.0])|                (2,[],[])|               (2,[],[])|             (2,[],[])|                 (2,[],[])|            (2,[],[])|            (2,[],[])|                (2,[],[])|     (2,[0],[1.0])|                 (1,[],[])|          (3,[1],[1.0])|(26,[0,1,3,4,20,2...|[1.85860151818911...|[0.86513386032102...|       0.0|\n",
            "|            0|     1|          19.9|                  19.9|        0.0|   (1,[0],[1.0])|    (1,[0],[1.0])|       (1,[0],[1.0])|         (1,[0],[1.0])|          (2,[0],[1.0])|                (2,[],[])|               (2,[],[])|             (2,[],[])|                 (2,[],[])|            (2,[],[])|            (2,[],[])|                (2,[],[])|     (2,[0],[1.0])|             (1,[0],[1.0])|          (3,[1],[1.0])|(26,[0,1,2,3,4,20...|[1.38647161084251...|[0.80002835844758...|       0.0|\n",
            "|            0|     1|          19.9|                  19.9|        1.0|       (1,[],[])|        (1,[],[])|           (1,[],[])|         (1,[0],[1.0])|          (2,[0],[1.0])|                (2,[],[])|               (2,[],[])|             (2,[],[])|                 (2,[],[])|            (2,[],[])|            (2,[],[])|                (2,[],[])|     (2,[0],[1.0])|             (1,[0],[1.0])|          (3,[0],[1.0])|(26,[3,4,20,22,23...|[1.36987268685730...|[0.79735958343656...|       0.0|\n",
            "|            0|     1|         19.95|                 19.95|        0.0|       (1,[],[])|    (1,[0],[1.0])|       (1,[0],[1.0])|         (1,[0],[1.0])|          (2,[0],[1.0])|                (2,[],[])|               (2,[],[])|             (2,[],[])|                 (2,[],[])|            (2,[],[])|            (2,[],[])|                (2,[],[])|     (2,[0],[1.0])|                 (1,[],[])|              (3,[],[])|(26,[1,2,3,4,20],...|[1.78243127957695...|[0.85599682013077...|       0.0|\n",
            "|            0|     1|         20.05|                 20.05|        0.0|   (1,[0],[1.0])|    (1,[0],[1.0])|           (1,[],[])|         (1,[0],[1.0])|          (2,[0],[1.0])|                (2,[],[])|               (2,[],[])|             (2,[],[])|                 (2,[],[])|            (2,[],[])|            (2,[],[])|                (2,[],[])|     (2,[0],[1.0])|                 (1,[],[])|          (3,[1],[1.0])|(26,[0,1,3,4,20,2...|[1.85860151818911...|[0.86513386032102...|       0.0|\n",
            "+-------------+------+--------------+----------------------+-----------+----------------+-----------------+--------------------+----------------------+-----------------------+-------------------------+------------------------+----------------------+--------------------------+---------------------+---------------------+-------------------------+------------------+--------------------------+-----------------------+--------------------+--------------------+--------------------+----------+\n",
            "only showing top 20 rows\n",
            "\n"
          ]
        }
      ],
      "source": [
        "predictions = best_model.transform(test_df)\n",
        "predictions.show()"
      ]
    },
    {
      "cell_type": "markdown",
      "metadata": {
        "id": "gC41fZbahGCB"
      },
      "source": [
        "3. Получите метрику качества модели. Для этого примените к объекту evaluator метод .evaluate(<ваш датафрейм с предсказаниями>).\n",
        "\n"
      ]
    },
    {
      "cell_type": "code",
      "execution_count": 29,
      "metadata": {
        "id": "CBzDaleQhejy",
        "colab": {
          "base_uri": "https://localhost:8080/"
        },
        "outputId": "9a174502-5e37-4355-d996-36d6705f196b"
      },
      "outputs": [
        {
          "output_type": "stream",
          "name": "stdout",
          "text": [
            "Test Area Under ROC:  0.6917851701371255\n"
          ]
        }
      ],
      "source": [
        "accuracy = evaluator.evaluate(predictions)\n",
        "print(\"Test Area Under ROC: \", accuracy)"
      ]
    },
    {
      "cell_type": "markdown",
      "metadata": {
        "id": "nieC-XnAl-4m"
      },
      "source": [
        "# 10. Обратная связь\n",
        "Вы ознакомились с возможностями двух мощных библиотек: PySpark SQL для предобработки данных и PySpark ML для машинного обучения."
      ]
    },
    {
      "cell_type": "markdown",
      "metadata": {
        "id": "axLO-xV3pJx2"
      },
      "source": [
        "Поделитесь впечатлениями от работы с новыми библиотеками. В чём они более удобны, чем уже знакомые вам Pandas и Sklearn, а в чём нет."
      ]
    },
    {
      "cell_type": "markdown",
      "metadata": {
        "id": "kFGZBmLtwWi-"
      },
      "source": [
        "Синтаксис непривычен (тот же `random_state` обозвали как `seed`).\n",
        "\n",
        "В целом, удобно, что есть много готовых решений."
      ]
    },
    {
      "cell_type": "markdown",
      "metadata": {
        "id": "V9TYdK5gl9P4"
      },
      "source": [
        "# Как отправить работу на проверку\n",
        "\n",
        "Загрузите файл с заданиями, откройте его через Jupyter Notebook в Google Colab. Скачайте файл с датасетом и загрузите его в Colab. Выполните задачи, сохраните изменения: воспользуйтесь опцией Save and Checkpoint из вкладки меню File или кнопкой Save and Checkpoint на панели инструментов. Отправьте через форму ниже итоговый файл Jupyter Notebook (.ipynb) или ссылку на него."
      ]
    }
  ],
  "metadata": {
    "colab": {
      "provenance": []
    },
    "kernelspec": {
      "display_name": "Ananlyze",
      "language": "python",
      "name": "python3"
    },
    "language_info": {
      "codemirror_mode": {
        "name": "ipython",
        "version": 3
      },
      "file_extension": ".py",
      "mimetype": "text/x-python",
      "name": "python",
      "nbconvert_exporter": "python",
      "pygments_lexer": "ipython3",
      "version": "3.10.2"
    }
  },
  "nbformat": 4,
  "nbformat_minor": 0
}