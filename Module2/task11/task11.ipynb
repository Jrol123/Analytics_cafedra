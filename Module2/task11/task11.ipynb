{
  "cells": [
    {
      "cell_type": "markdown",
      "metadata": {
        "id": "wGUh9-kKDVk_"
      },
      "source": [
        "# Случайный лес\n",
        "\n",
        "В этом практическом задании вы решите задачу регрессии на реальных данных при помощи линейной модели и случайного леса. "
      ]
    },
    {
      "cell_type": "markdown",
      "metadata": {
        "id": "RS-i_3wQqtxS"
      },
      "source": [
        "## Цели практической работы\n",
        "\n",
        "* Научиться применять случайный лес в задаче регрессии.\n",
        "* Научиться сравнивать качество случайного леса с качеством линейной модели.\n",
        "* Научиться настраивать гиперпараметры леса."
      ]
    },
    {
      "cell_type": "markdown",
      "metadata": {
        "id": "4Uo9gVtsqbJX"
      },
      "source": [
        "## Что входит в работу\n",
        "\n",
        "* Выполнить предобработку данных.\n",
        "* Обучить линейную регрессию на данных задачи.\n",
        "* Обучить случайный лес на данных задачи.\n",
        "* Подобрать гиперпараметры для леса.\n",
        "* Визуализировать важность признаков у леса."
      ]
    },
    {
      "cell_type": "markdown",
      "metadata": {
        "id": "9WSnh3hKrFZX"
      },
      "source": [
        "## Что оценивается\n",
        "\n",
        "*  Все ячейки заполнены; при запуске ячеек  Python не выдаёт информацию об ошибках.\n",
        "*  Качество итоговой модели $R^2$ превышает 0,95.\n"
      ]
    },
    {
      "cell_type": "markdown",
      "metadata": {
        "id": "Tb-5iUrybT-m"
      },
      "source": [
        "## Что нужно сделать\n",
        "\n",
        "Постройте модели, предсказывающие стоимость автомобилей по характеристикам.\n",
        "\n",
        "Признаков у машин много, но в этой работе обойдёмся только числовыми признаками:\n",
        "*  year — год производства автомобиля;\n",
        "*  km_driven — пробег;\n",
        "*  seats — количество посадочных мест;\n",
        "*  mileage — другая характеристика пробега;\n",
        "*  engine — мощность двигателя;\n",
        "*  max_power — мощность автомобиля.\n",
        "\n",
        "Целевая переменная — selling_price."
      ]
    },
    {
      "cell_type": "code",
      "execution_count": 1,
      "metadata": {},
      "outputs": [],
      "source": [
        "from sklearn.model_selection import train_test_split, GridSearchCV\n",
        "from sklearn.linear_model import LinearRegression\n",
        "from sklearn.ensemble import RandomForestRegressor\n",
        "from sklearn.metrics import r2_score\n",
        "import matplotlib.pyplot as plt"
      ]
    },
    {
      "cell_type": "code",
      "execution_count": 2,
      "metadata": {},
      "outputs": [],
      "source": [
        "import pandas as pd\n",
        "import numpy as np"
      ]
    },
    {
      "cell_type": "code",
      "execution_count": 7,
      "metadata": {},
      "outputs": [],
      "source": [
        "import warnings\n",
        "warnings.simplefilter(\"ignore\")"
      ]
    },
    {
      "cell_type": "code",
      "execution_count": 4,
      "metadata": {
        "id": "0smCupJnhCRx"
      },
      "outputs": [],
      "source": [
        "train = pd.read_csv(\"cars_train.csv\")\n",
        "test = pd.read_csv(\"cars_test.csv\")"
      ]
    },
    {
      "cell_type": "markdown",
      "metadata": {
        "id": "TWiEH5reAKTF"
      },
      "source": [
        "В тренировочных данных есть автомобили, для которых неизвестна стоимость. Удалите эти автомобили из трейна."
      ]
    },
    {
      "cell_type": "code",
      "execution_count": null,
      "metadata": {
        "id": "2tLR6TQAiuXf"
      },
      "outputs": [],
      "source": [
        "train = train[train[\"selling_price\"].notnull()]"
      ]
    },
    {
      "cell_type": "markdown",
      "metadata": {
        "id": "jTjAo4UEL3IG"
      },
      "source": [
        "Создайте объекты Xtrain, ytrain, Xtest, ytest. Запишите в них матрицы «объект — признак» и векторы целевой переменной для тренировочного и тестового датасетов."
      ]
    },
    {
      "cell_type": "code",
      "execution_count": null,
      "metadata": {
        "id": "B151ci2AASUb"
      },
      "outputs": [],
      "source": [
        "X_train = train[[\"year\", \"km_driven\", \"seats\", \"engine\", \"mileage\", \"max_power\"]]\n",
        "y_train = train[\"selling_price\"]\n",
        "X_test = test[[\"year\", \"km_driven\", \"seats\", \"engine\", \"mileage\", \"max_power\"]]\n",
        "y_test = test[\"selling_price\"]"
      ]
    },
    {
      "cell_type": "markdown",
      "metadata": {
        "id": "3HbVvXLSlVK-"
      },
      "source": [
        "Перед обучением моделей обработайте данные.\n",
        "\n",
        "Обратите внимание, что столбцы mileage, engine и max_power по смыслу числовые. Чтобы превратить их в числовые столбцы, отбросьте единицы измерения и оставьте только числа. В столбцах есть пропущенные значения, их при обработке трогать не нужно."
      ]
    },
    {
      "cell_type": "code",
      "execution_count": null,
      "metadata": {
        "id": "OdvsVN9Blg7r"
      },
      "outputs": [],
      "source": [
        "def convert_to_numeric(col):\n",
        "    return col.str.replace(r\"[^0-9.]\", \"\", regex=True).astype(float)\n",
        "\n",
        "\n",
        "X_train[\"mileage\"] = convert_to_numeric(X_train[\"mileage\"])\n",
        "X_train[\"engine\"] = convert_to_numeric(X_train[\"engine\"])\n",
        "X_train[\"max_power\"] = convert_to_numeric(X_train[\"max_power\"])\n",
        "\n",
        "X_test[\"mileage\"] = convert_to_numeric(X_test[\"mileage\"])\n",
        "X_test[\"engine\"] = convert_to_numeric(X_test[\"engine\"])\n",
        "X_test[\"max_power\"] = convert_to_numeric(X_test[\"max_power\"])"
      ]
    },
    {
      "cell_type": "code",
      "execution_count": 9,
      "metadata": {},
      "outputs": [
        {
          "data": {
            "application/vnd.microsoft.datawrangler.viewer.v0+json": {
              "columns": [
                {
                  "name": "index",
                  "rawType": "int64",
                  "type": "integer"
                },
                {
                  "name": "year",
                  "rawType": "int64",
                  "type": "integer"
                },
                {
                  "name": "km_driven",
                  "rawType": "int64",
                  "type": "integer"
                },
                {
                  "name": "seats",
                  "rawType": "float64",
                  "type": "float"
                },
                {
                  "name": "engine",
                  "rawType": "float64",
                  "type": "float"
                },
                {
                  "name": "mileage",
                  "rawType": "float64",
                  "type": "float"
                },
                {
                  "name": "max_power",
                  "rawType": "float64",
                  "type": "float"
                }
              ],
              "conversionMethod": "pd.DataFrame",
              "ref": "e272a552-6297-412a-a3ab-7d58cf02f443",
              "rows": [
                [
                  "0",
                  "2010",
                  "168000",
                  "7.0",
                  "2498.0",
                  "14.0",
                  "112.0"
                ],
                [
                  "1",
                  "2017",
                  "25000",
                  "5.0",
                  "1497.0",
                  "21.5",
                  "108.5"
                ],
                [
                  "2",
                  "2007",
                  "218463",
                  "5.0",
                  "1799.0",
                  "12.9",
                  "130.0"
                ],
                [
                  "3",
                  "2015",
                  "173000",
                  "5.0",
                  "1498.0",
                  "25.1",
                  "98.6"
                ],
                [
                  "4",
                  "2011",
                  "70000",
                  "5.0",
                  "1172.0",
                  "16.5",
                  "65.0"
                ]
              ],
              "shape": {
                "columns": 6,
                "rows": 5
              }
            },
            "text/html": [
              "<div>\n",
              "<style scoped>\n",
              "    .dataframe tbody tr th:only-of-type {\n",
              "        vertical-align: middle;\n",
              "    }\n",
              "\n",
              "    .dataframe tbody tr th {\n",
              "        vertical-align: top;\n",
              "    }\n",
              "\n",
              "    .dataframe thead th {\n",
              "        text-align: right;\n",
              "    }\n",
              "</style>\n",
              "<table border=\"1\" class=\"dataframe\">\n",
              "  <thead>\n",
              "    <tr style=\"text-align: right;\">\n",
              "      <th></th>\n",
              "      <th>year</th>\n",
              "      <th>km_driven</th>\n",
              "      <th>seats</th>\n",
              "      <th>engine</th>\n",
              "      <th>mileage</th>\n",
              "      <th>max_power</th>\n",
              "    </tr>\n",
              "  </thead>\n",
              "  <tbody>\n",
              "    <tr>\n",
              "      <th>0</th>\n",
              "      <td>2010</td>\n",
              "      <td>168000</td>\n",
              "      <td>7.0</td>\n",
              "      <td>2498.0</td>\n",
              "      <td>14.0</td>\n",
              "      <td>112.0</td>\n",
              "    </tr>\n",
              "    <tr>\n",
              "      <th>1</th>\n",
              "      <td>2017</td>\n",
              "      <td>25000</td>\n",
              "      <td>5.0</td>\n",
              "      <td>1497.0</td>\n",
              "      <td>21.5</td>\n",
              "      <td>108.5</td>\n",
              "    </tr>\n",
              "    <tr>\n",
              "      <th>2</th>\n",
              "      <td>2007</td>\n",
              "      <td>218463</td>\n",
              "      <td>5.0</td>\n",
              "      <td>1799.0</td>\n",
              "      <td>12.9</td>\n",
              "      <td>130.0</td>\n",
              "    </tr>\n",
              "    <tr>\n",
              "      <th>3</th>\n",
              "      <td>2015</td>\n",
              "      <td>173000</td>\n",
              "      <td>5.0</td>\n",
              "      <td>1498.0</td>\n",
              "      <td>25.1</td>\n",
              "      <td>98.6</td>\n",
              "    </tr>\n",
              "    <tr>\n",
              "      <th>4</th>\n",
              "      <td>2011</td>\n",
              "      <td>70000</td>\n",
              "      <td>5.0</td>\n",
              "      <td>1172.0</td>\n",
              "      <td>16.5</td>\n",
              "      <td>65.0</td>\n",
              "    </tr>\n",
              "  </tbody>\n",
              "</table>\n",
              "</div>"
            ],
            "text/plain": [
              "   year  km_driven  seats  engine  mileage  max_power\n",
              "0  2010     168000    7.0  2498.0     14.0      112.0\n",
              "1  2017      25000    5.0  1497.0     21.5      108.5\n",
              "2  2007     218463    5.0  1799.0     12.9      130.0\n",
              "3  2015     173000    5.0  1498.0     25.1       98.6\n",
              "4  2011      70000    5.0  1172.0     16.5       65.0"
            ]
          },
          "execution_count": 9,
          "metadata": {},
          "output_type": "execute_result"
        }
      ],
      "source": [
        "X_test.head()"
      ]
    },
    {
      "cell_type": "markdown",
      "metadata": {
        "id": "p43qUhHg-_-e"
      },
      "source": [
        "Оставьте в данных только шесть числовых столбцов:\n",
        "\n",
        "year, km_driven, seats, engine, mileage, max_power"
      ]
    },
    {
      "cell_type": "code",
      "execution_count": null,
      "metadata": {
        "id": "vP0FYosyix7_"
      },
      "outputs": [],
      "source": [
        "X_train = X_train[[\"year\", \"km_driven\", \"seats\", \"engine\", \"mileage\", \"max_power\"]]\n",
        "X_test = X_test[[\"year\", \"km_driven\", \"seats\", \"engine\", \"mileage\", \"max_power\"]]"
      ]
    },
    {
      "cell_type": "markdown",
      "metadata": {
        "id": "Q0AsRR_69ZFH"
      },
      "source": [
        "Теперь заполните пропуски следующим образом:\n",
        "\n",
        "*    вычислите средние значения по столбцам тренировочной выборки;\n",
        "\n",
        "*    добавьте в пропуски в тренировочных и тестовых данных вычисленные средние."
      ]
    },
    {
      "cell_type": "code",
      "execution_count": 11,
      "metadata": {
        "id": "yk0P1b6X9qqh"
      },
      "outputs": [],
      "source": [
        "mean_values = X_train.mean()\n",
        "\n",
        "X_train.fillna(mean_values, inplace=True)\n",
        "X_test.fillna(mean_values, inplace=True)"
      ]
    },
    {
      "cell_type": "markdown",
      "metadata": {
        "id": "BUatWsDGi_rj"
      },
      "source": [
        "Теперь на обработанных тренировочных данных обучите:\n",
        "\n",
        "*  линейную регрессию,\n",
        "*  случайный лес с параметрами по умолчанию.\n",
        "\n",
        "На обработанных тестовых данных сделайте предсказание и вычислите метрику $R^2$. "
      ]
    },
    {
      "cell_type": "code",
      "execution_count": null,
      "metadata": {
        "id": "cQ7iS1eu-s_8"
      },
      "outputs": [
        {
          "name": "stdout",
          "output_type": "stream",
          "text": [
            "R^2 линейной регрессии: 0.6485839251280137\n",
            "R^2 случайного леса: 0.9629520400960621\n"
          ]
        }
      ],
      "source": [
        "lin_reg = LinearRegression()\n",
        "lin_reg.fit(X_train, y_train)\n",
        "y_pred_lin = lin_reg.predict(X_test)\n",
        "r2_lin = r2_score(y_test, y_pred_lin)\n",
        "\n",
        "rf = RandomForestRegressor(random_state=42)\n",
        "rf.fit(X_train, y_train)\n",
        "y_pred_rf = rf.predict(X_test)\n",
        "r2_rf = r2_score(y_test, y_pred_rf)\n",
        "\n",
        "print(f\"R^2 линейной регрессии: {r2_lin}\")\n",
        "print(f\"R^2 случайного леса: {r2_rf}\")"
      ]
    },
    {
      "cell_type": "markdown",
      "metadata": {
        "id": "LbbD1-qC76HW"
      },
      "source": [
        "Какая модель получилась лучше?"
      ]
    },
    {
      "cell_type": "markdown",
      "metadata": {
        "id": "j3N-kazm767P"
      },
      "source": [
        "Модель RandomForest"
      ]
    },
    {
      "cell_type": "markdown",
      "metadata": {
        "id": "J36iRaNoBEkT"
      },
      "source": [
        "Улучшите качество предсказания случайного леса путём подбора гиперпараметров:\n",
        "\n",
        "*   n_estimators,\n",
        "*   max_depth,\n",
        "*   max_features,\n",
        "*   min_samples_leaf,\n",
        "*   min_samples_split.\n",
        "\n",
        "Для подбора гиперпараметров используйте GridSearchCV. Обучайте GridSearchCV по тренировочным данным с разбивкой на три фолда и метрикой $R^2$."
      ]
    },
    {
      "cell_type": "code",
      "execution_count": 13,
      "metadata": {
        "id": "3IWEulMqBXlv"
      },
      "outputs": [
        {
          "name": "stdout",
          "output_type": "stream",
          "text": [
            "Fitting 3 folds for each of 324 candidates, totalling 972 fits\n"
          ]
        }
      ],
      "source": [
        "param_grid = {\n",
        "    \"n_estimators\": [50, 100, 200],\n",
        "    \"max_depth\": [None, 10, 20, 30],\n",
        "    \"max_features\": [\"auto\", \"sqrt\", \"log2\"],\n",
        "    \"min_samples_leaf\": [1, 2, 4],\n",
        "    \"min_samples_split\": [2, 5, 10],\n",
        "}\n",
        "\n",
        "grid_search = GridSearchCV(\n",
        "    RandomForestRegressor(random_state=42),\n",
        "    param_grid,\n",
        "    scoring=\"r2\",\n",
        "    cv=3,\n",
        "    verbose=2,\n",
        "    n_jobs=-1,\n",
        ")\n",
        "\n",
        "grid_search.fit(X_train, y_train)\n",
        "\n",
        "best_rf = grid_search.best_estimator_"
      ]
    },
    {
      "cell_type": "markdown",
      "metadata": {
        "id": "TPNNp6cPDsjD"
      },
      "source": [
        "Теперь обучите на тренировочных данных случайный лес с найденными гиперпараметрами. Сделайте предсказание на тестовых данных и оцените его качество ($R^2$)."
      ]
    },
    {
      "cell_type": "code",
      "execution_count": null,
      "metadata": {
        "id": "MPdZ9qCxDrkF"
      },
      "outputs": [
        {
          "name": "stdout",
          "output_type": "stream",
          "text": [
            "Лучшие гиперпараметры: {'max_depth': 30, 'max_features': 'sqrt', 'min_samples_leaf': 1, 'min_samples_split': 2, 'n_estimators': 200}\n",
            "R^2 с оптимизированным случайным лесом: 0.9640757124077554\n"
          ]
        }
      ],
      "source": [
        "y_pred_best_rf = best_rf.predict(X_test)\n",
        "r2_best_rf = r2_score(y_test, y_pred_best_rf)\n",
        "\n",
        "print(f\"Лучшие гиперпараметры: {grid_search.best_params_}\")\n",
        "print(f\"R^2 с оптимизированным случайным лесом: {r2_best_rf}\")"
      ]
    },
    {
      "cell_type": "markdown",
      "metadata": {
        "id": "dpWSQeD4ENby"
      },
      "source": [
        "Модель готова. Осталось её проинтерпретировать.\n",
        "\n",
        "При помощи метода model.feature_importances_ визуализируйте гистограмму важности признаков у случайного леса с настроенными гиперпараметрами."
      ]
    },
    {
      "cell_type": "code",
      "execution_count": null,
      "metadata": {
        "id": "7uZzKbUnD54w"
      },
      "outputs": [
        {
          "data": {
            "image/png": "[encoded data removed]",
            "text/plain": [
              "<Figure size 1000x600 with 1 Axes>"
            ]
          },
          "metadata": {},
          "output_type": "display_data"
        }
      ],
      "source": [
        "importances = best_rf.feature_importances_\n",
        "features = X_train.columns\n",
        "\n",
        "feature_importances = pd.DataFrame({\"feature\": features, \"importance\": importances})\n",
        "feature_importances.sort_values(by=\"importance\", ascending=False, inplace=True)\n",
        "\n",
        "plt.figure(figsize=(10, 6))\n",
        "plt.barh(feature_importances[\"feature\"], feature_importances[\"importance\"])\n",
        "plt.xlabel(\"Важность признаков\")\n",
        "plt.title(\"Важность признаков для случайного леса\")\n",
        "plt.show()"
      ]
    },
    {
      "cell_type": "code",
      "execution_count": null,
      "metadata": {},
      "outputs": [],
      "source": []
    }
  ],
  "metadata": {
    "colab": {
      "provenance": []
    },
    "kernelspec": {
      "display_name": "Ananlyze",
      "language": "python",
      "name": "python3"
    },
    "language_info": {
      "codemirror_mode": {
        "name": "ipython",
        "version": 3
      },
      "file_extension": ".py",
      "mimetype": "text/x-python",
      "name": "python",
      "nbconvert_exporter": "python",
      "pygments_lexer": "ipython3",
      "version": "3.10.2"
    }
  },
  "nbformat": 4,
  "nbformat_minor": 0
}
