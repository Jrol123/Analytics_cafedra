{
 "cells": [
  {
   "cell_type": "code",
   "execution_count": 406,
   "metadata": {},
   "outputs": [],
   "source": [
    "import pandas as pd\n",
    "import numpy as np\n",
    "import matplotlib.pyplot as plt\n",
    "import re"
   ]
  },
  {
   "cell_type": "markdown",
   "metadata": {},
   "source": [
    "# Подзадача 1\n",
    "Загрузите датасет и ознакомьтесь с количеством пропущенных значений."
   ]
  },
  {
   "cell_type": "code",
   "execution_count": 407,
   "metadata": {},
   "outputs": [
    {
     "data": {
      "text/html": [
       "<div>\n",
       "<style scoped>\n",
       "    .dataframe tbody tr th:only-of-type {\n",
       "        vertical-align: middle;\n",
       "    }\n",
       "\n",
       "    .dataframe tbody tr th {\n",
       "        vertical-align: top;\n",
       "    }\n",
       "\n",
       "    .dataframe thead th {\n",
       "        text-align: right;\n",
       "    }\n",
       "</style>\n",
       "<table border=\"1\" class=\"dataframe\">\n",
       "  <thead>\n",
       "    <tr style=\"text-align: right;\">\n",
       "      <th></th>\n",
       "      <th>id</th>\n",
       "      <th>url</th>\n",
       "      <th>region</th>\n",
       "      <th>region_url</th>\n",
       "      <th>price</th>\n",
       "      <th>year</th>\n",
       "      <th>manufacturer</th>\n",
       "      <th>model</th>\n",
       "      <th>condition</th>\n",
       "      <th>cylinders</th>\n",
       "      <th>...</th>\n",
       "      <th>type</th>\n",
       "      <th>paint_color</th>\n",
       "      <th>image_url</th>\n",
       "      <th>description</th>\n",
       "      <th>county</th>\n",
       "      <th>state</th>\n",
       "      <th>lat</th>\n",
       "      <th>long</th>\n",
       "      <th>posting_date</th>\n",
       "      <th>price_category</th>\n",
       "    </tr>\n",
       "  </thead>\n",
       "  <tbody>\n",
       "    <tr>\n",
       "      <th>0</th>\n",
       "      <td>7308295377</td>\n",
       "      <td>https://chattanooga.craigslist.org/ctd/d/chatt...</td>\n",
       "      <td>chattanooga</td>\n",
       "      <td>https://chattanooga.craigslist.org</td>\n",
       "      <td>54990</td>\n",
       "      <td>2020.0</td>\n",
       "      <td>ram</td>\n",
       "      <td>2500 crew cab big horn</td>\n",
       "      <td>good</td>\n",
       "      <td>NaN</td>\n",
       "      <td>...</td>\n",
       "      <td>pickup</td>\n",
       "      <td>silver</td>\n",
       "      <td>https://images.craigslist.org/00N0N_1xMPvfxRAI...</td>\n",
       "      <td>Carvana is the safer way to buy a car During t...</td>\n",
       "      <td>NaN</td>\n",
       "      <td>tn</td>\n",
       "      <td>35.060000</td>\n",
       "      <td>-85.250000</td>\n",
       "      <td>2021-04-17T12:30:50-0400</td>\n",
       "      <td>high</td>\n",
       "    </tr>\n",
       "    <tr>\n",
       "      <th>1</th>\n",
       "      <td>7316380095</td>\n",
       "      <td>https://newjersey.craigslist.org/ctd/d/carlsta...</td>\n",
       "      <td>north jersey</td>\n",
       "      <td>https://newjersey.craigslist.org</td>\n",
       "      <td>16942</td>\n",
       "      <td>2016.0</td>\n",
       "      <td>ford</td>\n",
       "      <td>explorer 4wd 4dr xlt</td>\n",
       "      <td>NaN</td>\n",
       "      <td>6 cylinders</td>\n",
       "      <td>...</td>\n",
       "      <td>SUV</td>\n",
       "      <td>black</td>\n",
       "      <td>https://images.craigslist.org/00x0x_26jl9F0cnL...</td>\n",
       "      <td>***Call Us for more information at: 201-635-14...</td>\n",
       "      <td>NaN</td>\n",
       "      <td>nj</td>\n",
       "      <td>40.821805</td>\n",
       "      <td>-74.061962</td>\n",
       "      <td>2021-05-03T15:40:21-0400</td>\n",
       "      <td>medium</td>\n",
       "    </tr>\n",
       "    <tr>\n",
       "      <th>2</th>\n",
       "      <td>7313733749</td>\n",
       "      <td>https://reno.craigslist.org/ctd/d/atlanta-2017...</td>\n",
       "      <td>reno / tahoe</td>\n",
       "      <td>https://reno.craigslist.org</td>\n",
       "      <td>35590</td>\n",
       "      <td>2017.0</td>\n",
       "      <td>volkswagen</td>\n",
       "      <td>golf r hatchback</td>\n",
       "      <td>good</td>\n",
       "      <td>NaN</td>\n",
       "      <td>...</td>\n",
       "      <td>sedan</td>\n",
       "      <td>NaN</td>\n",
       "      <td>https://images.craigslist.org/00y0y_eeZjWeiSfb...</td>\n",
       "      <td>Carvana is the safer way to buy a car During t...</td>\n",
       "      <td>NaN</td>\n",
       "      <td>ca</td>\n",
       "      <td>33.779214</td>\n",
       "      <td>-84.411811</td>\n",
       "      <td>2021-04-28T03:52:20-0700</td>\n",
       "      <td>high</td>\n",
       "    </tr>\n",
       "    <tr>\n",
       "      <th>3</th>\n",
       "      <td>7308210929</td>\n",
       "      <td>https://fayetteville.craigslist.org/ctd/d/rale...</td>\n",
       "      <td>fayetteville</td>\n",
       "      <td>https://fayetteville.craigslist.org</td>\n",
       "      <td>14500</td>\n",
       "      <td>2013.0</td>\n",
       "      <td>toyota</td>\n",
       "      <td>rav4</td>\n",
       "      <td>NaN</td>\n",
       "      <td>NaN</td>\n",
       "      <td>...</td>\n",
       "      <td>wagon</td>\n",
       "      <td>white</td>\n",
       "      <td>https://images.craigslist.org/00606_iGe5iXidib...</td>\n",
       "      <td>2013 Toyota RAV4 XLE 4dr SUV     Offered by: R...</td>\n",
       "      <td>NaN</td>\n",
       "      <td>nc</td>\n",
       "      <td>35.715954</td>\n",
       "      <td>-78.655304</td>\n",
       "      <td>2021-04-17T10:08:57-0400</td>\n",
       "      <td>medium</td>\n",
       "    </tr>\n",
       "    <tr>\n",
       "      <th>4</th>\n",
       "      <td>7316474668</td>\n",
       "      <td>https://newyork.craigslist.org/lgi/cto/d/baldw...</td>\n",
       "      <td>new york city</td>\n",
       "      <td>https://newyork.craigslist.org</td>\n",
       "      <td>21800</td>\n",
       "      <td>2021.0</td>\n",
       "      <td>nissan</td>\n",
       "      <td>altima</td>\n",
       "      <td>new</td>\n",
       "      <td>4 cylinders</td>\n",
       "      <td>...</td>\n",
       "      <td>NaN</td>\n",
       "      <td>NaN</td>\n",
       "      <td>https://images.craigslist.org/00V0V_3pSOiPZ3Sd...</td>\n",
       "      <td>2021 Nissan Altima Sv with Only 8 K Miles Titl...</td>\n",
       "      <td>NaN</td>\n",
       "      <td>ny</td>\n",
       "      <td>40.654800</td>\n",
       "      <td>-73.609700</td>\n",
       "      <td>2021-05-03T18:32:06-0400</td>\n",
       "      <td>medium</td>\n",
       "    </tr>\n",
       "    <tr>\n",
       "      <th>...</th>\n",
       "      <td>...</td>\n",
       "      <td>...</td>\n",
       "      <td>...</td>\n",
       "      <td>...</td>\n",
       "      <td>...</td>\n",
       "      <td>...</td>\n",
       "      <td>...</td>\n",
       "      <td>...</td>\n",
       "      <td>...</td>\n",
       "      <td>...</td>\n",
       "      <td>...</td>\n",
       "      <td>...</td>\n",
       "      <td>...</td>\n",
       "      <td>...</td>\n",
       "      <td>...</td>\n",
       "      <td>...</td>\n",
       "      <td>...</td>\n",
       "      <td>...</td>\n",
       "      <td>...</td>\n",
       "      <td>...</td>\n",
       "      <td>...</td>\n",
       "    </tr>\n",
       "    <tr>\n",
       "      <th>10045</th>\n",
       "      <td>7304876387</td>\n",
       "      <td>https://chautauqua.craigslist.org/ctd/d/falcon...</td>\n",
       "      <td>chautauqua</td>\n",
       "      <td>https://chautauqua.craigslist.org</td>\n",
       "      <td>4495</td>\n",
       "      <td>2002.0</td>\n",
       "      <td>toyota</td>\n",
       "      <td>rav4</td>\n",
       "      <td>good</td>\n",
       "      <td>4 cylinders</td>\n",
       "      <td>...</td>\n",
       "      <td>SUV</td>\n",
       "      <td>white</td>\n",
       "      <td>https://images.craigslist.org/00n0n_aaEBqmzz5Z...</td>\n",
       "      <td>Transmission:Automatic Exterior Color:WHITE In...</td>\n",
       "      <td>NaN</td>\n",
       "      <td>ny</td>\n",
       "      <td>42.123900</td>\n",
       "      <td>-79.189500</td>\n",
       "      <td>2021-04-10T16:33:57-0400</td>\n",
       "      <td>low</td>\n",
       "    </tr>\n",
       "    <tr>\n",
       "      <th>10046</th>\n",
       "      <td>7316152972</td>\n",
       "      <td>https://binghamton.craigslist.org/ctd/d/roches...</td>\n",
       "      <td>binghamton</td>\n",
       "      <td>https://binghamton.craigslist.org</td>\n",
       "      <td>14495</td>\n",
       "      <td>2008.0</td>\n",
       "      <td>jeep</td>\n",
       "      <td>wrangler</td>\n",
       "      <td>good</td>\n",
       "      <td>6 cylinders</td>\n",
       "      <td>...</td>\n",
       "      <td>SUV</td>\n",
       "      <td>grey</td>\n",
       "      <td>https://images.craigslist.org/00000_9ZNVdXaiei...</td>\n",
       "      <td>2008 Jeep Wrangler X  Offered by: R&amp;L Auto -- ...</td>\n",
       "      <td>NaN</td>\n",
       "      <td>ny</td>\n",
       "      <td>43.216990</td>\n",
       "      <td>-77.755610</td>\n",
       "      <td>2021-05-03T09:36:30-0400</td>\n",
       "      <td>medium</td>\n",
       "    </tr>\n",
       "    <tr>\n",
       "      <th>10047</th>\n",
       "      <td>7310993818</td>\n",
       "      <td>https://salem.craigslist.org/ctd/d/salem-2011-...</td>\n",
       "      <td>salem</td>\n",
       "      <td>https://salem.craigslist.org</td>\n",
       "      <td>8995</td>\n",
       "      <td>2011.0</td>\n",
       "      <td>audi</td>\n",
       "      <td>a3 2.0t premium plus pzev</td>\n",
       "      <td>NaN</td>\n",
       "      <td>4 cylinders</td>\n",
       "      <td>...</td>\n",
       "      <td>wagon</td>\n",
       "      <td>black</td>\n",
       "      <td>https://images.craigslist.org/00X0X_k5JiZDDyqM...</td>\n",
       "      <td>2011 Audi A3 2.0T Premium Plus PZEV Wagon2011 ...</td>\n",
       "      <td>NaN</td>\n",
       "      <td>or</td>\n",
       "      <td>44.925908</td>\n",
       "      <td>-122.982753</td>\n",
       "      <td>2021-04-22T12:14:01-0700</td>\n",
       "      <td>low</td>\n",
       "    </tr>\n",
       "    <tr>\n",
       "      <th>10048</th>\n",
       "      <td>7306637427</td>\n",
       "      <td>https://madison.craigslist.org/ctd/d/madison-2...</td>\n",
       "      <td>madison</td>\n",
       "      <td>https://madison.craigslist.org</td>\n",
       "      <td>31900</td>\n",
       "      <td>2015.0</td>\n",
       "      <td>porsche</td>\n",
       "      <td>cayenne</td>\n",
       "      <td>good</td>\n",
       "      <td>6 cylinders</td>\n",
       "      <td>...</td>\n",
       "      <td>wagon</td>\n",
       "      <td>brown</td>\n",
       "      <td>https://images.craigslist.org/00O0O_gBihGEQxYT...</td>\n",
       "      <td>2015 Porsche Cayenne AWD 4dr S E-Hybrid - $31,...</td>\n",
       "      <td>NaN</td>\n",
       "      <td>wi</td>\n",
       "      <td>43.029559</td>\n",
       "      <td>-89.397796</td>\n",
       "      <td>2021-04-14T09:14:42-0500</td>\n",
       "      <td>high</td>\n",
       "    </tr>\n",
       "    <tr>\n",
       "      <th>10049</th>\n",
       "      <td>7311960763</td>\n",
       "      <td>https://norfolk.craigslist.org/ctd/d/chesapeak...</td>\n",
       "      <td>norfolk / hampton roads</td>\n",
       "      <td>https://norfolk.craigslist.org</td>\n",
       "      <td>31990</td>\n",
       "      <td>2017.0</td>\n",
       "      <td>ram</td>\n",
       "      <td>1500 crew cab big horn</td>\n",
       "      <td>good</td>\n",
       "      <td>8 cylinders</td>\n",
       "      <td>...</td>\n",
       "      <td>pickup</td>\n",
       "      <td>white</td>\n",
       "      <td>https://images.craigslist.org/00c0c_4rTlvLXy36...</td>\n",
       "      <td>Carvana is the safer way to buy a car During t...</td>\n",
       "      <td>NaN</td>\n",
       "      <td>va</td>\n",
       "      <td>36.670000</td>\n",
       "      <td>-76.300000</td>\n",
       "      <td>2021-04-24T13:50:49-0400</td>\n",
       "      <td>high</td>\n",
       "    </tr>\n",
       "  </tbody>\n",
       "</table>\n",
       "<p>10050 rows × 27 columns</p>\n",
       "</div>"
      ],
      "text/plain": [
       "               id                                                url  \\\n",
       "0      7308295377  https://chattanooga.craigslist.org/ctd/d/chatt...   \n",
       "1      7316380095  https://newjersey.craigslist.org/ctd/d/carlsta...   \n",
       "2      7313733749  https://reno.craigslist.org/ctd/d/atlanta-2017...   \n",
       "3      7308210929  https://fayetteville.craigslist.org/ctd/d/rale...   \n",
       "4      7316474668  https://newyork.craigslist.org/lgi/cto/d/baldw...   \n",
       "...           ...                                                ...   \n",
       "10045  7304876387  https://chautauqua.craigslist.org/ctd/d/falcon...   \n",
       "10046  7316152972  https://binghamton.craigslist.org/ctd/d/roches...   \n",
       "10047  7310993818  https://salem.craigslist.org/ctd/d/salem-2011-...   \n",
       "10048  7306637427  https://madison.craigslist.org/ctd/d/madison-2...   \n",
       "10049  7311960763  https://norfolk.craigslist.org/ctd/d/chesapeak...   \n",
       "\n",
       "                        region                           region_url  price  \\\n",
       "0                  chattanooga   https://chattanooga.craigslist.org  54990   \n",
       "1                 north jersey     https://newjersey.craigslist.org  16942   \n",
       "2                 reno / tahoe          https://reno.craigslist.org  35590   \n",
       "3                 fayetteville  https://fayetteville.craigslist.org  14500   \n",
       "4                new york city       https://newyork.craigslist.org  21800   \n",
       "...                        ...                                  ...    ...   \n",
       "10045               chautauqua    https://chautauqua.craigslist.org   4495   \n",
       "10046               binghamton    https://binghamton.craigslist.org  14495   \n",
       "10047                    salem         https://salem.craigslist.org   8995   \n",
       "10048                  madison       https://madison.craigslist.org  31900   \n",
       "10049  norfolk / hampton roads       https://norfolk.craigslist.org  31990   \n",
       "\n",
       "         year manufacturer                      model condition    cylinders  \\\n",
       "0      2020.0          ram     2500 crew cab big horn      good          NaN   \n",
       "1      2016.0         ford       explorer 4wd 4dr xlt       NaN  6 cylinders   \n",
       "2      2017.0   volkswagen           golf r hatchback      good          NaN   \n",
       "3      2013.0       toyota                       rav4       NaN          NaN   \n",
       "4      2021.0       nissan                     altima       new  4 cylinders   \n",
       "...       ...          ...                        ...       ...          ...   \n",
       "10045  2002.0       toyota                       rav4      good  4 cylinders   \n",
       "10046  2008.0         jeep                   wrangler      good  6 cylinders   \n",
       "10047  2011.0         audi  a3 2.0t premium plus pzev       NaN  4 cylinders   \n",
       "10048  2015.0      porsche                    cayenne      good  6 cylinders   \n",
       "10049  2017.0          ram     1500 crew cab big horn      good  8 cylinders   \n",
       "\n",
       "       ...    type  paint_color  \\\n",
       "0      ...  pickup       silver   \n",
       "1      ...     SUV        black   \n",
       "2      ...   sedan          NaN   \n",
       "3      ...   wagon        white   \n",
       "4      ...     NaN          NaN   \n",
       "...    ...     ...          ...   \n",
       "10045  ...     SUV        white   \n",
       "10046  ...     SUV         grey   \n",
       "10047  ...   wagon        black   \n",
       "10048  ...   wagon        brown   \n",
       "10049  ...  pickup        white   \n",
       "\n",
       "                                               image_url  \\\n",
       "0      https://images.craigslist.org/00N0N_1xMPvfxRAI...   \n",
       "1      https://images.craigslist.org/00x0x_26jl9F0cnL...   \n",
       "2      https://images.craigslist.org/00y0y_eeZjWeiSfb...   \n",
       "3      https://images.craigslist.org/00606_iGe5iXidib...   \n",
       "4      https://images.craigslist.org/00V0V_3pSOiPZ3Sd...   \n",
       "...                                                  ...   \n",
       "10045  https://images.craigslist.org/00n0n_aaEBqmzz5Z...   \n",
       "10046  https://images.craigslist.org/00000_9ZNVdXaiei...   \n",
       "10047  https://images.craigslist.org/00X0X_k5JiZDDyqM...   \n",
       "10048  https://images.craigslist.org/00O0O_gBihGEQxYT...   \n",
       "10049  https://images.craigslist.org/00c0c_4rTlvLXy36...   \n",
       "\n",
       "                                             description county state  \\\n",
       "0      Carvana is the safer way to buy a car During t...    NaN    tn   \n",
       "1      ***Call Us for more information at: 201-635-14...    NaN    nj   \n",
       "2      Carvana is the safer way to buy a car During t...    NaN    ca   \n",
       "3      2013 Toyota RAV4 XLE 4dr SUV     Offered by: R...    NaN    nc   \n",
       "4      2021 Nissan Altima Sv with Only 8 K Miles Titl...    NaN    ny   \n",
       "...                                                  ...    ...   ...   \n",
       "10045  Transmission:Automatic Exterior Color:WHITE In...    NaN    ny   \n",
       "10046  2008 Jeep Wrangler X  Offered by: R&L Auto -- ...    NaN    ny   \n",
       "10047  2011 Audi A3 2.0T Premium Plus PZEV Wagon2011 ...    NaN    or   \n",
       "10048  2015 Porsche Cayenne AWD 4dr S E-Hybrid - $31,...    NaN    wi   \n",
       "10049  Carvana is the safer way to buy a car During t...    NaN    va   \n",
       "\n",
       "             lat        long              posting_date price_category  \n",
       "0      35.060000  -85.250000  2021-04-17T12:30:50-0400           high  \n",
       "1      40.821805  -74.061962  2021-05-03T15:40:21-0400         medium  \n",
       "2      33.779214  -84.411811  2021-04-28T03:52:20-0700           high  \n",
       "3      35.715954  -78.655304  2021-04-17T10:08:57-0400         medium  \n",
       "4      40.654800  -73.609700  2021-05-03T18:32:06-0400         medium  \n",
       "...          ...         ...                       ...            ...  \n",
       "10045  42.123900  -79.189500  2021-04-10T16:33:57-0400            low  \n",
       "10046  43.216990  -77.755610  2021-05-03T09:36:30-0400         medium  \n",
       "10047  44.925908 -122.982753  2021-04-22T12:14:01-0700            low  \n",
       "10048  43.029559  -89.397796  2021-04-14T09:14:42-0500           high  \n",
       "10049  36.670000  -76.300000  2021-04-24T13:50:49-0400           high  \n",
       "\n",
       "[10050 rows x 27 columns]"
      ]
     },
     "execution_count": 407,
     "metadata": {},
     "output_type": "execute_result"
    }
   ],
   "source": [
    "df = pd.read_csv('vehicles_dataset.csv')\n",
    "df"
   ]
  },
  {
   "cell_type": "code",
   "execution_count": 408,
   "metadata": {},
   "outputs": [
    {
     "name": "stdout",
     "output_type": "stream",
     "text": [
      "<class 'pandas.core.frame.DataFrame'>\n",
      "RangeIndex: 10050 entries, 0 to 10049\n",
      "Data columns (total 27 columns):\n",
      " #   Column          Non-Null Count  Dtype  \n",
      "---  ------          --------------  -----  \n",
      " 0   id              10050 non-null  int64  \n",
      " 1   url             10050 non-null  object \n",
      " 2   region          10050 non-null  object \n",
      " 3   region_url      10050 non-null  object \n",
      " 4   price           10050 non-null  int64  \n",
      " 5   year            10014 non-null  float64\n",
      " 6   manufacturer    9665 non-null   object \n",
      " 7   model           9921 non-null   object \n",
      " 8   condition       6268 non-null   object \n",
      " 9   cylinders       5953 non-null   object \n",
      " 10  fuel            9987 non-null   object \n",
      " 11  odometer        10007 non-null  float64\n",
      " 12  title_status    9884 non-null   object \n",
      " 13  transmission    10005 non-null  object \n",
      " 14  VIN             6086 non-null   object \n",
      " 15  drive           7026 non-null   object \n",
      " 16  size            2825 non-null   object \n",
      " 17  type            7845 non-null   object \n",
      " 18  paint_color     7087 non-null   object \n",
      " 19  image_url       10048 non-null  object \n",
      " 20  description     10048 non-null  object \n",
      " 21  county          0 non-null      float64\n",
      " 22  state           10050 non-null  object \n",
      " 23  lat             9951 non-null   float64\n",
      " 24  long            9951 non-null   float64\n",
      " 25  posting_date    10048 non-null  object \n",
      " 26  price_category  10050 non-null  object \n",
      "dtypes: float64(5), int64(2), object(20)\n",
      "memory usage: 2.1+ MB\n"
     ]
    }
   ],
   "source": [
    "df.info()"
   ]
  },
  {
   "cell_type": "code",
   "execution_count": 409,
   "metadata": {},
   "outputs": [
    {
     "name": "stdout",
     "output_type": "stream",
     "text": [
      "id        \t0\n",
      "url       \t0\n",
      "region    \t0\n",
      "region_url\t0\n",
      "price     \t0\n",
      "year      \t36\n",
      "manufacturer\t385\n",
      "model     \t129\n",
      "condition \t3782\n",
      "cylinders \t4097\n",
      "fuel      \t63\n",
      "odometer  \t43\n",
      "title_status\t166\n",
      "transmission\t45\n",
      "VIN       \t3964\n",
      "drive     \t3024\n",
      "size      \t7225\n",
      "type      \t2205\n",
      "paint_color\t2963\n",
      "image_url \t2\n",
      "description\t2\n",
      "county    \t10050\n",
      "state     \t0\n",
      "lat       \t99\n",
      "long      \t99\n",
      "posting_date\t2\n",
      "price_category\t0\n"
     ]
    }
   ],
   "source": [
    "for column in df.columns:\n",
    "    print(f\"{column:<10}\", df[column].isna().sum(), sep='\\t')\n",
    "    "
   ]
  },
  {
   "cell_type": "code",
   "execution_count": 410,
   "metadata": {},
   "outputs": [
    {
     "data": {
      "text/plain": [
       "id                    0\n",
       "url                   0\n",
       "region                0\n",
       "region_url            0\n",
       "price                 0\n",
       "year                 36\n",
       "manufacturer        385\n",
       "model               129\n",
       "condition          3782\n",
       "cylinders          4097\n",
       "fuel                 63\n",
       "odometer             43\n",
       "title_status        166\n",
       "transmission         45\n",
       "VIN                3964\n",
       "drive              3024\n",
       "size               7225\n",
       "type               2205\n",
       "paint_color        2963\n",
       "image_url             2\n",
       "description           2\n",
       "county            10050\n",
       "state                 0\n",
       "lat                  99\n",
       "long                 99\n",
       "posting_date          2\n",
       "price_category        0\n",
       "dtype: int64"
      ]
     },
     "execution_count": 410,
     "metadata": {},
     "output_type": "execute_result"
    }
   ],
   "source": [
    "df.isna().sum() # Можно сделать двумя способами"
   ]
  },
  {
   "cell_type": "markdown",
   "metadata": {},
   "source": [
    "# Подзадача 2\n",
    "Обработайте пропуски в годе выпуска автомобиля"
   ]
  },
  {
   "cell_type": "code",
   "execution_count": 411,
   "metadata": {},
   "outputs": [
    {
     "data": {
      "text/plain": [
       "0        2020.0\n",
       "1        2016.0\n",
       "2        2017.0\n",
       "3        2013.0\n",
       "4        2021.0\n",
       "          ...  \n",
       "10045    2002.0\n",
       "10046    2008.0\n",
       "10047    2011.0\n",
       "10048    2015.0\n",
       "10049    2017.0\n",
       "Name: year, Length: 10050, dtype: float64"
      ]
     },
     "execution_count": 411,
     "metadata": {},
     "output_type": "execute_result"
    }
   ],
   "source": [
    "df['year']"
   ]
  },
  {
   "cell_type": "code",
   "execution_count": 412,
   "metadata": {},
   "outputs": [
    {
     "data": {
      "text/plain": [
       "np.int64(36)"
      ]
     },
     "execution_count": 412,
     "metadata": {},
     "output_type": "execute_result"
    }
   ],
   "source": [
    "df['year'].isna().sum()"
   ]
  },
  {
   "cell_type": "code",
   "execution_count": 413,
   "metadata": {},
   "outputs": [],
   "source": [
    "def extract_year(description: str) -> int | None:\n",
    "    \"\"\"Получение года выпуска машины из описания\n",
    "\n",
    "    Args:\n",
    "        description (str): Описание автомобиля\n",
    "\n",
    "    Returns:\n",
    "        int | None: Год выпуска, если удалось найти, или None\n",
    "    \"\"\"\n",
    "    if not isinstance(description, str):\n",
    "        return None\n",
    "    match = re.search(r\"\\b\\d{4}\\b\", description)\n",
    "    return int(match.group()) if match else None"
   ]
  },
  {
   "cell_type": "code",
   "execution_count": 414,
   "metadata": {},
   "outputs": [
    {
     "data": {
      "text/plain": [
       "0        4304.0\n",
       "1        1400.0\n",
       "2        4304.0\n",
       "3        2013.0\n",
       "4        2021.0\n",
       "          ...  \n",
       "10045    2000.0\n",
       "10046    2008.0\n",
       "10047    2011.0\n",
       "10048    2015.0\n",
       "10049    4304.0\n",
       "Name: description, Length: 10050, dtype: float64"
      ]
     },
     "execution_count": 414,
     "metadata": {},
     "output_type": "execute_result"
    }
   ],
   "source": [
    "pdf = df['description'].apply(extract_year)\n",
    "pdf"
   ]
  },
  {
   "cell_type": "code",
   "execution_count": 415,
   "metadata": {},
   "outputs": [],
   "source": [
    "df['year'] = np.where(df['year'].isna(), pdf, df['year'])\n",
    "df['year'].fillna(df['year'].median(), inplace=True) # После вставки правильного года, медиана могла поменяться. Поэтому разбивка на 2 строки"
   ]
  },
  {
   "cell_type": "code",
   "execution_count": 416,
   "metadata": {},
   "outputs": [
    {
     "data": {
      "text/plain": [
       "0        2020.0\n",
       "1        2016.0\n",
       "2        2017.0\n",
       "3        2013.0\n",
       "4        2021.0\n",
       "          ...  \n",
       "10045    2002.0\n",
       "10046    2008.0\n",
       "10047    2011.0\n",
       "10048    2015.0\n",
       "10049    2017.0\n",
       "Name: year, Length: 10050, dtype: float64"
      ]
     },
     "execution_count": 416,
     "metadata": {},
     "output_type": "execute_result"
    }
   ],
   "source": [
    "df['year']"
   ]
  },
  {
   "cell_type": "code",
   "execution_count": 417,
   "metadata": {},
   "outputs": [
    {
     "data": {
      "text/plain": [
       "np.int64(0)"
      ]
     },
     "execution_count": 417,
     "metadata": {},
     "output_type": "execute_result"
    }
   ],
   "source": [
    "df['year'].isna().sum()"
   ]
  },
  {
   "cell_type": "markdown",
   "metadata": {},
   "source": [
    "# Подзадача 3\n",
    "Обработайте пропуски в типе топлива."
   ]
  },
  {
   "cell_type": "code",
   "execution_count": 418,
   "metadata": {},
   "outputs": [
    {
     "data": {
      "text/plain": [
       "0        diesel\n",
       "1           NaN\n",
       "2           gas\n",
       "3           gas\n",
       "4           gas\n",
       "          ...  \n",
       "10045       gas\n",
       "10046       gas\n",
       "10047       gas\n",
       "10048    hybrid\n",
       "10049       gas\n",
       "Name: fuel, Length: 10050, dtype: object"
      ]
     },
     "execution_count": 418,
     "metadata": {},
     "output_type": "execute_result"
    }
   ],
   "source": [
    "df['fuel']"
   ]
  },
  {
   "cell_type": "code",
   "execution_count": 419,
   "metadata": {},
   "outputs": [
    {
     "data": {
      "text/plain": [
       "fuel\n",
       "gas         8447\n",
       "other        733\n",
       "diesel       655\n",
       "hybrid       108\n",
       "NaN           63\n",
       "electric      44\n",
       "Name: count, dtype: int64"
      ]
     },
     "execution_count": 419,
     "metadata": {},
     "output_type": "execute_result"
    }
   ],
   "source": [
    "df['fuel'].value_counts(dropna=False)"
   ]
  },
  {
   "cell_type": "code",
   "execution_count": 420,
   "metadata": {},
   "outputs": [
    {
     "data": {
      "text/plain": [
       "0        diesel\n",
       "1           gas\n",
       "2           gas\n",
       "3           gas\n",
       "4           gas\n",
       "          ...  \n",
       "10045       gas\n",
       "10046       gas\n",
       "10047       gas\n",
       "10048    hybrid\n",
       "10049       gas\n",
       "Name: fuel, Length: 10050, dtype: object"
      ]
     },
     "execution_count": 420,
     "metadata": {},
     "output_type": "execute_result"
    }
   ],
   "source": [
    "df['fuel'].fillna(df['fuel'].value_counts().index[0], inplace=True)\n",
    "df['fuel']"
   ]
  },
  {
   "cell_type": "code",
   "execution_count": 421,
   "metadata": {},
   "outputs": [
    {
     "data": {
      "text/plain": [
       "fuel\n",
       "gas         8510\n",
       "other        733\n",
       "diesel       655\n",
       "hybrid       108\n",
       "electric      44\n",
       "Name: count, dtype: int64"
      ]
     },
     "execution_count": 421,
     "metadata": {},
     "output_type": "execute_result"
    }
   ],
   "source": [
    "df['fuel'].value_counts(dropna=False)"
   ]
  },
  {
   "cell_type": "markdown",
   "metadata": {},
   "source": [
    "# Подзадача 4\n",
    "Обработайте пропуски в модели автомобиля."
   ]
  },
  {
   "cell_type": "code",
   "execution_count": 422,
   "metadata": {},
   "outputs": [
    {
     "data": {
      "text/plain": [
       "0           2500 crew cab big horn\n",
       "1             explorer 4wd 4dr xlt\n",
       "2                 golf r hatchback\n",
       "3                             rav4\n",
       "4                           altima\n",
       "                   ...            \n",
       "10045                         rav4\n",
       "10046                     wrangler\n",
       "10047    a3 2.0t premium plus pzev\n",
       "10048                      cayenne\n",
       "10049       1500 crew cab big horn\n",
       "Name: model, Length: 10050, dtype: object"
      ]
     },
     "execution_count": 422,
     "metadata": {},
     "output_type": "execute_result"
    }
   ],
   "source": [
    "df['model']"
   ]
  },
  {
   "cell_type": "code",
   "execution_count": 423,
   "metadata": {},
   "outputs": [
    {
     "data": {
      "text/plain": [
       "model\n",
       "f-150                     151\n",
       "NaN                       129\n",
       "silverado 1500            110\n",
       "1500                      101\n",
       "camry                      77\n",
       "                         ... \n",
       "dakota club cab             1\n",
       "jetta 1.4t se               1\n",
       "1500 laramie                1\n",
       "rdx sh-awd advance pkg      1\n",
       "excursion 2005              1\n",
       "Name: count, Length: 3467, dtype: int64"
      ]
     },
     "execution_count": 423,
     "metadata": {},
     "output_type": "execute_result"
    }
   ],
   "source": [
    "df['model'].value_counts(dropna=False)"
   ]
  },
  {
   "cell_type": "code",
   "execution_count": 424,
   "metadata": {},
   "outputs": [],
   "source": [
    "df['model'].fillna('other', inplace=True) # В описании нет информации про модель + нет чёткого критерия. Необходимо ручное заполнение."
   ]
  },
  {
   "cell_type": "code",
   "execution_count": 425,
   "metadata": {},
   "outputs": [
    {
     "data": {
      "text/plain": [
       "(model\n",
       " f-150                     151\n",
       " other                     129\n",
       " silverado 1500            110\n",
       " 1500                      101\n",
       " camry                      77\n",
       "                          ... \n",
       " dakota club cab             1\n",
       " jetta 1.4t se               1\n",
       " 1500 laramie                1\n",
       " rdx sh-awd advance pkg      1\n",
       " excursion 2005              1\n",
       " Name: count, Length: 3467, dtype: int64,\n",
       " '',\n",
       " np.int64(0))"
      ]
     },
     "execution_count": 425,
     "metadata": {},
     "output_type": "execute_result"
    }
   ],
   "source": [
    "df['model'].value_counts(dropna=False), '',df['model'].isna().sum()"
   ]
  },
  {
   "cell_type": "markdown",
   "metadata": {},
   "source": [
    "# Подзадача 5\n",
    "Обработайте пропуски в статусе автомобиля."
   ]
  },
  {
   "cell_type": "code",
   "execution_count": 426,
   "metadata": {},
   "outputs": [
    {
     "data": {
      "text/plain": [
       "title_status\n",
       "clean         9568\n",
       "rebuilt        171\n",
       "NaN            166\n",
       "salvage         92\n",
       "lien            35\n",
       "missing         16\n",
       "parts only       2\n",
       "Name: count, dtype: int64"
      ]
     },
     "execution_count": 426,
     "metadata": {},
     "output_type": "execute_result"
    }
   ],
   "source": [
    "df['title_status'].value_counts(dropna=False)"
   ]
  },
  {
   "cell_type": "code",
   "execution_count": 427,
   "metadata": {},
   "outputs": [],
   "source": [
    "# Информация слишком важна, чтобы обобщать её до самого частовстречаемого. Такие строки придётся удалить\n",
    "df.drop(df[df[\"title_status\"].isna()].index, inplace=True)"
   ]
  },
  {
   "cell_type": "code",
   "execution_count": 428,
   "metadata": {},
   "outputs": [
    {
     "data": {
      "text/plain": [
       "title_status\n",
       "clean         9568\n",
       "rebuilt        171\n",
       "salvage         92\n",
       "lien            35\n",
       "missing         16\n",
       "parts only       2\n",
       "Name: count, dtype: int64"
      ]
     },
     "execution_count": 428,
     "metadata": {},
     "output_type": "execute_result"
    }
   ],
   "source": [
    "df['title_status'].value_counts(dropna=False)"
   ]
  },
  {
   "cell_type": "markdown",
   "metadata": {},
   "source": [
    "# Подзадача 6\n",
    "Преобразуйте типы данных в годе выпуска автомобиля."
   ]
  },
  {
   "cell_type": "code",
   "execution_count": 429,
   "metadata": {},
   "outputs": [
    {
     "data": {
      "text/plain": [
       "dtype('uint16')"
      ]
     },
     "execution_count": 429,
     "metadata": {},
     "output_type": "execute_result"
    }
   ],
   "source": [
    "df.year = df.year.astype('uint16') # Год > 0\n",
    "df['year'].dtype"
   ]
  },
  {
   "cell_type": "markdown",
   "metadata": {},
   "source": [
    "# Подзадача 7\n",
    "Преобразуйте типы данных в категориальные переменные.\n",
    "\n",
    "Задание непонятно."
   ]
  },
  {
   "cell_type": "code",
   "execution_count": 430,
   "metadata": {},
   "outputs": [
    {
     "data": {
      "text/plain": [
       "id                  int64\n",
       "url                object\n",
       "region             object\n",
       "region_url         object\n",
       "price               int64\n",
       "year               uint16\n",
       "manufacturer       object\n",
       "model              object\n",
       "condition          object\n",
       "cylinders          object\n",
       "fuel               object\n",
       "odometer          float64\n",
       "title_status       object\n",
       "transmission       object\n",
       "VIN                object\n",
       "drive              object\n",
       "size               object\n",
       "type               object\n",
       "paint_color        object\n",
       "image_url          object\n",
       "description        object\n",
       "county            float64\n",
       "state              object\n",
       "lat               float64\n",
       "long              float64\n",
       "posting_date       object\n",
       "price_category     object\n",
       "dtype: object"
      ]
     },
     "execution_count": 430,
     "metadata": {},
     "output_type": "execute_result"
    }
   ],
   "source": [
    "df.dtypes"
   ]
  },
  {
   "cell_type": "markdown",
   "metadata": {},
   "source": [
    "# Подзадача 8\n",
    "Определите выбросы в годе выпуска."
   ]
  },
  {
   "cell_type": "code",
   "execution_count": 431,
   "metadata": {},
   "outputs": [],
   "source": [
    "def calc_bounds(column: pd.Series):\n",
    "    q25 = column.quantile(0.25)\n",
    "    # q50 = column.quantile(0.5)\n",
    "    q75 = column.quantile(0.75)\n",
    "\n",
    "    iqr = q75 - q25\n",
    "\n",
    "    lower_bound = q25 - 1.5 * iqr\n",
    "    upper_bound = q75 + 1.5 * iqr\n",
    "\n",
    "    return lower_bound, upper_bound"
   ]
  },
  {
   "cell_type": "code",
   "execution_count": 432,
   "metadata": {},
   "outputs": [
    {
     "data": {
      "text/plain": [
       "(np.float64(1994.5), np.float64(2030.5))"
      ]
     },
     "execution_count": 432,
     "metadata": {},
     "output_type": "execute_result"
    }
   ],
   "source": [
    "l_bound, u_bound = calc_bounds(df.year)\n",
    "l_bound, u_bound"
   ]
  },
  {
   "cell_type": "code",
   "execution_count": 433,
   "metadata": {},
   "outputs": [
    {
     "data": {
      "text/plain": [
       "count    9884.000000\n",
       "mean     2010.847835\n",
       "std        12.479667\n",
       "min      1236.000000\n",
       "25%      2008.000000\n",
       "50%      2013.000000\n",
       "75%      2017.000000\n",
       "max      2022.000000\n",
       "Name: year, dtype: float64"
      ]
     },
     "execution_count": 433,
     "metadata": {},
     "output_type": "execute_result"
    }
   ],
   "source": [
    "df.year.describe()  # Выбросы \"снизу\""
   ]
  },
  {
   "cell_type": "code",
   "execution_count": 434,
   "metadata": {},
   "outputs": [
    {
     "data": {
      "text/plain": [
       "np.int64(396)"
      ]
     },
     "execution_count": 434,
     "metadata": {},
     "output_type": "execute_result"
    }
   ],
   "source": [
    "is_outlier = (df.year < l_bound) | (df.year > u_bound)\n",
    "is_outlier.sum()"
   ]
  },
  {
   "cell_type": "code",
   "execution_count": 435,
   "metadata": {},
   "outputs": [
    {
     "data": {
      "text/plain": [
       "np.float64(0.040064751112909754)"
      ]
     },
     "execution_count": 435,
     "metadata": {},
     "output_type": "execute_result"
    }
   ],
   "source": [
    "is_outlier.sum() / df.shape[0]"
   ]
  },
  {
   "cell_type": "code",
   "execution_count": 436,
   "metadata": {},
   "outputs": [
    {
     "data": {
      "text/html": [
       "<div>\n",
       "<style scoped>\n",
       "    .dataframe tbody tr th:only-of-type {\n",
       "        vertical-align: middle;\n",
       "    }\n",
       "\n",
       "    .dataframe tbody tr th {\n",
       "        vertical-align: top;\n",
       "    }\n",
       "\n",
       "    .dataframe thead th {\n",
       "        text-align: right;\n",
       "    }\n",
       "</style>\n",
       "<table border=\"1\" class=\"dataframe\">\n",
       "  <thead>\n",
       "    <tr style=\"text-align: right;\">\n",
       "      <th></th>\n",
       "      <th>id</th>\n",
       "      <th>url</th>\n",
       "      <th>region</th>\n",
       "      <th>region_url</th>\n",
       "      <th>price</th>\n",
       "      <th>year</th>\n",
       "      <th>manufacturer</th>\n",
       "      <th>model</th>\n",
       "      <th>condition</th>\n",
       "      <th>cylinders</th>\n",
       "      <th>...</th>\n",
       "      <th>type</th>\n",
       "      <th>paint_color</th>\n",
       "      <th>image_url</th>\n",
       "      <th>description</th>\n",
       "      <th>county</th>\n",
       "      <th>state</th>\n",
       "      <th>lat</th>\n",
       "      <th>long</th>\n",
       "      <th>posting_date</th>\n",
       "      <th>price_category</th>\n",
       "    </tr>\n",
       "  </thead>\n",
       "  <tbody>\n",
       "    <tr>\n",
       "      <th>13</th>\n",
       "      <td>7317089086</td>\n",
       "      <td>https://seattle.craigslist.org/see/ctd/d/portl...</td>\n",
       "      <td>seattle-tacoma</td>\n",
       "      <td>https://seattle.craigslist.org</td>\n",
       "      <td>14995</td>\n",
       "      <td>1994</td>\n",
       "      <td>ford</td>\n",
       "      <td>e-series van universal by glaval designer luxu...</td>\n",
       "      <td>NaN</td>\n",
       "      <td>8 cylinders</td>\n",
       "      <td>...</td>\n",
       "      <td>van</td>\n",
       "      <td>blue</td>\n",
       "      <td>https://images.craigslist.org/00r0r_13JUlXZOMl...</td>\n",
       "      <td>Priced to Sell: $14,9951994 Ford E-Series Van ...</td>\n",
       "      <td>NaN</td>\n",
       "      <td>wa</td>\n",
       "      <td>45.391373</td>\n",
       "      <td>-122.613533</td>\n",
       "      <td>2021-05-04T20:22:11-0700</td>\n",
       "      <td>medium</td>\n",
       "    </tr>\n",
       "    <tr>\n",
       "      <th>21</th>\n",
       "      <td>7312327909</td>\n",
       "      <td>https://madison.craigslist.org/cto/d/madison-1...</td>\n",
       "      <td>madison</td>\n",
       "      <td>https://madison.craigslist.org</td>\n",
       "      <td>89995</td>\n",
       "      <td>1970</td>\n",
       "      <td>NaN</td>\n",
       "      <td>oldsmobile 442</td>\n",
       "      <td>excellent</td>\n",
       "      <td>8 cylinders</td>\n",
       "      <td>...</td>\n",
       "      <td>convertible</td>\n",
       "      <td>white</td>\n",
       "      <td>https://images.craigslist.org/00S0S_agk7Nol4CO...</td>\n",
       "      <td>1970 Oldsmobile 442 Convertible 442 Indy Pace ...</td>\n",
       "      <td>NaN</td>\n",
       "      <td>wi</td>\n",
       "      <td>43.098400</td>\n",
       "      <td>-89.273400</td>\n",
       "      <td>2021-04-25T10:10:43-0500</td>\n",
       "      <td>high</td>\n",
       "    </tr>\n",
       "    <tr>\n",
       "      <th>57</th>\n",
       "      <td>7314413105</td>\n",
       "      <td>https://inlandempire.craigslist.org/ctd/d/cost...</td>\n",
       "      <td>inland empire</td>\n",
       "      <td>https://inlandempire.craigslist.org</td>\n",
       "      <td>69888</td>\n",
       "      <td>1948</td>\n",
       "      <td>ford</td>\n",
       "      <td>coe</td>\n",
       "      <td>excellent</td>\n",
       "      <td>8 cylinders</td>\n",
       "      <td>...</td>\n",
       "      <td>NaN</td>\n",
       "      <td>red</td>\n",
       "      <td>https://images.craigslist.org/00M0M_8jgBCZZuG6...</td>\n",
       "      <td>Awesome Resto-Mod COE Ford Car Hauler. Equippe...</td>\n",
       "      <td>NaN</td>\n",
       "      <td>ca</td>\n",
       "      <td>33.680100</td>\n",
       "      <td>-117.908500</td>\n",
       "      <td>2021-04-29T10:49:29-0700</td>\n",
       "      <td>high</td>\n",
       "    </tr>\n",
       "    <tr>\n",
       "      <th>66</th>\n",
       "      <td>7310077530</td>\n",
       "      <td>https://hudsonvalley.craigslist.org/cto/d/bloo...</td>\n",
       "      <td>hudson valley</td>\n",
       "      <td>https://hudsonvalley.craigslist.org</td>\n",
       "      <td>5500</td>\n",
       "      <td>1990</td>\n",
       "      <td>NaN</td>\n",
       "      <td>Diahatsu</td>\n",
       "      <td>good</td>\n",
       "      <td>3 cylinders</td>\n",
       "      <td>...</td>\n",
       "      <td>NaN</td>\n",
       "      <td>NaN</td>\n",
       "      <td>https://images.craigslist.org/00T0T_a4VRbx40ea...</td>\n",
       "      <td>1991 Daihatsu hijet 5 speed extended cab....im...</td>\n",
       "      <td>NaN</td>\n",
       "      <td>ny</td>\n",
       "      <td>41.564400</td>\n",
       "      <td>-74.430400</td>\n",
       "      <td>2021-04-20T18:30:18-0400</td>\n",
       "      <td>low</td>\n",
       "    </tr>\n",
       "    <tr>\n",
       "      <th>106</th>\n",
       "      <td>7314527175</td>\n",
       "      <td>https://rapidcity.craigslist.org/ctd/d/sherman...</td>\n",
       "      <td>rapid city / west SD</td>\n",
       "      <td>https://rapidcity.craigslist.org</td>\n",
       "      <td>43500</td>\n",
       "      <td>1968</td>\n",
       "      <td>chevrolet</td>\n",
       "      <td>camaro</td>\n",
       "      <td>NaN</td>\n",
       "      <td>NaN</td>\n",
       "      <td>...</td>\n",
       "      <td>NaN</td>\n",
       "      <td>NaN</td>\n",
       "      <td>https://images.craigslist.org/00h0h_2N66LMJBAI...</td>\n",
       "      <td>1968 Chevrolet Camaro Convertible. VIN:124678N...</td>\n",
       "      <td>NaN</td>\n",
       "      <td>sd</td>\n",
       "      <td>33.637200</td>\n",
       "      <td>-96.618400</td>\n",
       "      <td>2021-04-29T15:11:01-0600</td>\n",
       "      <td>high</td>\n",
       "    </tr>\n",
       "  </tbody>\n",
       "</table>\n",
       "<p>5 rows × 27 columns</p>\n",
       "</div>"
      ],
      "text/plain": [
       "             id                                                url  \\\n",
       "13   7317089086  https://seattle.craigslist.org/see/ctd/d/portl...   \n",
       "21   7312327909  https://madison.craigslist.org/cto/d/madison-1...   \n",
       "57   7314413105  https://inlandempire.craigslist.org/ctd/d/cost...   \n",
       "66   7310077530  https://hudsonvalley.craigslist.org/cto/d/bloo...   \n",
       "106  7314527175  https://rapidcity.craigslist.org/ctd/d/sherman...   \n",
       "\n",
       "                   region                           region_url  price  year  \\\n",
       "13         seattle-tacoma       https://seattle.craigslist.org  14995  1994   \n",
       "21                madison       https://madison.craigslist.org  89995  1970   \n",
       "57          inland empire  https://inlandempire.craigslist.org  69888  1948   \n",
       "66          hudson valley  https://hudsonvalley.craigslist.org   5500  1990   \n",
       "106  rapid city / west SD     https://rapidcity.craigslist.org  43500  1968   \n",
       "\n",
       "    manufacturer                                              model  \\\n",
       "13          ford  e-series van universal by glaval designer luxu...   \n",
       "21           NaN                                     oldsmobile 442   \n",
       "57          ford                                                coe   \n",
       "66           NaN                                           Diahatsu   \n",
       "106    chevrolet                                             camaro   \n",
       "\n",
       "     condition    cylinders  ...         type  paint_color  \\\n",
       "13         NaN  8 cylinders  ...          van         blue   \n",
       "21   excellent  8 cylinders  ...  convertible        white   \n",
       "57   excellent  8 cylinders  ...          NaN          red   \n",
       "66        good  3 cylinders  ...          NaN          NaN   \n",
       "106        NaN          NaN  ...          NaN          NaN   \n",
       "\n",
       "                                             image_url  \\\n",
       "13   https://images.craigslist.org/00r0r_13JUlXZOMl...   \n",
       "21   https://images.craigslist.org/00S0S_agk7Nol4CO...   \n",
       "57   https://images.craigslist.org/00M0M_8jgBCZZuG6...   \n",
       "66   https://images.craigslist.org/00T0T_a4VRbx40ea...   \n",
       "106  https://images.craigslist.org/00h0h_2N66LMJBAI...   \n",
       "\n",
       "                                           description county state  \\\n",
       "13   Priced to Sell: $14,9951994 Ford E-Series Van ...    NaN    wa   \n",
       "21   1970 Oldsmobile 442 Convertible 442 Indy Pace ...    NaN    wi   \n",
       "57   Awesome Resto-Mod COE Ford Car Hauler. Equippe...    NaN    ca   \n",
       "66   1991 Daihatsu hijet 5 speed extended cab....im...    NaN    ny   \n",
       "106  1968 Chevrolet Camaro Convertible. VIN:124678N...    NaN    sd   \n",
       "\n",
       "           lat        long              posting_date price_category  \n",
       "13   45.391373 -122.613533  2021-05-04T20:22:11-0700         medium  \n",
       "21   43.098400  -89.273400  2021-04-25T10:10:43-0500           high  \n",
       "57   33.680100 -117.908500  2021-04-29T10:49:29-0700           high  \n",
       "66   41.564400  -74.430400  2021-04-20T18:30:18-0400            low  \n",
       "106  33.637200  -96.618400  2021-04-29T15:11:01-0600           high  \n",
       "\n",
       "[5 rows x 27 columns]"
      ]
     },
     "execution_count": 436,
     "metadata": {},
     "output_type": "execute_result"
    }
   ],
   "source": [
    "df[is_outlier].head()"
   ]
  },
  {
   "cell_type": "code",
   "execution_count": 437,
   "metadata": {},
   "outputs": [],
   "source": [
    "df.loc[is_outlier, 'year'] = np.ceil(l_bound).astype('uint16')"
   ]
  },
  {
   "cell_type": "code",
   "execution_count": 438,
   "metadata": {},
   "outputs": [
    {
     "data": {
      "text/plain": [
       "count    9884.000000\n",
       "mean     2011.721773\n",
       "std         6.437229\n",
       "min      1995.000000\n",
       "25%      2008.000000\n",
       "50%      2013.000000\n",
       "75%      2017.000000\n",
       "max      2022.000000\n",
       "Name: year, dtype: float64"
      ]
     },
     "execution_count": 438,
     "metadata": {},
     "output_type": "execute_result"
    }
   ],
   "source": [
    "df.year.describe()"
   ]
  },
  {
   "cell_type": "code",
   "execution_count": 439,
   "metadata": {},
   "outputs": [],
   "source": [
    "df.to_csv('vehicles_clean.csv')"
   ]
  },
  {
   "cell_type": "markdown",
   "metadata": {},
   "source": [
    "# Подзадача 9"
   ]
  },
  {
   "cell_type": "code",
   "execution_count": 440,
   "metadata": {},
   "outputs": [],
   "source": [
    "df_out = pd.read_csv('vehicles_clean.csv', \n",
    "    dtype={\n",
    "        'year': 'uint16'\n",
    "    }, \n",
    "    na_values=['NaN'])"
   ]
  },
  {
   "cell_type": "code",
   "execution_count": 441,
   "metadata": {},
   "outputs": [
    {
     "data": {
      "text/html": [
       "<div>\n",
       "<style scoped>\n",
       "    .dataframe tbody tr th:only-of-type {\n",
       "        vertical-align: middle;\n",
       "    }\n",
       "\n",
       "    .dataframe tbody tr th {\n",
       "        vertical-align: top;\n",
       "    }\n",
       "\n",
       "    .dataframe thead th {\n",
       "        text-align: right;\n",
       "    }\n",
       "</style>\n",
       "<table border=\"1\" class=\"dataframe\">\n",
       "  <thead>\n",
       "    <tr style=\"text-align: right;\">\n",
       "      <th></th>\n",
       "      <th>Unnamed: 0</th>\n",
       "      <th>id</th>\n",
       "      <th>url</th>\n",
       "      <th>region</th>\n",
       "      <th>region_url</th>\n",
       "      <th>price</th>\n",
       "      <th>year</th>\n",
       "      <th>manufacturer</th>\n",
       "      <th>model</th>\n",
       "      <th>condition</th>\n",
       "      <th>...</th>\n",
       "      <th>type</th>\n",
       "      <th>paint_color</th>\n",
       "      <th>image_url</th>\n",
       "      <th>description</th>\n",
       "      <th>county</th>\n",
       "      <th>state</th>\n",
       "      <th>lat</th>\n",
       "      <th>long</th>\n",
       "      <th>posting_date</th>\n",
       "      <th>price_category</th>\n",
       "    </tr>\n",
       "  </thead>\n",
       "  <tbody>\n",
       "    <tr>\n",
       "      <th>0</th>\n",
       "      <td>0</td>\n",
       "      <td>7308295377</td>\n",
       "      <td>https://chattanooga.craigslist.org/ctd/d/chatt...</td>\n",
       "      <td>chattanooga</td>\n",
       "      <td>https://chattanooga.craigslist.org</td>\n",
       "      <td>54990</td>\n",
       "      <td>2020</td>\n",
       "      <td>ram</td>\n",
       "      <td>2500 crew cab big horn</td>\n",
       "      <td>good</td>\n",
       "      <td>...</td>\n",
       "      <td>pickup</td>\n",
       "      <td>silver</td>\n",
       "      <td>https://images.craigslist.org/00N0N_1xMPvfxRAI...</td>\n",
       "      <td>Carvana is the safer way to buy a car During t...</td>\n",
       "      <td>NaN</td>\n",
       "      <td>tn</td>\n",
       "      <td>35.060000</td>\n",
       "      <td>-85.250000</td>\n",
       "      <td>2021-04-17T12:30:50-0400</td>\n",
       "      <td>high</td>\n",
       "    </tr>\n",
       "    <tr>\n",
       "      <th>1</th>\n",
       "      <td>1</td>\n",
       "      <td>7316380095</td>\n",
       "      <td>https://newjersey.craigslist.org/ctd/d/carlsta...</td>\n",
       "      <td>north jersey</td>\n",
       "      <td>https://newjersey.craigslist.org</td>\n",
       "      <td>16942</td>\n",
       "      <td>2016</td>\n",
       "      <td>ford</td>\n",
       "      <td>explorer 4wd 4dr xlt</td>\n",
       "      <td>NaN</td>\n",
       "      <td>...</td>\n",
       "      <td>SUV</td>\n",
       "      <td>black</td>\n",
       "      <td>https://images.craigslist.org/00x0x_26jl9F0cnL...</td>\n",
       "      <td>***Call Us for more information at: 201-635-14...</td>\n",
       "      <td>NaN</td>\n",
       "      <td>nj</td>\n",
       "      <td>40.821805</td>\n",
       "      <td>-74.061962</td>\n",
       "      <td>2021-05-03T15:40:21-0400</td>\n",
       "      <td>medium</td>\n",
       "    </tr>\n",
       "    <tr>\n",
       "      <th>2</th>\n",
       "      <td>2</td>\n",
       "      <td>7313733749</td>\n",
       "      <td>https://reno.craigslist.org/ctd/d/atlanta-2017...</td>\n",
       "      <td>reno / tahoe</td>\n",
       "      <td>https://reno.craigslist.org</td>\n",
       "      <td>35590</td>\n",
       "      <td>2017</td>\n",
       "      <td>volkswagen</td>\n",
       "      <td>golf r hatchback</td>\n",
       "      <td>good</td>\n",
       "      <td>...</td>\n",
       "      <td>sedan</td>\n",
       "      <td>NaN</td>\n",
       "      <td>https://images.craigslist.org/00y0y_eeZjWeiSfb...</td>\n",
       "      <td>Carvana is the safer way to buy a car During t...</td>\n",
       "      <td>NaN</td>\n",
       "      <td>ca</td>\n",
       "      <td>33.779214</td>\n",
       "      <td>-84.411811</td>\n",
       "      <td>2021-04-28T03:52:20-0700</td>\n",
       "      <td>high</td>\n",
       "    </tr>\n",
       "    <tr>\n",
       "      <th>3</th>\n",
       "      <td>3</td>\n",
       "      <td>7308210929</td>\n",
       "      <td>https://fayetteville.craigslist.org/ctd/d/rale...</td>\n",
       "      <td>fayetteville</td>\n",
       "      <td>https://fayetteville.craigslist.org</td>\n",
       "      <td>14500</td>\n",
       "      <td>2013</td>\n",
       "      <td>toyota</td>\n",
       "      <td>rav4</td>\n",
       "      <td>NaN</td>\n",
       "      <td>...</td>\n",
       "      <td>wagon</td>\n",
       "      <td>white</td>\n",
       "      <td>https://images.craigslist.org/00606_iGe5iXidib...</td>\n",
       "      <td>2013 Toyota RAV4 XLE 4dr SUV     Offered by: R...</td>\n",
       "      <td>NaN</td>\n",
       "      <td>nc</td>\n",
       "      <td>35.715954</td>\n",
       "      <td>-78.655304</td>\n",
       "      <td>2021-04-17T10:08:57-0400</td>\n",
       "      <td>medium</td>\n",
       "    </tr>\n",
       "    <tr>\n",
       "      <th>4</th>\n",
       "      <td>4</td>\n",
       "      <td>7316474668</td>\n",
       "      <td>https://newyork.craigslist.org/lgi/cto/d/baldw...</td>\n",
       "      <td>new york city</td>\n",
       "      <td>https://newyork.craigslist.org</td>\n",
       "      <td>21800</td>\n",
       "      <td>2021</td>\n",
       "      <td>nissan</td>\n",
       "      <td>altima</td>\n",
       "      <td>new</td>\n",
       "      <td>...</td>\n",
       "      <td>NaN</td>\n",
       "      <td>NaN</td>\n",
       "      <td>https://images.craigslist.org/00V0V_3pSOiPZ3Sd...</td>\n",
       "      <td>2021 Nissan Altima Sv with Only 8 K Miles Titl...</td>\n",
       "      <td>NaN</td>\n",
       "      <td>ny</td>\n",
       "      <td>40.654800</td>\n",
       "      <td>-73.609700</td>\n",
       "      <td>2021-05-03T18:32:06-0400</td>\n",
       "      <td>medium</td>\n",
       "    </tr>\n",
       "    <tr>\n",
       "      <th>...</th>\n",
       "      <td>...</td>\n",
       "      <td>...</td>\n",
       "      <td>...</td>\n",
       "      <td>...</td>\n",
       "      <td>...</td>\n",
       "      <td>...</td>\n",
       "      <td>...</td>\n",
       "      <td>...</td>\n",
       "      <td>...</td>\n",
       "      <td>...</td>\n",
       "      <td>...</td>\n",
       "      <td>...</td>\n",
       "      <td>...</td>\n",
       "      <td>...</td>\n",
       "      <td>...</td>\n",
       "      <td>...</td>\n",
       "      <td>...</td>\n",
       "      <td>...</td>\n",
       "      <td>...</td>\n",
       "      <td>...</td>\n",
       "      <td>...</td>\n",
       "    </tr>\n",
       "    <tr>\n",
       "      <th>9879</th>\n",
       "      <td>10045</td>\n",
       "      <td>7304876387</td>\n",
       "      <td>https://chautauqua.craigslist.org/ctd/d/falcon...</td>\n",
       "      <td>chautauqua</td>\n",
       "      <td>https://chautauqua.craigslist.org</td>\n",
       "      <td>4495</td>\n",
       "      <td>2002</td>\n",
       "      <td>toyota</td>\n",
       "      <td>rav4</td>\n",
       "      <td>good</td>\n",
       "      <td>...</td>\n",
       "      <td>SUV</td>\n",
       "      <td>white</td>\n",
       "      <td>https://images.craigslist.org/00n0n_aaEBqmzz5Z...</td>\n",
       "      <td>Transmission:Automatic Exterior Color:WHITE In...</td>\n",
       "      <td>NaN</td>\n",
       "      <td>ny</td>\n",
       "      <td>42.123900</td>\n",
       "      <td>-79.189500</td>\n",
       "      <td>2021-04-10T16:33:57-0400</td>\n",
       "      <td>low</td>\n",
       "    </tr>\n",
       "    <tr>\n",
       "      <th>9880</th>\n",
       "      <td>10046</td>\n",
       "      <td>7316152972</td>\n",
       "      <td>https://binghamton.craigslist.org/ctd/d/roches...</td>\n",
       "      <td>binghamton</td>\n",
       "      <td>https://binghamton.craigslist.org</td>\n",
       "      <td>14495</td>\n",
       "      <td>2008</td>\n",
       "      <td>jeep</td>\n",
       "      <td>wrangler</td>\n",
       "      <td>good</td>\n",
       "      <td>...</td>\n",
       "      <td>SUV</td>\n",
       "      <td>grey</td>\n",
       "      <td>https://images.craigslist.org/00000_9ZNVdXaiei...</td>\n",
       "      <td>2008 Jeep Wrangler X  Offered by: R&amp;L Auto -- ...</td>\n",
       "      <td>NaN</td>\n",
       "      <td>ny</td>\n",
       "      <td>43.216990</td>\n",
       "      <td>-77.755610</td>\n",
       "      <td>2021-05-03T09:36:30-0400</td>\n",
       "      <td>medium</td>\n",
       "    </tr>\n",
       "    <tr>\n",
       "      <th>9881</th>\n",
       "      <td>10047</td>\n",
       "      <td>7310993818</td>\n",
       "      <td>https://salem.craigslist.org/ctd/d/salem-2011-...</td>\n",
       "      <td>salem</td>\n",
       "      <td>https://salem.craigslist.org</td>\n",
       "      <td>8995</td>\n",
       "      <td>2011</td>\n",
       "      <td>audi</td>\n",
       "      <td>a3 2.0t premium plus pzev</td>\n",
       "      <td>NaN</td>\n",
       "      <td>...</td>\n",
       "      <td>wagon</td>\n",
       "      <td>black</td>\n",
       "      <td>https://images.craigslist.org/00X0X_k5JiZDDyqM...</td>\n",
       "      <td>2011 Audi A3 2.0T Premium Plus PZEV Wagon2011 ...</td>\n",
       "      <td>NaN</td>\n",
       "      <td>or</td>\n",
       "      <td>44.925908</td>\n",
       "      <td>-122.982753</td>\n",
       "      <td>2021-04-22T12:14:01-0700</td>\n",
       "      <td>low</td>\n",
       "    </tr>\n",
       "    <tr>\n",
       "      <th>9882</th>\n",
       "      <td>10048</td>\n",
       "      <td>7306637427</td>\n",
       "      <td>https://madison.craigslist.org/ctd/d/madison-2...</td>\n",
       "      <td>madison</td>\n",
       "      <td>https://madison.craigslist.org</td>\n",
       "      <td>31900</td>\n",
       "      <td>2015</td>\n",
       "      <td>porsche</td>\n",
       "      <td>cayenne</td>\n",
       "      <td>good</td>\n",
       "      <td>...</td>\n",
       "      <td>wagon</td>\n",
       "      <td>brown</td>\n",
       "      <td>https://images.craigslist.org/00O0O_gBihGEQxYT...</td>\n",
       "      <td>2015 Porsche Cayenne AWD 4dr S E-Hybrid - $31,...</td>\n",
       "      <td>NaN</td>\n",
       "      <td>wi</td>\n",
       "      <td>43.029559</td>\n",
       "      <td>-89.397796</td>\n",
       "      <td>2021-04-14T09:14:42-0500</td>\n",
       "      <td>high</td>\n",
       "    </tr>\n",
       "    <tr>\n",
       "      <th>9883</th>\n",
       "      <td>10049</td>\n",
       "      <td>7311960763</td>\n",
       "      <td>https://norfolk.craigslist.org/ctd/d/chesapeak...</td>\n",
       "      <td>norfolk / hampton roads</td>\n",
       "      <td>https://norfolk.craigslist.org</td>\n",
       "      <td>31990</td>\n",
       "      <td>2017</td>\n",
       "      <td>ram</td>\n",
       "      <td>1500 crew cab big horn</td>\n",
       "      <td>good</td>\n",
       "      <td>...</td>\n",
       "      <td>pickup</td>\n",
       "      <td>white</td>\n",
       "      <td>https://images.craigslist.org/00c0c_4rTlvLXy36...</td>\n",
       "      <td>Carvana is the safer way to buy a car During t...</td>\n",
       "      <td>NaN</td>\n",
       "      <td>va</td>\n",
       "      <td>36.670000</td>\n",
       "      <td>-76.300000</td>\n",
       "      <td>2021-04-24T13:50:49-0400</td>\n",
       "      <td>high</td>\n",
       "    </tr>\n",
       "  </tbody>\n",
       "</table>\n",
       "<p>9884 rows × 28 columns</p>\n",
       "</div>"
      ],
      "text/plain": [
       "      Unnamed: 0          id  \\\n",
       "0              0  7308295377   \n",
       "1              1  7316380095   \n",
       "2              2  7313733749   \n",
       "3              3  7308210929   \n",
       "4              4  7316474668   \n",
       "...          ...         ...   \n",
       "9879       10045  7304876387   \n",
       "9880       10046  7316152972   \n",
       "9881       10047  7310993818   \n",
       "9882       10048  7306637427   \n",
       "9883       10049  7311960763   \n",
       "\n",
       "                                                    url  \\\n",
       "0     https://chattanooga.craigslist.org/ctd/d/chatt...   \n",
       "1     https://newjersey.craigslist.org/ctd/d/carlsta...   \n",
       "2     https://reno.craigslist.org/ctd/d/atlanta-2017...   \n",
       "3     https://fayetteville.craigslist.org/ctd/d/rale...   \n",
       "4     https://newyork.craigslist.org/lgi/cto/d/baldw...   \n",
       "...                                                 ...   \n",
       "9879  https://chautauqua.craigslist.org/ctd/d/falcon...   \n",
       "9880  https://binghamton.craigslist.org/ctd/d/roches...   \n",
       "9881  https://salem.craigslist.org/ctd/d/salem-2011-...   \n",
       "9882  https://madison.craigslist.org/ctd/d/madison-2...   \n",
       "9883  https://norfolk.craigslist.org/ctd/d/chesapeak...   \n",
       "\n",
       "                       region                           region_url  price  \\\n",
       "0                 chattanooga   https://chattanooga.craigslist.org  54990   \n",
       "1                north jersey     https://newjersey.craigslist.org  16942   \n",
       "2                reno / tahoe          https://reno.craigslist.org  35590   \n",
       "3                fayetteville  https://fayetteville.craigslist.org  14500   \n",
       "4               new york city       https://newyork.craigslist.org  21800   \n",
       "...                       ...                                  ...    ...   \n",
       "9879               chautauqua    https://chautauqua.craigslist.org   4495   \n",
       "9880               binghamton    https://binghamton.craigslist.org  14495   \n",
       "9881                    salem         https://salem.craigslist.org   8995   \n",
       "9882                  madison       https://madison.craigslist.org  31900   \n",
       "9883  norfolk / hampton roads       https://norfolk.craigslist.org  31990   \n",
       "\n",
       "      year manufacturer                      model condition  ...    type  \\\n",
       "0     2020          ram     2500 crew cab big horn      good  ...  pickup   \n",
       "1     2016         ford       explorer 4wd 4dr xlt       NaN  ...     SUV   \n",
       "2     2017   volkswagen           golf r hatchback      good  ...   sedan   \n",
       "3     2013       toyota                       rav4       NaN  ...   wagon   \n",
       "4     2021       nissan                     altima       new  ...     NaN   \n",
       "...    ...          ...                        ...       ...  ...     ...   \n",
       "9879  2002       toyota                       rav4      good  ...     SUV   \n",
       "9880  2008         jeep                   wrangler      good  ...     SUV   \n",
       "9881  2011         audi  a3 2.0t premium plus pzev       NaN  ...   wagon   \n",
       "9882  2015      porsche                    cayenne      good  ...   wagon   \n",
       "9883  2017          ram     1500 crew cab big horn      good  ...  pickup   \n",
       "\n",
       "     paint_color                                          image_url  \\\n",
       "0         silver  https://images.craigslist.org/00N0N_1xMPvfxRAI...   \n",
       "1          black  https://images.craigslist.org/00x0x_26jl9F0cnL...   \n",
       "2            NaN  https://images.craigslist.org/00y0y_eeZjWeiSfb...   \n",
       "3          white  https://images.craigslist.org/00606_iGe5iXidib...   \n",
       "4            NaN  https://images.craigslist.org/00V0V_3pSOiPZ3Sd...   \n",
       "...          ...                                                ...   \n",
       "9879       white  https://images.craigslist.org/00n0n_aaEBqmzz5Z...   \n",
       "9880        grey  https://images.craigslist.org/00000_9ZNVdXaiei...   \n",
       "9881       black  https://images.craigslist.org/00X0X_k5JiZDDyqM...   \n",
       "9882       brown  https://images.craigslist.org/00O0O_gBihGEQxYT...   \n",
       "9883       white  https://images.craigslist.org/00c0c_4rTlvLXy36...   \n",
       "\n",
       "                                            description county state  \\\n",
       "0     Carvana is the safer way to buy a car During t...    NaN    tn   \n",
       "1     ***Call Us for more information at: 201-635-14...    NaN    nj   \n",
       "2     Carvana is the safer way to buy a car During t...    NaN    ca   \n",
       "3     2013 Toyota RAV4 XLE 4dr SUV     Offered by: R...    NaN    nc   \n",
       "4     2021 Nissan Altima Sv with Only 8 K Miles Titl...    NaN    ny   \n",
       "...                                                 ...    ...   ...   \n",
       "9879  Transmission:Automatic Exterior Color:WHITE In...    NaN    ny   \n",
       "9880  2008 Jeep Wrangler X  Offered by: R&L Auto -- ...    NaN    ny   \n",
       "9881  2011 Audi A3 2.0T Premium Plus PZEV Wagon2011 ...    NaN    or   \n",
       "9882  2015 Porsche Cayenne AWD 4dr S E-Hybrid - $31,...    NaN    wi   \n",
       "9883  Carvana is the safer way to buy a car During t...    NaN    va   \n",
       "\n",
       "            lat        long              posting_date price_category  \n",
       "0     35.060000  -85.250000  2021-04-17T12:30:50-0400           high  \n",
       "1     40.821805  -74.061962  2021-05-03T15:40:21-0400         medium  \n",
       "2     33.779214  -84.411811  2021-04-28T03:52:20-0700           high  \n",
       "3     35.715954  -78.655304  2021-04-17T10:08:57-0400         medium  \n",
       "4     40.654800  -73.609700  2021-05-03T18:32:06-0400         medium  \n",
       "...         ...         ...                       ...            ...  \n",
       "9879  42.123900  -79.189500  2021-04-10T16:33:57-0400            low  \n",
       "9880  43.216990  -77.755610  2021-05-03T09:36:30-0400         medium  \n",
       "9881  44.925908 -122.982753  2021-04-22T12:14:01-0700            low  \n",
       "9882  43.029559  -89.397796  2021-04-14T09:14:42-0500           high  \n",
       "9883  36.670000  -76.300000  2021-04-24T13:50:49-0400           high  \n",
       "\n",
       "[9884 rows x 28 columns]"
      ]
     },
     "execution_count": 441,
     "metadata": {},
     "output_type": "execute_result"
    }
   ],
   "source": [
    "df_out"
   ]
  },
  {
   "cell_type": "code",
   "execution_count": 442,
   "metadata": {},
   "outputs": [
    {
     "name": "stdout",
     "output_type": "stream",
     "text": [
      "<class 'pandas.core.frame.DataFrame'>\n",
      "RangeIndex: 9884 entries, 0 to 9883\n",
      "Data columns (total 28 columns):\n",
      " #   Column          Non-Null Count  Dtype  \n",
      "---  ------          --------------  -----  \n",
      " 0   Unnamed: 0      9884 non-null   int64  \n",
      " 1   id              9884 non-null   int64  \n",
      " 2   url             9884 non-null   object \n",
      " 3   region          9884 non-null   object \n",
      " 4   region_url      9884 non-null   object \n",
      " 5   price           9884 non-null   int64  \n",
      " 6   year            9884 non-null   uint16 \n",
      " 7   manufacturer    9511 non-null   object \n",
      " 8   model           9884 non-null   object \n",
      " 9   condition       6162 non-null   object \n",
      " 10  cylinders       5823 non-null   object \n",
      " 11  fuel            9884 non-null   object \n",
      " 12  odometer        9848 non-null   float64\n",
      " 13  title_status    9884 non-null   object \n",
      " 14  transmission    9847 non-null   object \n",
      " 15  VIN             5927 non-null   object \n",
      " 16  drive           6951 non-null   object \n",
      " 17  size            2818 non-null   object \n",
      " 18  type            7700 non-null   object \n",
      " 19  paint_color     7055 non-null   object \n",
      " 20  image_url       9884 non-null   object \n",
      " 21  description     9884 non-null   object \n",
      " 22  county          0 non-null      float64\n",
      " 23  state           9884 non-null   object \n",
      " 24  lat             9787 non-null   float64\n",
      " 25  long            9787 non-null   float64\n",
      " 26  posting_date    9884 non-null   object \n",
      " 27  price_category  9884 non-null   object \n",
      "dtypes: float64(4), int64(3), object(20), uint16(1)\n",
      "memory usage: 2.1+ MB\n"
     ]
    }
   ],
   "source": [
    "df_out.info()"
   ]
  },
  {
   "cell_type": "code",
   "execution_count": null,
   "metadata": {},
   "outputs": [],
   "source": []
  }
 ],
 "metadata": {
  "kernelspec": {
   "display_name": "Big_data",
   "language": "python",
   "name": "python3"
  },
  "language_info": {
   "codemirror_mode": {
    "name": "ipython",
    "version": 3
   },
   "file_extension": ".py",
   "mimetype": "text/x-python",
   "name": "python",
   "nbconvert_exporter": "python",
   "pygments_lexer": "ipython3",
   "version": "3.10.2"
  }
 },
 "nbformat": 4,
 "nbformat_minor": 2
}
